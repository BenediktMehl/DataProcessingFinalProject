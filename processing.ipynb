{
 "cells": [
  {
   "cell_type": "code",
   "execution_count": 25,
   "metadata": {},
   "outputs": [],
   "source": [
    "import pandas as pd\n",
    "import numpy as np\n",
    "import torch"
   ]
  },
  {
   "cell_type": "code",
   "execution_count": 26,
   "metadata": {},
   "outputs": [
    {
     "name": "stdout",
     "output_type": "stream",
     "text": [
      "Runs on cpu\n"
     ]
    }
   ],
   "source": [
    "if torch.cuda.is_available():\n",
    "    device = torch.device('cuda')\n",
    "    runs_on_gpu = True\n",
    "    from google.colab import drive\n",
    "    drive.mount('/content/drive')\n",
    "    directory = 'drive/MyDrive/'\n",
    "else:\n",
    "    device = torch.device('cpu')\n",
    "    runs_on_gpu = False\n",
    "    directory = ''\n",
    "print(f\"Runs on {device.type}\")"
   ]
  },
  {
   "cell_type": "code",
   "execution_count": 27,
   "metadata": {},
   "outputs": [
    {
     "name": "stdout",
     "output_type": "stream",
     "text": [
      "<class 'pandas.core.frame.DataFrame'>\n",
      "Index: 20100 entries, 0 to 20099\n",
      "Data columns (total 11 columns):\n",
      " #   Column             Non-Null Count  Dtype         \n",
      "---  ------             --------------  -----         \n",
      " 0   directions         20100 non-null  object        \n",
      " 1   date               20100 non-null  datetime64[ns]\n",
      " 2   categories         20100 non-null  object        \n",
      " 3   desc               20100 non-null  object        \n",
      " 4   rating             20100 non-null  float64       \n",
      " 5   title              20100 non-null  object        \n",
      " 6   ingredients        20100 non-null  object        \n",
      " 7   num_categories     20100 non-null  int64         \n",
      " 8   num_ingredients    20100 non-null  int64         \n",
      " 9   num_directions     20100 non-null  int64         \n",
      " 10  numerical_columns  20100 non-null  float64       \n",
      "dtypes: datetime64[ns](1), float64(2), int64(3), object(5)\n",
      "memory usage: 1.8+ MB\n",
      "None\n"
     ]
    },
    {
     "data": {
      "text/html": [
       "<div>\n",
       "<style scoped>\n",
       "    .dataframe tbody tr th:only-of-type {\n",
       "        vertical-align: middle;\n",
       "    }\n",
       "\n",
       "    .dataframe tbody tr th {\n",
       "        vertical-align: top;\n",
       "    }\n",
       "\n",
       "    .dataframe thead th {\n",
       "        text-align: right;\n",
       "    }\n",
       "</style>\n",
       "<table border=\"1\" class=\"dataframe\">\n",
       "  <thead>\n",
       "    <tr style=\"text-align: right;\">\n",
       "      <th></th>\n",
       "      <th>directions</th>\n",
       "      <th>date</th>\n",
       "      <th>categories</th>\n",
       "      <th>desc</th>\n",
       "      <th>rating</th>\n",
       "      <th>title</th>\n",
       "      <th>ingredients</th>\n",
       "      <th>num_categories</th>\n",
       "      <th>num_ingredients</th>\n",
       "      <th>num_directions</th>\n",
       "      <th>numerical_columns</th>\n",
       "    </tr>\n",
       "  </thead>\n",
       "  <tbody>\n",
       "    <tr>\n",
       "      <th>0</th>\n",
       "      <td>1. Place the stock, lentils, celery, carrot, t...</td>\n",
       "      <td>2006-09-01 04:00:00</td>\n",
       "      <td>[Sandwich, Bean, Fruit, Tomato, turkey, Vegeta...</td>\n",
       "      <td></td>\n",
       "      <td>2.500</td>\n",
       "      <td>Lentil, Apple, and Turkey Wrap</td>\n",
       "      <td>[4 cups low-sodium vegetable or chicken stock,...</td>\n",
       "      <td>11</td>\n",
       "      <td>15</td>\n",
       "      <td>3</td>\n",
       "      <td>-0.034044</td>\n",
       "    </tr>\n",
       "    <tr>\n",
       "      <th>1</th>\n",
       "      <td>Combine first 9 ingredients in heavy medium sa...</td>\n",
       "      <td>2004-08-20 04:00:00</td>\n",
       "      <td>[Food Processor, Onion, Pork, Bake, Bastille D...</td>\n",
       "      <td>This uses the same ingredients found in boudin...</td>\n",
       "      <td>4.375</td>\n",
       "      <td>Boudin Blanc Terrine with Red Onion Confit</td>\n",
       "      <td>[1 1/2 cups whipping cream, 2 medium onions, c...</td>\n",
       "      <td>11</td>\n",
       "      <td>28</td>\n",
       "      <td>5</td>\n",
       "      <td>-0.033669</td>\n",
       "    </tr>\n",
       "    <tr>\n",
       "      <th>2</th>\n",
       "      <td>In a large heavy saucepan cook diced fennel an...</td>\n",
       "      <td>2004-08-20 04:00:00</td>\n",
       "      <td>[Soup/Stew, Dairy, Potato, Vegetable, Fennel, ...</td>\n",
       "      <td></td>\n",
       "      <td>3.750</td>\n",
       "      <td>Potato and Fennel Soup Hodge</td>\n",
       "      <td>[1 fennel bulb (sometimes called anise), stalk...</td>\n",
       "      <td>7</td>\n",
       "      <td>6</td>\n",
       "      <td>2</td>\n",
       "      <td>-0.037781</td>\n",
       "    </tr>\n",
       "    <tr>\n",
       "      <th>3</th>\n",
       "      <td>Heat oil in heavy large skillet over medium-hi...</td>\n",
       "      <td>2009-03-27 04:00:00</td>\n",
       "      <td>[Fish, Olive, Tomato, Sauté, Low Fat, Low Cal,...</td>\n",
       "      <td>The Sicilian-style tomato sauce has tons of Me...</td>\n",
       "      <td>5.000</td>\n",
       "      <td>Mahi-Mahi in Tomato Olive Sauce</td>\n",
       "      <td>[2 tablespoons extra-virgin olive oil, 1 cup c...</td>\n",
       "      <td>17</td>\n",
       "      <td>10</td>\n",
       "      <td>2</td>\n",
       "      <td>-0.000106</td>\n",
       "    </tr>\n",
       "    <tr>\n",
       "      <th>4</th>\n",
       "      <td>Preheat oven to 350°F. Lightly grease 8x8x2-in...</td>\n",
       "      <td>2004-08-20 04:00:00</td>\n",
       "      <td>[Cheese, Dairy, Pasta, Vegetable, Side, Bake, ...</td>\n",
       "      <td></td>\n",
       "      <td>3.125</td>\n",
       "      <td>Spinach Noodle Casserole</td>\n",
       "      <td>[1 12-ounce package frozen spinach soufflé, th...</td>\n",
       "      <td>11</td>\n",
       "      <td>6</td>\n",
       "      <td>1</td>\n",
       "      <td>-0.034548</td>\n",
       "    </tr>\n",
       "  </tbody>\n",
       "</table>\n",
       "</div>"
      ],
      "text/plain": [
       "                                          directions                date  \\\n",
       "0  1. Place the stock, lentils, celery, carrot, t... 2006-09-01 04:00:00   \n",
       "1  Combine first 9 ingredients in heavy medium sa... 2004-08-20 04:00:00   \n",
       "2  In a large heavy saucepan cook diced fennel an... 2004-08-20 04:00:00   \n",
       "3  Heat oil in heavy large skillet over medium-hi... 2009-03-27 04:00:00   \n",
       "4  Preheat oven to 350°F. Lightly grease 8x8x2-in... 2004-08-20 04:00:00   \n",
       "\n",
       "                                          categories  \\\n",
       "0  [Sandwich, Bean, Fruit, Tomato, turkey, Vegeta...   \n",
       "1  [Food Processor, Onion, Pork, Bake, Bastille D...   \n",
       "2  [Soup/Stew, Dairy, Potato, Vegetable, Fennel, ...   \n",
       "3  [Fish, Olive, Tomato, Sauté, Low Fat, Low Cal,...   \n",
       "4  [Cheese, Dairy, Pasta, Vegetable, Side, Bake, ...   \n",
       "\n",
       "                                                desc  rating  \\\n",
       "0                                                      2.500   \n",
       "1  This uses the same ingredients found in boudin...   4.375   \n",
       "2                                                      3.750   \n",
       "3  The Sicilian-style tomato sauce has tons of Me...   5.000   \n",
       "4                                                      3.125   \n",
       "\n",
       "                                         title  \\\n",
       "0              Lentil, Apple, and Turkey Wrap    \n",
       "1  Boudin Blanc Terrine with Red Onion Confit    \n",
       "2                Potato and Fennel Soup Hodge    \n",
       "3             Mahi-Mahi in Tomato Olive Sauce    \n",
       "4                    Spinach Noodle Casserole    \n",
       "\n",
       "                                         ingredients  num_categories  \\\n",
       "0  [4 cups low-sodium vegetable or chicken stock,...              11   \n",
       "1  [1 1/2 cups whipping cream, 2 medium onions, c...              11   \n",
       "2  [1 fennel bulb (sometimes called anise), stalk...               7   \n",
       "3  [2 tablespoons extra-virgin olive oil, 1 cup c...              17   \n",
       "4  [1 12-ounce package frozen spinach soufflé, th...              11   \n",
       "\n",
       "   num_ingredients  num_directions  numerical_columns  \n",
       "0               15               3          -0.034044  \n",
       "1               28               5          -0.033669  \n",
       "2                6               2          -0.037781  \n",
       "3               10               2          -0.000106  \n",
       "4                6               1          -0.034548  "
      ]
     },
     "execution_count": 27,
     "metadata": {},
     "output_type": "execute_result"
    }
   ],
   "source": [
    "data = pd.read_json('preprocessed_recipes.json')\n",
    "print(data.info())\n",
    "interesting_columns = ['num_categories', 'num_ingredients', 'num_directions', 'numerical_columns']\n",
    "data.head()"
   ]
  },
  {
   "cell_type": "code",
   "execution_count": 28,
   "metadata": {},
   "outputs": [],
   "source": [
    "def load_tfidf():\n",
    "    return pd.read_pickle('tfidf.pkl')\n",
    "\n",
    "def load_word2vec():\n",
    "    return np.load(\"word2vec.npy\")\n",
    "\n",
    "def load_context_embedding():\n",
    "    return np.load(\"context_embedding.npy\")"
   ]
  },
  {
   "cell_type": "markdown",
   "metadata": {},
   "source": [
    "# 3 Basic Project\n",
    "The basic project will consist of solving a regression task, comparing the performance obtained using different vectorizations of the documents and at least two different machine learning strategies, as described below. \n",
    "\n",
    "You should use the information in the directions and/or desc variables for all steps of the project, possibly combining this information with metadata from other variables. You should use appropriate metrics for evaluating this task. The performance of the different methods should be estimated using a validation methodology, which you should also explain in the documentation. You should provide a description of the methodology used and analyze the performance obtained according to the input variables.\n",
    "Keep in mind that the goal is to describe the work carried out and critically analyze the results obtained. Support this with graphs or other representations you consider appropriate. There is no need to describe the algorithms used, but you should explain how you tuned their parameters."
   ]
  },
  {
   "cell_type": "markdown",
   "metadata": {},
   "source": [
    "## Baseline"
   ]
  },
  {
   "cell_type": "code",
   "execution_count": 29,
   "metadata": {},
   "outputs": [
    {
     "name": "stdout",
     "output_type": "stream",
     "text": [
      "Mean rating: 3.7130597014925373 and MSE: 1.8039448048934432\n"
     ]
    }
   ],
   "source": [
    "mean_rating = np.mean(data['rating'])\n",
    "baseline_mse = np.mean((data['rating'] - mean_rating)**2)\n",
    "print(f\"Mean rating: {mean_rating} and MSE: {baseline_mse}\")"
   ]
  },
  {
   "cell_type": "code",
   "execution_count": 30,
   "metadata": {},
   "outputs": [
    {
     "name": "stdout",
     "output_type": "stream",
     "text": [
      "MSE: 2.242109763681592\n"
     ]
    }
   ],
   "source": [
    "most_used_rating = 4.375\n",
    "mse = np.mean((data['rating'] - most_used_rating)**2)\n",
    "print(f\"MSE: {mse}\")"
   ]
  },
  {
   "cell_type": "markdown",
   "metadata": {},
   "source": [
    "## 3.4\n",
    "Training and evaluation of regression models using at least the following two machine learning strategies:\n",
    "- Neural networks using PyTorch for implementation.\n",
    "- At least one other technique implemented in the Scikit-learn library\n",
    "(e.g., K-NN, SVM, Random Forest, etc.)"
   ]
  },
  {
   "cell_type": "markdown",
   "metadata": {},
   "source": [
    "### Neural networks using PyTorch for implementation."
   ]
  },
  {
   "cell_type": "code",
   "execution_count": 31,
   "metadata": {},
   "outputs": [],
   "source": [
    "import torch.nn as nn\n",
    "import torch.optim as optim\n",
    "from sklearn.model_selection import train_test_split\n",
    "import seaborn as sns"
   ]
  },
  {
   "cell_type": "code",
   "execution_count": 38,
   "metadata": {},
   "outputs": [],
   "source": [
    "class Model(nn.Module): #this is the model we will use\n",
    "    def __init__(self, input_size):\n",
    "        super(Model, self).__init__()\n",
    "        self.linear_relu_stack = nn.Sequential(\n",
    "            nn.Linear(input_size, int(input_size/2)),\n",
    "            nn.ReLU(),\n",
    "            nn.Linear(int(input_size/2), 256),\n",
    "            nn.ReLU(),\n",
    "            nn.Linear(256, 128),\n",
    "            nn.ReLU(),\n",
    "            #nn.Linear(128, 8),\n",
    "            #nn.ReLU(),\n",
    "            #nn.Dropout(0.2),\n",
    "            nn.Linear(128, 1)\n",
    "        )\n",
    "        \n",
    "    def forward(self, x):\n",
    "        return self.linear_relu_stack(x)"
   ]
  },
  {
   "cell_type": "code",
   "execution_count": 53,
   "metadata": {},
   "outputs": [],
   "source": [
    "X = load_context_embedding()"
   ]
  },
  {
   "cell_type": "code",
   "execution_count": 54,
   "metadata": {},
   "outputs": [],
   "source": [
    "def print_state(epoch, num_epochs, loss, model, X_test, y_test, loss_function, hist):\n",
    "    print(f'Epoch {epoch}/{num_epochs}')\n",
    "    print(f'-- Loss: {loss.item():.4f}')\n",
    "\n",
    "    with torch.no_grad():\n",
    "        model.eval()\n",
    "        test_outputs = torch.round(model(X_test))\n",
    "    \n",
    "    test_loss = loss_function(test_outputs, y_test)\n",
    "    print(f'-- Final test mse: {test_loss.item():.4f}')\n",
    "    print(f\"-- Compared to baseline mse: {baseline_mse / test_loss * 100:.0f}%\")\n",
    "    hist[0].append(loss.item())\n",
    "    hist[1].append(test_loss.item())\n",
    "\n",
    "def neural_network(X, y):\n",
    "    # this is the history of the training to plot later\n",
    "    hist = (list(), list())\n",
    "\n",
    "    #prepare the data\n",
    "    X_train, X_test, y_train, y_test = list(map(lambda x: torch.FloatTensor(x), train_test_split(X, y, test_size=0.2, random_state=42)))\n",
    "    y_train = torch.FloatTensor(y_train).unsqueeze(1)\n",
    "    y_test = torch.FloatTensor(y_test).unsqueeze(1)\n",
    "\n",
    "    #initialize the model and the optimizer\n",
    "    model = Model(X_train.shape[1])\n",
    "    loss_function = nn.MSELoss()\n",
    "    adam_optimizer = optim.Adam(model.parameters(), lr=0.001)\n",
    "\n",
    "    #training loop\n",
    "    num_epochs = 1000\n",
    "    for epoch in range(num_epochs):\n",
    "        outputs = model(X_train)\n",
    "        \n",
    "        loss = loss_function(outputs, y_train)\n",
    "        \n",
    "        adam_optimizer.zero_grad()\n",
    "        loss.backward()\n",
    "        adam_optimizer.step()\n",
    "\n",
    "        if (epoch % 10 == 0):\n",
    "            print_state(epoch, num_epochs, loss, model, X_test, y_test, loss_function, hist)\n",
    "\n",
    "    print_state(epoch, num_epochs, loss, model, X_test, y_test, loss_function, hist)\n",
    "    return hist\n",
    "    "
   ]
  },
  {
   "cell_type": "code",
   "execution_count": 55,
   "metadata": {},
   "outputs": [
    {
     "name": "stdout",
     "output_type": "stream",
     "text": [
      "Epoch 0/1000\n",
      "-- Loss: 15.2658\n",
      "-- Final test mse: 15.4966\n",
      "-- Compared to baseline mse: 12%\n",
      "Epoch 10/1000\n",
      "-- Loss: 4.4277\n",
      "-- Final test mse: 3.1843\n",
      "-- Compared to baseline mse: 57%\n",
      "Epoch 20/1000\n",
      "-- Loss: 2.1947\n",
      "-- Final test mse: 2.1028\n",
      "-- Compared to baseline mse: 86%\n",
      "Epoch 30/1000\n",
      "-- Loss: 1.6698\n",
      "-- Final test mse: 1.7947\n",
      "-- Compared to baseline mse: 101%\n",
      "Epoch 40/1000\n",
      "-- Loss: 1.6852\n",
      "-- Final test mse: 1.7625\n",
      "-- Compared to baseline mse: 102%\n",
      "Epoch 50/1000\n",
      "-- Loss: 1.6813\n",
      "-- Final test mse: 1.7433\n",
      "-- Compared to baseline mse: 103%\n",
      "Epoch 60/1000\n",
      "-- Loss: 1.6331\n",
      "-- Final test mse: 1.6915\n",
      "-- Compared to baseline mse: 107%\n",
      "Epoch 70/1000\n",
      "-- Loss: 1.6262\n",
      "-- Final test mse: 1.6787\n",
      "-- Compared to baseline mse: 107%\n",
      "Epoch 80/1000\n",
      "-- Loss: 1.6179\n",
      "-- Final test mse: 1.6787\n",
      "-- Compared to baseline mse: 107%\n",
      "Epoch 90/1000\n",
      "-- Loss: 1.6117\n",
      "-- Final test mse: 1.6731\n",
      "-- Compared to baseline mse: 108%\n",
      "Epoch 100/1000\n",
      "-- Loss: 1.6057\n",
      "-- Final test mse: 1.6700\n",
      "-- Compared to baseline mse: 108%\n",
      "Epoch 110/1000\n",
      "-- Loss: 1.6002\n",
      "-- Final test mse: 1.6621\n",
      "-- Compared to baseline mse: 109%\n",
      "Epoch 120/1000\n",
      "-- Loss: 1.5939\n",
      "-- Final test mse: 1.6527\n",
      "-- Compared to baseline mse: 109%\n",
      "Epoch 130/1000\n",
      "-- Loss: 1.5864\n",
      "-- Final test mse: 1.6425\n",
      "-- Compared to baseline mse: 110%\n",
      "Epoch 140/1000\n",
      "-- Loss: 1.5774\n",
      "-- Final test mse: 1.6438\n",
      "-- Compared to baseline mse: 110%\n",
      "Epoch 150/1000\n",
      "-- Loss: 1.5665\n",
      "-- Final test mse: 1.6365\n",
      "-- Compared to baseline mse: 110%\n",
      "Epoch 160/1000\n",
      "-- Loss: 1.5549\n",
      "-- Final test mse: 1.6275\n",
      "-- Compared to baseline mse: 111%\n",
      "Epoch 170/1000\n",
      "-- Loss: 1.5436\n",
      "-- Final test mse: 1.6233\n",
      "-- Compared to baseline mse: 111%\n",
      "Epoch 180/1000\n",
      "-- Loss: 1.5328\n",
      "-- Final test mse: 1.6153\n",
      "-- Compared to baseline mse: 112%\n",
      "Epoch 190/1000\n",
      "-- Loss: 1.5231\n",
      "-- Final test mse: 1.6018\n",
      "-- Compared to baseline mse: 113%\n",
      "Epoch 200/1000\n",
      "-- Loss: 1.5133\n",
      "-- Final test mse: 1.6050\n",
      "-- Compared to baseline mse: 112%\n",
      "Epoch 210/1000\n",
      "-- Loss: 1.5041\n",
      "-- Final test mse: 1.5894\n",
      "-- Compared to baseline mse: 113%\n",
      "Epoch 220/1000\n",
      "-- Loss: 1.4963\n",
      "-- Final test mse: 1.5972\n",
      "-- Compared to baseline mse: 113%\n",
      "Epoch 230/1000\n",
      "-- Loss: 1.4864\n",
      "-- Final test mse: 1.5956\n",
      "-- Compared to baseline mse: 113%\n",
      "Epoch 240/1000\n",
      "-- Loss: 1.4777\n",
      "-- Final test mse: 1.5974\n",
      "-- Compared to baseline mse: 113%\n",
      "Epoch 250/1000\n",
      "-- Loss: 1.4692\n",
      "-- Final test mse: 1.6003\n",
      "-- Compared to baseline mse: 113%\n",
      "Epoch 260/1000\n",
      "-- Loss: 1.4596\n",
      "-- Final test mse: 1.5992\n",
      "-- Compared to baseline mse: 113%\n",
      "Epoch 270/1000\n",
      "-- Loss: 1.4517\n",
      "-- Final test mse: 1.5932\n",
      "-- Compared to baseline mse: 113%\n",
      "Epoch 280/1000\n",
      "-- Loss: 1.4430\n",
      "-- Final test mse: 1.5859\n",
      "-- Compared to baseline mse: 114%\n",
      "Epoch 290/1000\n",
      "-- Loss: 1.4378\n",
      "-- Final test mse: 1.5829\n",
      "-- Compared to baseline mse: 114%\n",
      "Epoch 300/1000\n",
      "-- Loss: 1.4305\n",
      "-- Final test mse: 1.5837\n",
      "-- Compared to baseline mse: 114%\n",
      "Epoch 310/1000\n",
      "-- Loss: 1.4195\n",
      "-- Final test mse: 1.5864\n",
      "-- Compared to baseline mse: 114%\n",
      "Epoch 320/1000\n",
      "-- Loss: 1.4115\n",
      "-- Final test mse: 1.5789\n",
      "-- Compared to baseline mse: 114%\n",
      "Epoch 330/1000\n",
      "-- Loss: 1.4049\n",
      "-- Final test mse: 1.5948\n",
      "-- Compared to baseline mse: 113%\n",
      "Epoch 340/1000\n",
      "-- Loss: 1.4485\n",
      "-- Final test mse: 1.6187\n",
      "-- Compared to baseline mse: 111%\n",
      "Epoch 350/1000\n",
      "-- Loss: 1.3921\n",
      "-- Final test mse: 1.5937\n",
      "-- Compared to baseline mse: 113%\n",
      "Epoch 360/1000\n",
      "-- Loss: 1.3734\n",
      "-- Final test mse: 1.5827\n",
      "-- Compared to baseline mse: 114%\n",
      "Epoch 370/1000\n",
      "-- Loss: 1.3665\n",
      "-- Final test mse: 1.5944\n",
      "-- Compared to baseline mse: 113%\n",
      "Epoch 380/1000\n",
      "-- Loss: 1.3612\n",
      "-- Final test mse: 1.6287\n",
      "-- Compared to baseline mse: 111%\n",
      "Epoch 390/1000\n",
      "-- Loss: 1.3535\n",
      "-- Final test mse: 1.6274\n",
      "-- Compared to baseline mse: 111%\n",
      "Epoch 400/1000\n",
      "-- Loss: 1.3474\n",
      "-- Final test mse: 1.6266\n",
      "-- Compared to baseline mse: 111%\n",
      "Epoch 410/1000\n",
      "-- Loss: 1.3231\n",
      "-- Final test mse: 1.6654\n",
      "-- Compared to baseline mse: 108%\n",
      "Epoch 420/1000\n",
      "-- Loss: 1.3408\n",
      "-- Final test mse: 1.6332\n",
      "-- Compared to baseline mse: 110%\n",
      "Epoch 430/1000\n",
      "-- Loss: 1.2951\n",
      "-- Final test mse: 1.6248\n",
      "-- Compared to baseline mse: 111%\n",
      "Epoch 440/1000\n",
      "-- Loss: 1.3015\n",
      "-- Final test mse: 1.6539\n",
      "-- Compared to baseline mse: 109%\n",
      "Epoch 450/1000\n",
      "-- Loss: 1.2832\n",
      "-- Final test mse: 1.6616\n",
      "-- Compared to baseline mse: 109%\n",
      "Epoch 460/1000\n",
      "-- Loss: 1.2843\n",
      "-- Final test mse: 1.6330\n",
      "-- Compared to baseline mse: 110%\n",
      "Epoch 470/1000\n",
      "-- Loss: 1.2484\n",
      "-- Final test mse: 1.6292\n",
      "-- Compared to baseline mse: 111%\n",
      "Epoch 480/1000\n",
      "-- Loss: 1.2350\n",
      "-- Final test mse: 1.6290\n",
      "-- Compared to baseline mse: 111%\n",
      "Epoch 490/1000\n",
      "-- Loss: 1.2312\n",
      "-- Final test mse: 1.6808\n",
      "-- Compared to baseline mse: 107%\n",
      "Epoch 500/1000\n",
      "-- Loss: 1.2799\n",
      "-- Final test mse: 1.7372\n",
      "-- Compared to baseline mse: 104%\n",
      "Epoch 510/1000\n",
      "-- Loss: 1.2186\n",
      "-- Final test mse: 1.6948\n",
      "-- Compared to baseline mse: 106%\n",
      "Epoch 520/1000\n",
      "-- Loss: 1.1932\n",
      "-- Final test mse: 1.6684\n",
      "-- Compared to baseline mse: 108%\n",
      "Epoch 530/1000\n",
      "-- Loss: 1.1672\n",
      "-- Final test mse: 1.6459\n",
      "-- Compared to baseline mse: 110%\n",
      "Epoch 540/1000\n",
      "-- Loss: 1.1845\n",
      "-- Final test mse: 1.7012\n",
      "-- Compared to baseline mse: 106%\n",
      "Epoch 550/1000\n",
      "-- Loss: 1.1844\n",
      "-- Final test mse: 1.6246\n",
      "-- Compared to baseline mse: 111%\n",
      "Epoch 560/1000\n",
      "-- Loss: 1.1356\n",
      "-- Final test mse: 1.6345\n",
      "-- Compared to baseline mse: 110%\n",
      "Epoch 570/1000\n",
      "-- Loss: 1.1704\n",
      "-- Final test mse: 1.7200\n",
      "-- Compared to baseline mse: 105%\n",
      "Epoch 580/1000\n",
      "-- Loss: 1.1356\n",
      "-- Final test mse: 1.6960\n",
      "-- Compared to baseline mse: 106%\n",
      "Epoch 590/1000\n",
      "-- Loss: 1.1210\n",
      "-- Final test mse: 1.7167\n",
      "-- Compared to baseline mse: 105%\n",
      "Epoch 600/1000\n",
      "-- Loss: 1.1109\n",
      "-- Final test mse: 1.6472\n",
      "-- Compared to baseline mse: 110%\n",
      "Epoch 610/1000\n",
      "-- Loss: 1.0743\n",
      "-- Final test mse: 1.6858\n",
      "-- Compared to baseline mse: 107%\n",
      "Epoch 620/1000\n",
      "-- Loss: 1.0690\n",
      "-- Final test mse: 1.6987\n",
      "-- Compared to baseline mse: 106%\n",
      "Epoch 630/1000\n",
      "-- Loss: 1.1106\n",
      "-- Final test mse: 1.7101\n",
      "-- Compared to baseline mse: 105%\n",
      "Epoch 640/1000\n",
      "-- Loss: 1.1065\n",
      "-- Final test mse: 1.7254\n",
      "-- Compared to baseline mse: 105%\n",
      "Epoch 650/1000\n",
      "-- Loss: 1.0470\n",
      "-- Final test mse: 1.6828\n",
      "-- Compared to baseline mse: 107%\n",
      "Epoch 660/1000\n",
      "-- Loss: 1.0451\n",
      "-- Final test mse: 1.6741\n",
      "-- Compared to baseline mse: 108%\n",
      "Epoch 670/1000\n",
      "-- Loss: 1.0692\n",
      "-- Final test mse: 1.6746\n",
      "-- Compared to baseline mse: 108%\n",
      "Epoch 680/1000\n",
      "-- Loss: 1.0616\n",
      "-- Final test mse: 1.7230\n",
      "-- Compared to baseline mse: 105%\n",
      "Epoch 690/1000\n",
      "-- Loss: 1.0056\n",
      "-- Final test mse: 1.7058\n",
      "-- Compared to baseline mse: 106%\n",
      "Epoch 700/1000\n",
      "-- Loss: 1.0100\n",
      "-- Final test mse: 1.7337\n",
      "-- Compared to baseline mse: 104%\n",
      "Epoch 710/1000\n",
      "-- Loss: 0.9938\n",
      "-- Final test mse: 1.7350\n",
      "-- Compared to baseline mse: 104%\n",
      "Epoch 720/1000\n",
      "-- Loss: 0.9643\n",
      "-- Final test mse: 1.7700\n",
      "-- Compared to baseline mse: 102%\n",
      "Epoch 730/1000\n",
      "-- Loss: 1.0522\n",
      "-- Final test mse: 1.7273\n",
      "-- Compared to baseline mse: 104%\n",
      "Epoch 740/1000\n",
      "-- Loss: 0.9991\n",
      "-- Final test mse: 1.6529\n",
      "-- Compared to baseline mse: 109%\n",
      "Epoch 750/1000\n",
      "-- Loss: 0.9390\n",
      "-- Final test mse: 1.7093\n",
      "-- Compared to baseline mse: 106%\n",
      "Epoch 760/1000\n",
      "-- Loss: 0.9171\n",
      "-- Final test mse: 1.6715\n",
      "-- Compared to baseline mse: 108%\n",
      "Epoch 770/1000\n",
      "-- Loss: 0.9157\n",
      "-- Final test mse: 1.7765\n",
      "-- Compared to baseline mse: 102%\n",
      "Epoch 780/1000\n",
      "-- Loss: 1.0257\n",
      "-- Final test mse: 1.6522\n",
      "-- Compared to baseline mse: 109%\n",
      "Epoch 790/1000\n",
      "-- Loss: 1.0237\n",
      "-- Final test mse: 1.8221\n",
      "-- Compared to baseline mse: 99%\n",
      "Epoch 800/1000\n",
      "-- Loss: 0.9888\n",
      "-- Final test mse: 1.7280\n",
      "-- Compared to baseline mse: 104%\n",
      "Epoch 810/1000\n",
      "-- Loss: 0.9517\n",
      "-- Final test mse: 1.6316\n",
      "-- Compared to baseline mse: 111%\n",
      "Epoch 820/1000\n",
      "-- Loss: 0.8931\n",
      "-- Final test mse: 1.6939\n",
      "-- Compared to baseline mse: 106%\n",
      "Epoch 830/1000\n",
      "-- Loss: 0.8831\n",
      "-- Final test mse: 1.7480\n",
      "-- Compared to baseline mse: 103%\n",
      "Epoch 840/1000\n",
      "-- Loss: 0.8845\n",
      "-- Final test mse: 1.6992\n",
      "-- Compared to baseline mse: 106%\n",
      "Epoch 850/1000\n",
      "-- Loss: 0.9119\n",
      "-- Final test mse: 1.6726\n",
      "-- Compared to baseline mse: 108%\n",
      "Epoch 860/1000\n",
      "-- Loss: 0.8407\n",
      "-- Final test mse: 1.8203\n",
      "-- Compared to baseline mse: 99%\n",
      "Epoch 870/1000\n",
      "-- Loss: 1.0194\n",
      "-- Final test mse: 1.8138\n",
      "-- Compared to baseline mse: 99%\n",
      "Epoch 880/1000\n",
      "-- Loss: 0.8974\n",
      "-- Final test mse: 1.7527\n",
      "-- Compared to baseline mse: 103%\n",
      "Epoch 890/1000\n",
      "-- Loss: 0.8687\n",
      "-- Final test mse: 1.7112\n",
      "-- Compared to baseline mse: 105%\n",
      "Epoch 900/1000\n",
      "-- Loss: 0.8195\n",
      "-- Final test mse: 1.7036\n",
      "-- Compared to baseline mse: 106%\n",
      "Epoch 910/1000\n",
      "-- Loss: 0.8015\n",
      "-- Final test mse: 1.7242\n",
      "-- Compared to baseline mse: 105%\n",
      "Epoch 920/1000\n",
      "-- Loss: 0.8030\n",
      "-- Final test mse: 1.7047\n",
      "-- Compared to baseline mse: 106%\n",
      "Epoch 930/1000\n",
      "-- Loss: 0.7800\n",
      "-- Final test mse: 1.7362\n",
      "-- Compared to baseline mse: 104%\n",
      "Epoch 940/1000\n",
      "-- Loss: 0.8552\n",
      "-- Final test mse: 1.8594\n",
      "-- Compared to baseline mse: 97%\n",
      "Epoch 950/1000\n",
      "-- Loss: 0.8597\n",
      "-- Final test mse: 1.8062\n",
      "-- Compared to baseline mse: 100%\n",
      "Epoch 960/1000\n",
      "-- Loss: 1.1671\n",
      "-- Final test mse: 1.8497\n",
      "-- Compared to baseline mse: 98%\n",
      "Epoch 970/1000\n",
      "-- Loss: 0.9371\n",
      "-- Final test mse: 1.7604\n",
      "-- Compared to baseline mse: 102%\n",
      "Epoch 980/1000\n",
      "-- Loss: 0.8114\n",
      "-- Final test mse: 1.7533\n",
      "-- Compared to baseline mse: 103%\n",
      "Epoch 990/1000\n",
      "-- Loss: 0.7997\n",
      "-- Final test mse: 1.7219\n",
      "-- Compared to baseline mse: 105%\n",
      "Epoch 999/1000\n",
      "-- Loss: 0.7510\n",
      "-- Final test mse: 1.7030\n",
      "-- Compared to baseline mse: 106%\n"
     ]
    }
   ],
   "source": [
    "hist = neural_network(X, data['rating'].to_numpy())"
   ]
  },
  {
   "cell_type": "code",
   "execution_count": 56,
   "metadata": {},
   "outputs": [
    {
     "data": {
      "text/plain": [
       "<Axes: >"
      ]
     },
     "execution_count": 56,
     "metadata": {},
     "output_type": "execute_result"
    },
    {
     "data": {
      "image/png": "[encoded data removed]",
      "text/plain": [
       "<Figure size 640x480 with 1 Axes>"
      ]
     },
     "metadata": {},
     "output_type": "display_data"
    }
   ],
   "source": [
    "sns.lineplot(x=range(len(hist[0][1:])), y=hist[0][1:], label='Train')\n",
    "sns.lineplot(x=range(len(hist[1][1:])), y=hist[1][1:], label='Test')"
   ]
  },
  {
   "cell_type": "markdown",
   "metadata": {},
   "source": [
    "### - At least one other technique implemented in the Scikit-learn library\n",
    "(e.g., K-NN, SVM, Random Forest, etc.)"
   ]
  },
  {
   "cell_type": "code",
   "execution_count": 57,
   "metadata": {},
   "outputs": [],
   "source": [
    "from sklearn.ensemble import RandomForestRegressor\n",
    "from sklearn.svm import SVR\n",
    "from sklearn.ensemble import GradientBoostingRegressor\n",
    "from sklearn.model_selection import cross_val_score"
   ]
  },
  {
   "cell_type": "code",
   "execution_count": 58,
   "metadata": {},
   "outputs": [],
   "source": [
    "def fit_and_evaluate(model, X, y):\n",
    "    scores = cross_val_score(model, X, y, cv=2, scoring='neg_mean_squared_error')\n",
    "    mean_score = scores.mean() * -1\n",
    "    print(f'-- Mean MSE: {mean_score}')\n",
    "    print(f\"-- Compared to baseline mse: {baseline_mse / mean_score * 100:.0f}%\")"
   ]
  },
  {
   "cell_type": "code",
   "execution_count": 59,
   "metadata": {},
   "outputs": [
    {
     "name": "stdout",
     "output_type": "stream",
     "text": [
      "GradientBoostingRegressor() with interesting_columns\n",
      "-- Mean MSE: 1.6609051640225028\n",
      "-- Compared to baseline mse: 109%\n",
      "GradientBoostingRegressor() with tfidf\n",
      "-- Mean MSE: 1.5411751709753745\n",
      "-- Compared to baseline mse: 117%\n",
      "GradientBoostingRegressor() with word2vec\n",
      "-- Mean MSE: 1.681350425842794\n",
      "-- Compared to baseline mse: 107%\n",
      "GradientBoostingRegressor() with context_embedding\n",
      "-- Mean MSE: 1.5304366199453243\n",
      "-- Compared to baseline mse: 118%\n"
     ]
    }
   ],
   "source": [
    "data_configs = {\n",
    "    'interesting_columns': data[interesting_columns],\n",
    "    'tfidf': load_tfidf(),\n",
    "    'word2vec': load_word2vec(),\n",
    "    'context_embedding': load_context_embedding(),\n",
    "}\n",
    "\n",
    "models = [GradientBoostingRegressor()] \n",
    "for model in models:\n",
    "    for key, X in data_configs.items():\n",
    "        print(f\"{model} with {key}\")\n",
    "        fit_and_evaluate(model, X, data['rating'])"
   ]
  },
  {
   "cell_type": "markdown",
   "metadata": {},
   "source": []
  },
  {
   "cell_type": "markdown",
   "metadata": {},
   "source": [
    "## 3.5\n",
    "Comparison of the results obtained in step 3 with fine-tuning a pre-trained model from Hugging Face. In this step, you are asked to use a transformer model with a regression head.\n",
    "\n",
    "Tutorial used: https://discuss.huggingface.co/t/how-to-set-up-trainer-for-a-regression/12994"
   ]
  },
  {
   "cell_type": "code",
   "execution_count": 11,
   "metadata": {},
   "outputs": [],
   "source": [
    "from transformers import BertTokenizer, BertForSequenceClassification\n",
    "from transformers import Trainer, TrainingArguments\n",
    "from sklearn.model_selection import train_test_split  "
   ]
  },
  {
   "cell_type": "code",
   "execution_count": 28,
   "metadata": {},
   "outputs": [
    {
     "name": "stderr",
     "output_type": "stream",
     "text": [
      "Some weights of BertForSequenceClassification were not initialized from the model checkpoint at bert-base-uncased and are newly initialized: ['classifier.bias', 'classifier.weight']\n",
      "You should probably TRAIN this model on a down-stream task to be able to use it for predictions and inference.\n"
     ]
    }
   ],
   "source": [
    "tokenizer = BertTokenizer.from_pretrained('bert-base-uncased')\n",
    "# we put number of labels to 1 because we are doing regression\n",
    "model = BertForSequenceClassification.from_pretrained('bert-base-uncased', num_labels=1)\n",
    "model.to(device)"
   ]
  },
  {
   "cell_type": "code",
   "execution_count": 29,
   "metadata": {},
   "outputs": [],
   "source": [
    "X = data['directions'].tolist()\n",
    "y = data['rating'].to_numpy(dtype='float32')\n",
    "X_train, X_test, y_train, y_test = train_test_split(X, y, test_size=0.2, random_state=42)"
   ]
  },
  {
   "cell_type": "code",
   "execution_count": null,
   "metadata": {},
   "outputs": [],
   "source": [
    "X_train = tokenizer(X_train, truncation=True, padding=True, max_length=128)\n",
    "X_test = tokenizer(X_test, truncation=True, padding=True, max_length=128)"
   ]
  },
  {
   "cell_type": "code",
   "execution_count": 30,
   "metadata": {},
   "outputs": [
    {
     "name": "stdout",
     "output_type": "stream",
     "text": [
      "Start training\n"
     ]
    },
    {
     "name": "stderr",
     "output_type": "stream",
     "text": [
      "                                        \n",
      "  0%|          | 0/3015 [05:41<?, ?it/s]         "
     ]
    },
    {
     "name": "stdout",
     "output_type": "stream",
     "text": [
      "{'loss': 13.6354, 'grad_norm': 110.56185913085938, 'learning_rate': 1.0000000000000002e-06, 'epoch': 0.01}\n"
     ]
    },
    {
     "name": "stderr",
     "output_type": "stream",
     "text": [
      "                                        \n",
      "  0%|          | 0/3015 [05:44<?, ?it/s]         "
     ]
    },
    {
     "name": "stdout",
     "output_type": "stream",
     "text": [
      "{'loss': 12.4936, 'grad_norm': 127.78746032714844, 'learning_rate': 2.0000000000000003e-06, 'epoch': 0.02}\n"
     ]
    },
    {
     "name": "stderr",
     "output_type": "stream",
     "text": [
      "                                        \n",
      "  0%|          | 0/3015 [05:48<?, ?it/s]         "
     ]
    },
    {
     "name": "stdout",
     "output_type": "stream",
     "text": [
      "{'loss': 10.6723, 'grad_norm': 95.80782318115234, 'learning_rate': 3e-06, 'epoch': 0.03}\n"
     ]
    },
    {
     "name": "stderr",
     "output_type": "stream",
     "text": [
      "                                        \n",
      "  0%|          | 0/3015 [05:51<?, ?it/s]         "
     ]
    },
    {
     "name": "stdout",
     "output_type": "stream",
     "text": [
      "{'loss': 8.7736, 'grad_norm': 114.6506118774414, 'learning_rate': 4.000000000000001e-06, 'epoch': 0.04}\n"
     ]
    },
    {
     "name": "stderr",
     "output_type": "stream",
     "text": [
      "                                        \n",
      "  0%|          | 0/3015 [05:55<?, ?it/s]         "
     ]
    },
    {
     "name": "stdout",
     "output_type": "stream",
     "text": [
      "{'loss': 7.0099, 'grad_norm': 84.49993896484375, 'learning_rate': 5e-06, 'epoch': 0.05}\n"
     ]
    },
    {
     "name": "stderr",
     "output_type": "stream",
     "text": []
    },
    {
     "ename": "KeyboardInterrupt",
     "evalue": "",
     "output_type": "error",
     "traceback": [
      "\u001b[0;31m---------------------------------------------------------------------------\u001b[0m",
      "\u001b[0;31mKeyboardInterrupt\u001b[0m                         Traceback (most recent call last)",
      "Cell \u001b[0;32mIn[30], line 43\u001b[0m\n\u001b[1;32m     40\u001b[0m \u001b[38;5;28mprint\u001b[39m(\u001b[38;5;124m\"\u001b[39m\u001b[38;5;124mStart training\u001b[39m\u001b[38;5;124m\"\u001b[39m)\n\u001b[1;32m     42\u001b[0m \u001b[38;5;66;03m# Start fine-tuning\u001b[39;00m\n\u001b[0;32m---> 43\u001b[0m \u001b[43mtrainer\u001b[49m\u001b[38;5;241;43m.\u001b[39;49m\u001b[43mtrain\u001b[49m\u001b[43m(\u001b[49m\u001b[43m)\u001b[49m\n\u001b[1;32m     45\u001b[0m \u001b[38;5;66;03m# Evaluate the model\u001b[39;00m\n\u001b[1;32m     46\u001b[0m trainer\u001b[38;5;241m.\u001b[39mevaluate()\n",
      "File \u001b[0;32m~/Library/CloudStorage/OneDrive-MaibornWolffGmbH/Privat/Studium/Master_V/DataProcessing/Code/lib/python3.12/site-packages/transformers/trainer.py:2164\u001b[0m, in \u001b[0;36mTrainer.train\u001b[0;34m(self, resume_from_checkpoint, trial, ignore_keys_for_eval, **kwargs)\u001b[0m\n\u001b[1;32m   2162\u001b[0m         hf_hub_utils\u001b[38;5;241m.\u001b[39menable_progress_bars()\n\u001b[1;32m   2163\u001b[0m \u001b[38;5;28;01melse\u001b[39;00m:\n\u001b[0;32m-> 2164\u001b[0m     \u001b[38;5;28;01mreturn\u001b[39;00m \u001b[43minner_training_loop\u001b[49m\u001b[43m(\u001b[49m\n\u001b[1;32m   2165\u001b[0m \u001b[43m        \u001b[49m\u001b[43margs\u001b[49m\u001b[38;5;241;43m=\u001b[39;49m\u001b[43margs\u001b[49m\u001b[43m,\u001b[49m\n\u001b[1;32m   2166\u001b[0m \u001b[43m        \u001b[49m\u001b[43mresume_from_checkpoint\u001b[49m\u001b[38;5;241;43m=\u001b[39;49m\u001b[43mresume_from_checkpoint\u001b[49m\u001b[43m,\u001b[49m\n\u001b[1;32m   2167\u001b[0m \u001b[43m        \u001b[49m\u001b[43mtrial\u001b[49m\u001b[38;5;241;43m=\u001b[39;49m\u001b[43mtrial\u001b[49m\u001b[43m,\u001b[49m\n\u001b[1;32m   2168\u001b[0m \u001b[43m        \u001b[49m\u001b[43mignore_keys_for_eval\u001b[49m\u001b[38;5;241;43m=\u001b[39;49m\u001b[43mignore_keys_for_eval\u001b[49m\u001b[43m,\u001b[49m\n\u001b[1;32m   2169\u001b[0m \u001b[43m    \u001b[49m\u001b[43m)\u001b[49m\n",
      "File \u001b[0;32m~/Library/CloudStorage/OneDrive-MaibornWolffGmbH/Privat/Studium/Master_V/DataProcessing/Code/lib/python3.12/site-packages/transformers/trainer.py:2575\u001b[0m, in \u001b[0;36mTrainer._inner_training_loop\u001b[0;34m(self, batch_size, args, resume_from_checkpoint, trial, ignore_keys_for_eval)\u001b[0m\n\u001b[1;32m   2571\u001b[0m         grad_norm \u001b[38;5;241m=\u001b[39m _grad_norm\n\u001b[1;32m   2573\u001b[0m \u001b[38;5;28mself\u001b[39m\u001b[38;5;241m.\u001b[39mcontrol \u001b[38;5;241m=\u001b[39m \u001b[38;5;28mself\u001b[39m\u001b[38;5;241m.\u001b[39mcallback_handler\u001b[38;5;241m.\u001b[39mon_pre_optimizer_step(args, \u001b[38;5;28mself\u001b[39m\u001b[38;5;241m.\u001b[39mstate, \u001b[38;5;28mself\u001b[39m\u001b[38;5;241m.\u001b[39mcontrol)\n\u001b[0;32m-> 2575\u001b[0m \u001b[38;5;28;43mself\u001b[39;49m\u001b[38;5;241;43m.\u001b[39;49m\u001b[43moptimizer\u001b[49m\u001b[38;5;241;43m.\u001b[39;49m\u001b[43mstep\u001b[49m\u001b[43m(\u001b[49m\u001b[43m)\u001b[49m\n\u001b[1;32m   2577\u001b[0m \u001b[38;5;28mself\u001b[39m\u001b[38;5;241m.\u001b[39mcontrol \u001b[38;5;241m=\u001b[39m \u001b[38;5;28mself\u001b[39m\u001b[38;5;241m.\u001b[39mcallback_handler\u001b[38;5;241m.\u001b[39mon_optimizer_step(args, \u001b[38;5;28mself\u001b[39m\u001b[38;5;241m.\u001b[39mstate, \u001b[38;5;28mself\u001b[39m\u001b[38;5;241m.\u001b[39mcontrol)\n\u001b[1;32m   2579\u001b[0m optimizer_was_run \u001b[38;5;241m=\u001b[39m \u001b[38;5;129;01mnot\u001b[39;00m \u001b[38;5;28mself\u001b[39m\u001b[38;5;241m.\u001b[39maccelerator\u001b[38;5;241m.\u001b[39moptimizer_step_was_skipped\n",
      "File \u001b[0;32m~/Library/CloudStorage/OneDrive-MaibornWolffGmbH/Privat/Studium/Master_V/DataProcessing/Code/lib/python3.12/site-packages/accelerate/optimizer.py:178\u001b[0m, in \u001b[0;36mAcceleratedOptimizer.step\u001b[0;34m(self, closure)\u001b[0m\n\u001b[1;32m    176\u001b[0m         \u001b[38;5;28mself\u001b[39m\u001b[38;5;241m.\u001b[39m_accelerate_step_called \u001b[38;5;241m=\u001b[39m \u001b[38;5;28;01mFalse\u001b[39;00m\n\u001b[1;32m    177\u001b[0m     \u001b[38;5;28;01melse\u001b[39;00m:\n\u001b[0;32m--> 178\u001b[0m         \u001b[38;5;28;43mself\u001b[39;49m\u001b[38;5;241;43m.\u001b[39;49m\u001b[43moptimizer\u001b[49m\u001b[38;5;241;43m.\u001b[39;49m\u001b[43mstep\u001b[49m\u001b[43m(\u001b[49m\u001b[43mclosure\u001b[49m\u001b[43m)\u001b[49m\n\u001b[1;32m    179\u001b[0m \u001b[38;5;28;01mif\u001b[39;00m \u001b[38;5;28mself\u001b[39m\u001b[38;5;241m.\u001b[39maccelerator_state\u001b[38;5;241m.\u001b[39mdistributed_type \u001b[38;5;241m==\u001b[39m DistributedType\u001b[38;5;241m.\u001b[39mXLA:\n\u001b[1;32m    180\u001b[0m     \u001b[38;5;28mself\u001b[39m\u001b[38;5;241m.\u001b[39mgradient_state\u001b[38;5;241m.\u001b[39mis_xla_gradients_synced \u001b[38;5;241m=\u001b[39m \u001b[38;5;28;01mFalse\u001b[39;00m\n",
      "File \u001b[0;32m~/Library/CloudStorage/OneDrive-MaibornWolffGmbH/Privat/Studium/Master_V/DataProcessing/Code/lib/python3.12/site-packages/torch/optim/lr_scheduler.py:137\u001b[0m, in \u001b[0;36mLRScheduler.__init__.<locals>.patch_track_step_called.<locals>.wrap_step.<locals>.wrapper\u001b[0;34m(*args, **kwargs)\u001b[0m\n\u001b[1;32m    135\u001b[0m opt \u001b[38;5;241m=\u001b[39m opt_ref()\n\u001b[1;32m    136\u001b[0m opt\u001b[38;5;241m.\u001b[39m_opt_called \u001b[38;5;241m=\u001b[39m \u001b[38;5;28;01mTrue\u001b[39;00m  \u001b[38;5;66;03m# type: ignore[union-attr]\u001b[39;00m\n\u001b[0;32m--> 137\u001b[0m \u001b[38;5;28;01mreturn\u001b[39;00m \u001b[43mfunc\u001b[49m\u001b[38;5;241;43m.\u001b[39;49m\u001b[38;5;21;43m__get__\u001b[39;49m\u001b[43m(\u001b[49m\u001b[43mopt\u001b[49m\u001b[43m,\u001b[49m\u001b[43m \u001b[49m\u001b[43mopt\u001b[49m\u001b[38;5;241;43m.\u001b[39;49m\u001b[38;5;18;43m__class__\u001b[39;49m\u001b[43m)\u001b[49m\u001b[43m(\u001b[49m\u001b[38;5;241;43m*\u001b[39;49m\u001b[43margs\u001b[49m\u001b[43m,\u001b[49m\u001b[43m \u001b[49m\u001b[38;5;241;43m*\u001b[39;49m\u001b[38;5;241;43m*\u001b[39;49m\u001b[43mkwargs\u001b[49m\u001b[43m)\u001b[49m\n",
      "File \u001b[0;32m~/Library/CloudStorage/OneDrive-MaibornWolffGmbH/Privat/Studium/Master_V/DataProcessing/Code/lib/python3.12/site-packages/torch/optim/optimizer.py:487\u001b[0m, in \u001b[0;36mOptimizer.profile_hook_step.<locals>.wrapper\u001b[0;34m(*args, **kwargs)\u001b[0m\n\u001b[1;32m    482\u001b[0m         \u001b[38;5;28;01melse\u001b[39;00m:\n\u001b[1;32m    483\u001b[0m             \u001b[38;5;28;01mraise\u001b[39;00m \u001b[38;5;167;01mRuntimeError\u001b[39;00m(\n\u001b[1;32m    484\u001b[0m                 \u001b[38;5;124mf\u001b[39m\u001b[38;5;124m\"\u001b[39m\u001b[38;5;132;01m{\u001b[39;00mfunc\u001b[38;5;132;01m}\u001b[39;00m\u001b[38;5;124m must return None or a tuple of (new_args, new_kwargs), but got \u001b[39m\u001b[38;5;132;01m{\u001b[39;00mresult\u001b[38;5;132;01m}\u001b[39;00m\u001b[38;5;124m.\u001b[39m\u001b[38;5;124m\"\u001b[39m\n\u001b[1;32m    485\u001b[0m             )\n\u001b[0;32m--> 487\u001b[0m out \u001b[38;5;241m=\u001b[39m \u001b[43mfunc\u001b[49m\u001b[43m(\u001b[49m\u001b[38;5;241;43m*\u001b[39;49m\u001b[43margs\u001b[49m\u001b[43m,\u001b[49m\u001b[43m \u001b[49m\u001b[38;5;241;43m*\u001b[39;49m\u001b[38;5;241;43m*\u001b[39;49m\u001b[43mkwargs\u001b[49m\u001b[43m)\u001b[49m\n\u001b[1;32m    488\u001b[0m \u001b[38;5;28mself\u001b[39m\u001b[38;5;241m.\u001b[39m_optimizer_step_code()\n\u001b[1;32m    490\u001b[0m \u001b[38;5;66;03m# call optimizer step post hooks\u001b[39;00m\n",
      "File \u001b[0;32m~/Library/CloudStorage/OneDrive-MaibornWolffGmbH/Privat/Studium/Master_V/DataProcessing/Code/lib/python3.12/site-packages/torch/optim/optimizer.py:91\u001b[0m, in \u001b[0;36m_use_grad_for_differentiable.<locals>._use_grad\u001b[0;34m(self, *args, **kwargs)\u001b[0m\n\u001b[1;32m     89\u001b[0m     torch\u001b[38;5;241m.\u001b[39mset_grad_enabled(\u001b[38;5;28mself\u001b[39m\u001b[38;5;241m.\u001b[39mdefaults[\u001b[38;5;124m\"\u001b[39m\u001b[38;5;124mdifferentiable\u001b[39m\u001b[38;5;124m\"\u001b[39m])\n\u001b[1;32m     90\u001b[0m     torch\u001b[38;5;241m.\u001b[39m_dynamo\u001b[38;5;241m.\u001b[39mgraph_break()\n\u001b[0;32m---> 91\u001b[0m     ret \u001b[38;5;241m=\u001b[39m \u001b[43mfunc\u001b[49m\u001b[43m(\u001b[49m\u001b[38;5;28;43mself\u001b[39;49m\u001b[43m,\u001b[49m\u001b[43m \u001b[49m\u001b[38;5;241;43m*\u001b[39;49m\u001b[43margs\u001b[49m\u001b[43m,\u001b[49m\u001b[43m \u001b[49m\u001b[38;5;241;43m*\u001b[39;49m\u001b[38;5;241;43m*\u001b[39;49m\u001b[43mkwargs\u001b[49m\u001b[43m)\u001b[49m\n\u001b[1;32m     92\u001b[0m \u001b[38;5;28;01mfinally\u001b[39;00m:\n\u001b[1;32m     93\u001b[0m     torch\u001b[38;5;241m.\u001b[39m_dynamo\u001b[38;5;241m.\u001b[39mgraph_break()\n",
      "File \u001b[0;32m~/Library/CloudStorage/OneDrive-MaibornWolffGmbH/Privat/Studium/Master_V/DataProcessing/Code/lib/python3.12/site-packages/torch/optim/adamw.py:220\u001b[0m, in \u001b[0;36mAdamW.step\u001b[0;34m(self, closure)\u001b[0m\n\u001b[1;32m    207\u001b[0m     beta1, beta2 \u001b[38;5;241m=\u001b[39m cast(Tuple[\u001b[38;5;28mfloat\u001b[39m, \u001b[38;5;28mfloat\u001b[39m], group[\u001b[38;5;124m\"\u001b[39m\u001b[38;5;124mbetas\u001b[39m\u001b[38;5;124m\"\u001b[39m])\n\u001b[1;32m    209\u001b[0m     has_complex \u001b[38;5;241m=\u001b[39m \u001b[38;5;28mself\u001b[39m\u001b[38;5;241m.\u001b[39m_init_group(\n\u001b[1;32m    210\u001b[0m         group,\n\u001b[1;32m    211\u001b[0m         params_with_grad,\n\u001b[0;32m   (...)\u001b[0m\n\u001b[1;32m    217\u001b[0m         state_steps,\n\u001b[1;32m    218\u001b[0m     )\n\u001b[0;32m--> 220\u001b[0m     \u001b[43madamw\u001b[49m\u001b[43m(\u001b[49m\n\u001b[1;32m    221\u001b[0m \u001b[43m        \u001b[49m\u001b[43mparams_with_grad\u001b[49m\u001b[43m,\u001b[49m\n\u001b[1;32m    222\u001b[0m \u001b[43m        \u001b[49m\u001b[43mgrads\u001b[49m\u001b[43m,\u001b[49m\n\u001b[1;32m    223\u001b[0m \u001b[43m        \u001b[49m\u001b[43mexp_avgs\u001b[49m\u001b[43m,\u001b[49m\n\u001b[1;32m    224\u001b[0m \u001b[43m        \u001b[49m\u001b[43mexp_avg_sqs\u001b[49m\u001b[43m,\u001b[49m\n\u001b[1;32m    225\u001b[0m \u001b[43m        \u001b[49m\u001b[43mmax_exp_avg_sqs\u001b[49m\u001b[43m,\u001b[49m\n\u001b[1;32m    226\u001b[0m \u001b[43m        \u001b[49m\u001b[43mstate_steps\u001b[49m\u001b[43m,\u001b[49m\n\u001b[1;32m    227\u001b[0m \u001b[43m        \u001b[49m\u001b[43mamsgrad\u001b[49m\u001b[38;5;241;43m=\u001b[39;49m\u001b[43mamsgrad\u001b[49m\u001b[43m,\u001b[49m\n\u001b[1;32m    228\u001b[0m \u001b[43m        \u001b[49m\u001b[43mbeta1\u001b[49m\u001b[38;5;241;43m=\u001b[39;49m\u001b[43mbeta1\u001b[49m\u001b[43m,\u001b[49m\n\u001b[1;32m    229\u001b[0m \u001b[43m        \u001b[49m\u001b[43mbeta2\u001b[49m\u001b[38;5;241;43m=\u001b[39;49m\u001b[43mbeta2\u001b[49m\u001b[43m,\u001b[49m\n\u001b[1;32m    230\u001b[0m \u001b[43m        \u001b[49m\u001b[43mlr\u001b[49m\u001b[38;5;241;43m=\u001b[39;49m\u001b[43mgroup\u001b[49m\u001b[43m[\u001b[49m\u001b[38;5;124;43m\"\u001b[39;49m\u001b[38;5;124;43mlr\u001b[39;49m\u001b[38;5;124;43m\"\u001b[39;49m\u001b[43m]\u001b[49m\u001b[43m,\u001b[49m\n\u001b[1;32m    231\u001b[0m \u001b[43m        \u001b[49m\u001b[43mweight_decay\u001b[49m\u001b[38;5;241;43m=\u001b[39;49m\u001b[43mgroup\u001b[49m\u001b[43m[\u001b[49m\u001b[38;5;124;43m\"\u001b[39;49m\u001b[38;5;124;43mweight_decay\u001b[39;49m\u001b[38;5;124;43m\"\u001b[39;49m\u001b[43m]\u001b[49m\u001b[43m,\u001b[49m\n\u001b[1;32m    232\u001b[0m \u001b[43m        \u001b[49m\u001b[43meps\u001b[49m\u001b[38;5;241;43m=\u001b[39;49m\u001b[43mgroup\u001b[49m\u001b[43m[\u001b[49m\u001b[38;5;124;43m\"\u001b[39;49m\u001b[38;5;124;43meps\u001b[39;49m\u001b[38;5;124;43m\"\u001b[39;49m\u001b[43m]\u001b[49m\u001b[43m,\u001b[49m\n\u001b[1;32m    233\u001b[0m \u001b[43m        \u001b[49m\u001b[43mmaximize\u001b[49m\u001b[38;5;241;43m=\u001b[39;49m\u001b[43mgroup\u001b[49m\u001b[43m[\u001b[49m\u001b[38;5;124;43m\"\u001b[39;49m\u001b[38;5;124;43mmaximize\u001b[39;49m\u001b[38;5;124;43m\"\u001b[39;49m\u001b[43m]\u001b[49m\u001b[43m,\u001b[49m\n\u001b[1;32m    234\u001b[0m \u001b[43m        \u001b[49m\u001b[43mforeach\u001b[49m\u001b[38;5;241;43m=\u001b[39;49m\u001b[43mgroup\u001b[49m\u001b[43m[\u001b[49m\u001b[38;5;124;43m\"\u001b[39;49m\u001b[38;5;124;43mforeach\u001b[39;49m\u001b[38;5;124;43m\"\u001b[39;49m\u001b[43m]\u001b[49m\u001b[43m,\u001b[49m\n\u001b[1;32m    235\u001b[0m \u001b[43m        \u001b[49m\u001b[43mcapturable\u001b[49m\u001b[38;5;241;43m=\u001b[39;49m\u001b[43mgroup\u001b[49m\u001b[43m[\u001b[49m\u001b[38;5;124;43m\"\u001b[39;49m\u001b[38;5;124;43mcapturable\u001b[39;49m\u001b[38;5;124;43m\"\u001b[39;49m\u001b[43m]\u001b[49m\u001b[43m,\u001b[49m\n\u001b[1;32m    236\u001b[0m \u001b[43m        \u001b[49m\u001b[43mdifferentiable\u001b[49m\u001b[38;5;241;43m=\u001b[39;49m\u001b[43mgroup\u001b[49m\u001b[43m[\u001b[49m\u001b[38;5;124;43m\"\u001b[39;49m\u001b[38;5;124;43mdifferentiable\u001b[39;49m\u001b[38;5;124;43m\"\u001b[39;49m\u001b[43m]\u001b[49m\u001b[43m,\u001b[49m\n\u001b[1;32m    237\u001b[0m \u001b[43m        \u001b[49m\u001b[43mfused\u001b[49m\u001b[38;5;241;43m=\u001b[39;49m\u001b[43mgroup\u001b[49m\u001b[43m[\u001b[49m\u001b[38;5;124;43m\"\u001b[39;49m\u001b[38;5;124;43mfused\u001b[39;49m\u001b[38;5;124;43m\"\u001b[39;49m\u001b[43m]\u001b[49m\u001b[43m,\u001b[49m\n\u001b[1;32m    238\u001b[0m \u001b[43m        \u001b[49m\u001b[43mgrad_scale\u001b[49m\u001b[38;5;241;43m=\u001b[39;49m\u001b[38;5;28;43mgetattr\u001b[39;49m\u001b[43m(\u001b[49m\u001b[38;5;28;43mself\u001b[39;49m\u001b[43m,\u001b[49m\u001b[43m \u001b[49m\u001b[38;5;124;43m\"\u001b[39;49m\u001b[38;5;124;43mgrad_scale\u001b[39;49m\u001b[38;5;124;43m\"\u001b[39;49m\u001b[43m,\u001b[49m\u001b[43m \u001b[49m\u001b[38;5;28;43;01mNone\u001b[39;49;00m\u001b[43m)\u001b[49m\u001b[43m,\u001b[49m\n\u001b[1;32m    239\u001b[0m \u001b[43m        \u001b[49m\u001b[43mfound_inf\u001b[49m\u001b[38;5;241;43m=\u001b[39;49m\u001b[38;5;28;43mgetattr\u001b[39;49m\u001b[43m(\u001b[49m\u001b[38;5;28;43mself\u001b[39;49m\u001b[43m,\u001b[49m\u001b[43m \u001b[49m\u001b[38;5;124;43m\"\u001b[39;49m\u001b[38;5;124;43mfound_inf\u001b[39;49m\u001b[38;5;124;43m\"\u001b[39;49m\u001b[43m,\u001b[49m\u001b[43m \u001b[49m\u001b[38;5;28;43;01mNone\u001b[39;49;00m\u001b[43m)\u001b[49m\u001b[43m,\u001b[49m\n\u001b[1;32m    240\u001b[0m \u001b[43m        \u001b[49m\u001b[43mhas_complex\u001b[49m\u001b[38;5;241;43m=\u001b[39;49m\u001b[43mhas_complex\u001b[49m\u001b[43m,\u001b[49m\n\u001b[1;32m    241\u001b[0m \u001b[43m    \u001b[49m\u001b[43m)\u001b[49m\n\u001b[1;32m    243\u001b[0m \u001b[38;5;28;01mreturn\u001b[39;00m loss\n",
      "File \u001b[0;32m~/Library/CloudStorage/OneDrive-MaibornWolffGmbH/Privat/Studium/Master_V/DataProcessing/Code/lib/python3.12/site-packages/torch/optim/optimizer.py:154\u001b[0m, in \u001b[0;36m_disable_dynamo_if_unsupported.<locals>.wrapper.<locals>.maybe_fallback\u001b[0;34m(*args, **kwargs)\u001b[0m\n\u001b[1;32m    152\u001b[0m     \u001b[38;5;28;01mreturn\u001b[39;00m disabled_func(\u001b[38;5;241m*\u001b[39margs, \u001b[38;5;241m*\u001b[39m\u001b[38;5;241m*\u001b[39mkwargs)\n\u001b[1;32m    153\u001b[0m \u001b[38;5;28;01melse\u001b[39;00m:\n\u001b[0;32m--> 154\u001b[0m     \u001b[38;5;28;01mreturn\u001b[39;00m \u001b[43mfunc\u001b[49m\u001b[43m(\u001b[49m\u001b[38;5;241;43m*\u001b[39;49m\u001b[43margs\u001b[49m\u001b[43m,\u001b[49m\u001b[43m \u001b[49m\u001b[38;5;241;43m*\u001b[39;49m\u001b[38;5;241;43m*\u001b[39;49m\u001b[43mkwargs\u001b[49m\u001b[43m)\u001b[49m\n",
      "File \u001b[0;32m~/Library/CloudStorage/OneDrive-MaibornWolffGmbH/Privat/Studium/Master_V/DataProcessing/Code/lib/python3.12/site-packages/torch/optim/adamw.py:782\u001b[0m, in \u001b[0;36madamw\u001b[0;34m(params, grads, exp_avgs, exp_avg_sqs, max_exp_avg_sqs, state_steps, foreach, capturable, differentiable, fused, grad_scale, found_inf, has_complex, amsgrad, beta1, beta2, lr, weight_decay, eps, maximize)\u001b[0m\n\u001b[1;32m    779\u001b[0m \u001b[38;5;28;01melse\u001b[39;00m:\n\u001b[1;32m    780\u001b[0m     func \u001b[38;5;241m=\u001b[39m _single_tensor_adamw\n\u001b[0;32m--> 782\u001b[0m \u001b[43mfunc\u001b[49m\u001b[43m(\u001b[49m\n\u001b[1;32m    783\u001b[0m \u001b[43m    \u001b[49m\u001b[43mparams\u001b[49m\u001b[43m,\u001b[49m\n\u001b[1;32m    784\u001b[0m \u001b[43m    \u001b[49m\u001b[43mgrads\u001b[49m\u001b[43m,\u001b[49m\n\u001b[1;32m    785\u001b[0m \u001b[43m    \u001b[49m\u001b[43mexp_avgs\u001b[49m\u001b[43m,\u001b[49m\n\u001b[1;32m    786\u001b[0m \u001b[43m    \u001b[49m\u001b[43mexp_avg_sqs\u001b[49m\u001b[43m,\u001b[49m\n\u001b[1;32m    787\u001b[0m \u001b[43m    \u001b[49m\u001b[43mmax_exp_avg_sqs\u001b[49m\u001b[43m,\u001b[49m\n\u001b[1;32m    788\u001b[0m \u001b[43m    \u001b[49m\u001b[43mstate_steps\u001b[49m\u001b[43m,\u001b[49m\n\u001b[1;32m    789\u001b[0m \u001b[43m    \u001b[49m\u001b[43mamsgrad\u001b[49m\u001b[38;5;241;43m=\u001b[39;49m\u001b[43mamsgrad\u001b[49m\u001b[43m,\u001b[49m\n\u001b[1;32m    790\u001b[0m \u001b[43m    \u001b[49m\u001b[43mbeta1\u001b[49m\u001b[38;5;241;43m=\u001b[39;49m\u001b[43mbeta1\u001b[49m\u001b[43m,\u001b[49m\n\u001b[1;32m    791\u001b[0m \u001b[43m    \u001b[49m\u001b[43mbeta2\u001b[49m\u001b[38;5;241;43m=\u001b[39;49m\u001b[43mbeta2\u001b[49m\u001b[43m,\u001b[49m\n\u001b[1;32m    792\u001b[0m \u001b[43m    \u001b[49m\u001b[43mlr\u001b[49m\u001b[38;5;241;43m=\u001b[39;49m\u001b[43mlr\u001b[49m\u001b[43m,\u001b[49m\n\u001b[1;32m    793\u001b[0m \u001b[43m    \u001b[49m\u001b[43mweight_decay\u001b[49m\u001b[38;5;241;43m=\u001b[39;49m\u001b[43mweight_decay\u001b[49m\u001b[43m,\u001b[49m\n\u001b[1;32m    794\u001b[0m \u001b[43m    \u001b[49m\u001b[43meps\u001b[49m\u001b[38;5;241;43m=\u001b[39;49m\u001b[43meps\u001b[49m\u001b[43m,\u001b[49m\n\u001b[1;32m    795\u001b[0m \u001b[43m    \u001b[49m\u001b[43mmaximize\u001b[49m\u001b[38;5;241;43m=\u001b[39;49m\u001b[43mmaximize\u001b[49m\u001b[43m,\u001b[49m\n\u001b[1;32m    796\u001b[0m \u001b[43m    \u001b[49m\u001b[43mcapturable\u001b[49m\u001b[38;5;241;43m=\u001b[39;49m\u001b[43mcapturable\u001b[49m\u001b[43m,\u001b[49m\n\u001b[1;32m    797\u001b[0m \u001b[43m    \u001b[49m\u001b[43mdifferentiable\u001b[49m\u001b[38;5;241;43m=\u001b[39;49m\u001b[43mdifferentiable\u001b[49m\u001b[43m,\u001b[49m\n\u001b[1;32m    798\u001b[0m \u001b[43m    \u001b[49m\u001b[43mgrad_scale\u001b[49m\u001b[38;5;241;43m=\u001b[39;49m\u001b[43mgrad_scale\u001b[49m\u001b[43m,\u001b[49m\n\u001b[1;32m    799\u001b[0m \u001b[43m    \u001b[49m\u001b[43mfound_inf\u001b[49m\u001b[38;5;241;43m=\u001b[39;49m\u001b[43mfound_inf\u001b[49m\u001b[43m,\u001b[49m\n\u001b[1;32m    800\u001b[0m \u001b[43m    \u001b[49m\u001b[43mhas_complex\u001b[49m\u001b[38;5;241;43m=\u001b[39;49m\u001b[43mhas_complex\u001b[49m\u001b[43m,\u001b[49m\n\u001b[1;32m    801\u001b[0m \u001b[43m\u001b[49m\u001b[43m)\u001b[49m\n",
      "File \u001b[0;32m~/Library/CloudStorage/OneDrive-MaibornWolffGmbH/Privat/Studium/Master_V/DataProcessing/Code/lib/python3.12/site-packages/torch/optim/adamw.py:375\u001b[0m, in \u001b[0;36m_single_tensor_adamw\u001b[0;34m(params, grads, exp_avgs, exp_avg_sqs, max_exp_avg_sqs, state_steps, grad_scale, found_inf, amsgrad, beta1, beta2, lr, weight_decay, eps, maximize, capturable, differentiable, has_complex)\u001b[0m\n\u001b[1;32m    372\u001b[0m param\u001b[38;5;241m.\u001b[39mmul_(\u001b[38;5;241m1\u001b[39m \u001b[38;5;241m-\u001b[39m lr \u001b[38;5;241m*\u001b[39m weight_decay)\n\u001b[1;32m    374\u001b[0m \u001b[38;5;66;03m# Decay the first and second moment running average coefficient\u001b[39;00m\n\u001b[0;32m--> 375\u001b[0m \u001b[43mexp_avg\u001b[49m\u001b[38;5;241;43m.\u001b[39;49m\u001b[43mlerp_\u001b[49m\u001b[43m(\u001b[49m\u001b[43mgrad\u001b[49m\u001b[43m,\u001b[49m\u001b[43m \u001b[49m\u001b[38;5;241;43m1\u001b[39;49m\u001b[43m \u001b[49m\u001b[38;5;241;43m-\u001b[39;49m\u001b[43m \u001b[49m\u001b[43mbeta1\u001b[49m\u001b[43m)\u001b[49m\n\u001b[1;32m    376\u001b[0m exp_avg_sq\u001b[38;5;241m.\u001b[39mmul_(beta2)\u001b[38;5;241m.\u001b[39maddcmul_(grad, grad, value\u001b[38;5;241m=\u001b[39m\u001b[38;5;241m1\u001b[39m \u001b[38;5;241m-\u001b[39m beta2)\n\u001b[1;32m    378\u001b[0m \u001b[38;5;28;01mif\u001b[39;00m capturable \u001b[38;5;129;01mor\u001b[39;00m differentiable:\n",
      "\u001b[0;31mKeyboardInterrupt\u001b[0m: "
     ]
    }
   ],
   "source": [
    "# we need to transform the data to tensors so we can use them in pytorch\n",
    "class Dataset(torch.utils.data.Dataset):\n",
    "    def __init__(self, X, y):\n",
    "        self.X = X\n",
    "        self.y = y\n",
    "\n",
    "    def __getitem__(self, idx):\n",
    "        item = {key: torch.tensor(val[idx]) for key, val in self.X.items()}\n",
    "        item['labels'] = torch.tensor(self.y[idx])\n",
    "        return item\n",
    "\n",
    "    def __len__(self):\n",
    "        return len(self.y)\n",
    "\n",
    "train_dataset = Dataset(X_train, y_train)\n",
    "test_dataset = Dataset(X_test, y_test)"
   ]
  },
  {
   "cell_type": "code",
   "execution_count": null,
   "metadata": {},
   "outputs": [],
   "source": [
    "training_args = TrainingArguments(\n",
    "    output_dir=directory+'results',\n",
    "    num_train_epochs=3,\n",
    "    per_device_train_batch_size=64, #batch size can be bigger for the used gpu\n",
    "    per_device_eval_batch_size=64, \n",
    "    warmup_steps=500,\n",
    "    weight_decay=0.01, \n",
    "    logging_dir=directory+'logs',\n",
    "    logging_steps=10,\n",
    "    report_to=[],\n",
    ")\n",
    "\n",
    "trainer = Trainer(\n",
    "    model=model,\n",
    "    args=training_args,\n",
    "    train_dataset=train_dataset,\n",
    "    eval_dataset=test_dataset\n",
    ")"
   ]
  },
  {
   "cell_type": "code",
   "execution_count": null,
   "metadata": {},
   "outputs": [],
   "source": [
    "trainer.train()\n",
    "model.save_pretrained(directory+'fine-tuned-bert')\n",
    "tokenizer.save_pretrained(directory+'fine-tuned-bert')"
   ]
  },
  {
   "cell_type": "code",
   "execution_count": 60,
   "metadata": {},
   "outputs": [
    {
     "data": {
      "text/plain": [
       "<Axes: >"
      ]
     },
     "execution_count": 60,
     "metadata": {},
     "output_type": "execute_result"
    },
    {
     "data": {
      "image/png": "[encoded data removed]",
      "text/plain": [
       "<Figure size 640x480 with 1 Axes>"
      ]
     },
     "metadata": {},
     "output_type": "display_data"
    }
   ],
   "source": [
    "results = [\n",
    "    4.759500, 4.596200, 4.074600, 3.601100, 2.927900, 2.513100, 2.120000, \n",
    "    1.463200, 1.835600, 1.074400, 1.972900, 1.461300, 1.899600, 1.938900, \n",
    "    2.292000, 1.872600, 2.307200, 1.933600, 1.424500, 1.509400, 1.586800, \n",
    "    1.836600, 1.557700, 1.632400, 1.969700, 2.230800, 1.778300, 1.754300, \n",
    "    1.196500, 1.406600, 1.609700, 1.870100, 1.618300, 1.954900, 1.549400, \n",
    "    1.859000, 1.249100, 1.589800, 1.678700, 1.741700, 1.400900, 1.618800, \n",
    "    1.336800, 2.447800, 1.850800, 1.734400, 1.921000, 1.480700, 1.579100, \n",
    "    1.990500, 1.573000, 1.479700, 2.043300, 1.617300, 1.363900, 1.558400, \n",
    "    1.477300, 1.886400, 1.468900, 2.248400, 1.670100, 1.643600, 1.579900, \n",
    "    2.060900, 1.977900, 1.503400, 1.549900, 1.771000, 1.562300, 1.511200, \n",
    "    1.377100, 2.086200, 1.787400, 1.807900, 1.237400, 1.720100, 2.090700, \n",
    "    1.979700, 1.630400, 1.679800, 1.763900, 1.793200, 2.009800, 0.942700, \n",
    "    1.564700, 1.839600, 1.881600, 1.529500, 1.846800, 1.439600, 2.372700, \n",
    "    2.105600, 1.419600, 1.304600, 1.831700, 1.720400, 1.254000, 1.254900, \n",
    "    1.881200, 1.566800, 1.408300, 1.536700, 1.366900, 1.991900, 1.925700, \n",
    "    1.355900, 1.946600, 1.687000, 1.416600, 1.605900, 1.503000, 2.018900, \n",
    "    1.634700, 1.358600, 2.086900, 1.586500, 1.788300, 1.412300, 1.692000, \n",
    "    1.419300, 1.708600, 1.403500, 1.679500, 1.564100, 1.486100, 1.518400, \n",
    "    1.908500, 1.640100, 1.418400, 1.767100, 1.477200, 1.606800, 1.931800, \n",
    "    1.662900, 1.061500, 1.663100, 1.688200, 1.301500, 1.184800, 1.439600, \n",
    "    1.486000, 1.344500, 1.305700, 1.550200, 1.611000, 1.494300, 0.917500, \n",
    "    1.561000, 1.616100, 1.748800, 1.644600, 1.362600, 1.476500, 1.219800, \n",
    "    1.296100, 1.478700, 1.424600, 1.362100, 2.142400, 1.426600, 1.136900, \n",
    "    1.325600, 1.400400, 1.724100, 1.589100, 1.700800, 1.751100, 1.159100, \n",
    "    1.135800, 1.721500, 1.248000, 1.430000, 1.695100, 1.299600, 1.287200, \n",
    "    1.467800, 1.699100, 1.662400, 1.397900, 1.504900, 1.798800, 1.272500, \n",
    "    1.754300, 1.743300, 1.279200, 1.985400, 2.155000, 1.452800, 1.195800, \n",
    "    1.809400, 1.532700, 1.430900, 1.797800, 1.429000, 1.078200, 1.589500, \n",
    "    1.365400, 1.578100, 1.612000, 1.821400, 1.633700, 1.188200, 1.335900, \n",
    "    1.318100, 1.176000, 1.236900, 1.335800, 1.150800, 1.112700, 1.655000, \n",
    "    1.604600, 1.587000, 0.879600, 1.292700, 1.414900, 0.873300, 1.559500, \n",
    "    1.776100, 1.593700, 1.119800, 1.465400, 1.968100, 1.014400, 1.221700, \n",
    "    1.342500, 1.071600, 1.317800, 1.029000, 1.558400, 1.458600, 1.379700, \n",
    "    1.182600, 1.623100, 0.931300, 1.685000, 0.974200, 1.261800, 1.745800, \n",
    "    1.014900, 1.189500, 1.727300, 1.504600, 1.432500, 1.064100, 1.306000, \n",
    "    1.143100, 1.287800, 1.038200, 1.146300, 0.981500, 1.144800, 1.203100, \n",
    "    1.311900, 1.407600, 0.875600, 1.554500, 1.102300, 0.807700, 0.897500, \n",
    "    1.186600, 1.357000, 0.773000, 1.362100, 1.302200, 1.299400, 1.237400, \n",
    "    1.473900, 1.299600, 1.522500, 1.238400, 1.365200, 1.303200, 1.383900, \n",
    "    1.268900, 1.302600, 0.706100, 1.342800, 1.201400, 0.977100, 1.239500, \n",
    "    1.291500, 1.039400, 1.454600, 1.693900, 1.171200, 0.780100, 1.183500, \n",
    "    1.180300, 1.401500, 1.648700, 1.170000, 1.188800, 1.715400, 0.973500, \n",
    "    0.963600, 1.040900, 1.183600, 1.135000, 1.287700, 1.070800, 0.864700\n",
    "]\n",
    "sns.lineplot(x=range(len(results)), y=results)\n"
   ]
  },
  {
   "cell_type": "code",
   "execution_count": null,
   "metadata": {},
   "outputs": [],
   "source": [
    "trainer.evaluate()"
   ]
  },
  {
   "cell_type": "markdown",
   "metadata": {},
   "source": [
    "{'eval_loss': 1.5266793966293335,\n",
    " 'eval_runtime': 26.9099,\n",
    " 'eval_samples_per_second': 149.388,\n",
    " 'eval_steps_per_second': 2.341,\n",
    " 'epoch': 3.0}"
   ]
  }
 ],
 "metadata": {
  "kernelspec": {
   "display_name": "DataProcessing",
   "language": "python",
   "name": "python3"
  },
  "language_info": {
   "codemirror_mode": {
    "name": "ipython",
    "version": 3
   },
   "file_extension": ".py",
   "mimetype": "text/x-python",
   "name": "python",
   "nbconvert_exporter": "python",
   "pygments_lexer": "ipython3",
   "version": "3.12.0"
  }
 },
 "nbformat": 4,
 "nbformat_minor": 2
}
