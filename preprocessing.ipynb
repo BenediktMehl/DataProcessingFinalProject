{
 "cells": [
  {
   "cell_type": "code",
   "execution_count": 251,
   "metadata": {},
   "outputs": [],
   "source": [
    "import pandas as pd\n",
    "import numpy as np\n",
    "import torch\n",
    "import seaborn as sns\n",
    "from sklearn.preprocessing import StandardScaler"
   ]
  },
  {
   "cell_type": "code",
   "execution_count": 252,
   "metadata": {},
   "outputs": [
    {
     "name": "stdout",
     "output_type": "stream",
     "text": [
      "Runs on cpu\n"
     ]
    }
   ],
   "source": [
    "if torch.cuda.is_available():\n",
    "    device = torch.device('cuda')\n",
    "    runs_on_gpu = True\n",
    "    from google.colab import drive\n",
    "    drive.mount('/content/drive')\n",
    "    directory = 'drive/MyDrive/'\n",
    "else:\n",
    "    device = torch.device('cpu')\n",
    "    runs_on_gpu = False\n",
    "    directory = ''\n",
    "print(f\"Runs on {device.type}\")"
   ]
  },
  {
   "cell_type": "code",
   "execution_count": 253,
   "metadata": {},
   "outputs": [
    {
     "name": "stdout",
     "output_type": "stream",
     "text": [
      "(10608, 11)\n",
      "<class 'pandas.core.frame.DataFrame'>\n",
      "RangeIndex: 20100 entries, 0 to 20099\n",
      "Data columns (total 11 columns):\n",
      " #   Column       Non-Null Count  Dtype              \n",
      "---  ------       --------------  -----              \n",
      " 0   directions   20100 non-null  object             \n",
      " 1   fat          15901 non-null  float64            \n",
      " 2   date         20100 non-null  datetime64[ns, UTC]\n",
      " 3   categories   20100 non-null  object             \n",
      " 4   calories     15969 non-null  float64            \n",
      " 5   desc         13484 non-null  object             \n",
      " 6   protein      15922 non-null  float64            \n",
      " 7   rating       20100 non-null  float64            \n",
      " 8   title        20100 non-null  object             \n",
      " 9   ingredients  20100 non-null  object             \n",
      " 10  sodium       15967 non-null  float64            \n",
      "dtypes: datetime64[ns, UTC](1), float64(5), object(5)\n",
      "memory usage: 1.7+ MB\n"
     ]
    }
   ],
   "source": [
    "# Load data\n",
    "data = pd.read_json('recipes.json')\n",
    "data.dropna(subset=['rating'], inplace=True, ignore_index=True)\n",
    "print(data.dropna(how='any', inplace=False, ignore_index=True).shape)\n",
    "data.info()"
   ]
  },
  {
   "cell_type": "code",
   "execution_count": 254,
   "metadata": {},
   "outputs": [
    {
     "data": {
      "text/html": [
       "<div>\n",
       "<style scoped>\n",
       "    .dataframe tbody tr th:only-of-type {\n",
       "        vertical-align: middle;\n",
       "    }\n",
       "\n",
       "    .dataframe tbody tr th {\n",
       "        vertical-align: top;\n",
       "    }\n",
       "\n",
       "    .dataframe thead th {\n",
       "        text-align: right;\n",
       "    }\n",
       "</style>\n",
       "<table border=\"1\" class=\"dataframe\">\n",
       "  <thead>\n",
       "    <tr style=\"text-align: right;\">\n",
       "      <th></th>\n",
       "      <th>directions</th>\n",
       "      <th>fat</th>\n",
       "      <th>date</th>\n",
       "      <th>categories</th>\n",
       "      <th>calories</th>\n",
       "      <th>desc</th>\n",
       "      <th>protein</th>\n",
       "      <th>rating</th>\n",
       "      <th>title</th>\n",
       "      <th>ingredients</th>\n",
       "      <th>sodium</th>\n",
       "    </tr>\n",
       "  </thead>\n",
       "  <tbody>\n",
       "    <tr>\n",
       "      <th>0</th>\n",
       "      <td>[1. Place the stock, lentils, celery, carrot, ...</td>\n",
       "      <td>7.0</td>\n",
       "      <td>2006-09-01 04:00:00+00:00</td>\n",
       "      <td>[Sandwich, Bean, Fruit, Tomato, turkey, Vegeta...</td>\n",
       "      <td>426.0</td>\n",
       "      <td>None</td>\n",
       "      <td>30.0</td>\n",
       "      <td>2.500</td>\n",
       "      <td>Lentil, Apple, and Turkey Wrap</td>\n",
       "      <td>[4 cups low-sodium vegetable or chicken stock,...</td>\n",
       "      <td>559.0</td>\n",
       "    </tr>\n",
       "    <tr>\n",
       "      <th>1</th>\n",
       "      <td>[Combine first 9 ingredients in heavy medium s...</td>\n",
       "      <td>23.0</td>\n",
       "      <td>2004-08-20 04:00:00+00:00</td>\n",
       "      <td>[Food Processor, Onion, Pork, Bake, Bastille D...</td>\n",
       "      <td>403.0</td>\n",
       "      <td>This uses the same ingredients found in boudin...</td>\n",
       "      <td>18.0</td>\n",
       "      <td>4.375</td>\n",
       "      <td>Boudin Blanc Terrine with Red Onion Confit</td>\n",
       "      <td>[1 1/2 cups whipping cream, 2 medium onions, c...</td>\n",
       "      <td>1439.0</td>\n",
       "    </tr>\n",
       "    <tr>\n",
       "      <th>2</th>\n",
       "      <td>[In a large heavy saucepan cook diced fennel a...</td>\n",
       "      <td>7.0</td>\n",
       "      <td>2004-08-20 04:00:00+00:00</td>\n",
       "      <td>[Soup/Stew, Dairy, Potato, Vegetable, Fennel, ...</td>\n",
       "      <td>165.0</td>\n",
       "      <td>None</td>\n",
       "      <td>6.0</td>\n",
       "      <td>3.750</td>\n",
       "      <td>Potato and Fennel Soup Hodge</td>\n",
       "      <td>[1 fennel bulb (sometimes called anise), stalk...</td>\n",
       "      <td>165.0</td>\n",
       "    </tr>\n",
       "    <tr>\n",
       "      <th>3</th>\n",
       "      <td>[Heat oil in heavy large skillet over medium-h...</td>\n",
       "      <td>NaN</td>\n",
       "      <td>2009-03-27 04:00:00+00:00</td>\n",
       "      <td>[Fish, Olive, Tomato, Sauté, Low Fat, Low Cal,...</td>\n",
       "      <td>NaN</td>\n",
       "      <td>The Sicilian-style tomato sauce has tons of Me...</td>\n",
       "      <td>NaN</td>\n",
       "      <td>5.000</td>\n",
       "      <td>Mahi-Mahi in Tomato Olive Sauce</td>\n",
       "      <td>[2 tablespoons extra-virgin olive oil, 1 cup c...</td>\n",
       "      <td>NaN</td>\n",
       "    </tr>\n",
       "    <tr>\n",
       "      <th>4</th>\n",
       "      <td>[Preheat oven to 350°F. Lightly grease 8x8x2-i...</td>\n",
       "      <td>32.0</td>\n",
       "      <td>2004-08-20 04:00:00+00:00</td>\n",
       "      <td>[Cheese, Dairy, Pasta, Vegetable, Side, Bake, ...</td>\n",
       "      <td>547.0</td>\n",
       "      <td>None</td>\n",
       "      <td>20.0</td>\n",
       "      <td>3.125</td>\n",
       "      <td>Spinach Noodle Casserole</td>\n",
       "      <td>[1 12-ounce package frozen spinach soufflé, th...</td>\n",
       "      <td>452.0</td>\n",
       "    </tr>\n",
       "  </tbody>\n",
       "</table>\n",
       "</div>"
      ],
      "text/plain": [
       "                                          directions   fat  \\\n",
       "0  [1. Place the stock, lentils, celery, carrot, ...   7.0   \n",
       "1  [Combine first 9 ingredients in heavy medium s...  23.0   \n",
       "2  [In a large heavy saucepan cook diced fennel a...   7.0   \n",
       "3  [Heat oil in heavy large skillet over medium-h...   NaN   \n",
       "4  [Preheat oven to 350°F. Lightly grease 8x8x2-i...  32.0   \n",
       "\n",
       "                       date  \\\n",
       "0 2006-09-01 04:00:00+00:00   \n",
       "1 2004-08-20 04:00:00+00:00   \n",
       "2 2004-08-20 04:00:00+00:00   \n",
       "3 2009-03-27 04:00:00+00:00   \n",
       "4 2004-08-20 04:00:00+00:00   \n",
       "\n",
       "                                          categories  calories  \\\n",
       "0  [Sandwich, Bean, Fruit, Tomato, turkey, Vegeta...     426.0   \n",
       "1  [Food Processor, Onion, Pork, Bake, Bastille D...     403.0   \n",
       "2  [Soup/Stew, Dairy, Potato, Vegetable, Fennel, ...     165.0   \n",
       "3  [Fish, Olive, Tomato, Sauté, Low Fat, Low Cal,...       NaN   \n",
       "4  [Cheese, Dairy, Pasta, Vegetable, Side, Bake, ...     547.0   \n",
       "\n",
       "                                                desc  protein  rating  \\\n",
       "0                                               None     30.0   2.500   \n",
       "1  This uses the same ingredients found in boudin...     18.0   4.375   \n",
       "2                                               None      6.0   3.750   \n",
       "3  The Sicilian-style tomato sauce has tons of Me...      NaN   5.000   \n",
       "4                                               None     20.0   3.125   \n",
       "\n",
       "                                         title  \\\n",
       "0              Lentil, Apple, and Turkey Wrap    \n",
       "1  Boudin Blanc Terrine with Red Onion Confit    \n",
       "2                Potato and Fennel Soup Hodge    \n",
       "3             Mahi-Mahi in Tomato Olive Sauce    \n",
       "4                    Spinach Noodle Casserole    \n",
       "\n",
       "                                         ingredients  sodium  \n",
       "0  [4 cups low-sodium vegetable or chicken stock,...   559.0  \n",
       "1  [1 1/2 cups whipping cream, 2 medium onions, c...  1439.0  \n",
       "2  [1 fennel bulb (sometimes called anise), stalk...   165.0  \n",
       "3  [2 tablespoons extra-virgin olive oil, 1 cup c...     NaN  \n",
       "4  [1 12-ounce package frozen spinach soufflé, th...   452.0  "
      ]
     },
     "execution_count": 254,
     "metadata": {},
     "output_type": "execute_result"
    }
   ],
   "source": [
    "data.head()"
   ]
  },
  {
   "cell_type": "code",
   "execution_count": 255,
   "metadata": {},
   "outputs": [],
   "source": [
    "# safe some column names for easier access later\n",
    "mandatory_columns = ['directions', 'date', 'categories', 'title', 'ingredients']\n",
    "optional_columns = ['fat', 'calories', 'desc', 'protein', 'sodium']\n",
    "numerical_columns = ['fat', 'calories', 'protein', 'sodium']\n",
    "textual_columns = ['title', 'desc', 'directions']\n",
    "list_columns = ['categories', 'ingredients', 'directions']"
   ]
  },
  {
   "cell_type": "code",
   "execution_count": 256,
   "metadata": {},
   "outputs": [
    {
     "data": {
      "text/html": [
       "<div>\n",
       "<style scoped>\n",
       "    .dataframe tbody tr th:only-of-type {\n",
       "        vertical-align: middle;\n",
       "    }\n",
       "\n",
       "    .dataframe tbody tr th {\n",
       "        vertical-align: top;\n",
       "    }\n",
       "\n",
       "    .dataframe thead th {\n",
       "        text-align: right;\n",
       "    }\n",
       "</style>\n",
       "<table border=\"1\" class=\"dataframe\">\n",
       "  <thead>\n",
       "    <tr style=\"text-align: right;\">\n",
       "      <th></th>\n",
       "      <th>directions</th>\n",
       "      <th>fat</th>\n",
       "      <th>date</th>\n",
       "      <th>categories</th>\n",
       "      <th>calories</th>\n",
       "      <th>desc</th>\n",
       "      <th>protein</th>\n",
       "      <th>rating</th>\n",
       "      <th>title</th>\n",
       "      <th>ingredients</th>\n",
       "      <th>sodium</th>\n",
       "      <th>num_categories</th>\n",
       "      <th>num_ingredients</th>\n",
       "      <th>num_directions</th>\n",
       "    </tr>\n",
       "  </thead>\n",
       "  <tbody>\n",
       "    <tr>\n",
       "      <th>0</th>\n",
       "      <td>[1. Place the stock, lentils, celery, carrot, ...</td>\n",
       "      <td>7.0</td>\n",
       "      <td>2006-09-01 04:00:00+00:00</td>\n",
       "      <td>[Sandwich, Bean, Fruit, Tomato, turkey, Vegeta...</td>\n",
       "      <td>426.0</td>\n",
       "      <td>None</td>\n",
       "      <td>30.0</td>\n",
       "      <td>2.500</td>\n",
       "      <td>Lentil, Apple, and Turkey Wrap</td>\n",
       "      <td>[4 cups low-sodium vegetable or chicken stock,...</td>\n",
       "      <td>559.0</td>\n",
       "      <td>11</td>\n",
       "      <td>15</td>\n",
       "      <td>3</td>\n",
       "    </tr>\n",
       "    <tr>\n",
       "      <th>1</th>\n",
       "      <td>[Combine first 9 ingredients in heavy medium s...</td>\n",
       "      <td>23.0</td>\n",
       "      <td>2004-08-20 04:00:00+00:00</td>\n",
       "      <td>[Food Processor, Onion, Pork, Bake, Bastille D...</td>\n",
       "      <td>403.0</td>\n",
       "      <td>This uses the same ingredients found in boudin...</td>\n",
       "      <td>18.0</td>\n",
       "      <td>4.375</td>\n",
       "      <td>Boudin Blanc Terrine with Red Onion Confit</td>\n",
       "      <td>[1 1/2 cups whipping cream, 2 medium onions, c...</td>\n",
       "      <td>1439.0</td>\n",
       "      <td>11</td>\n",
       "      <td>28</td>\n",
       "      <td>5</td>\n",
       "    </tr>\n",
       "    <tr>\n",
       "      <th>2</th>\n",
       "      <td>[In a large heavy saucepan cook diced fennel a...</td>\n",
       "      <td>7.0</td>\n",
       "      <td>2004-08-20 04:00:00+00:00</td>\n",
       "      <td>[Soup/Stew, Dairy, Potato, Vegetable, Fennel, ...</td>\n",
       "      <td>165.0</td>\n",
       "      <td>None</td>\n",
       "      <td>6.0</td>\n",
       "      <td>3.750</td>\n",
       "      <td>Potato and Fennel Soup Hodge</td>\n",
       "      <td>[1 fennel bulb (sometimes called anise), stalk...</td>\n",
       "      <td>165.0</td>\n",
       "      <td>7</td>\n",
       "      <td>6</td>\n",
       "      <td>2</td>\n",
       "    </tr>\n",
       "    <tr>\n",
       "      <th>3</th>\n",
       "      <td>[Heat oil in heavy large skillet over medium-h...</td>\n",
       "      <td>NaN</td>\n",
       "      <td>2009-03-27 04:00:00+00:00</td>\n",
       "      <td>[Fish, Olive, Tomato, Sauté, Low Fat, Low Cal,...</td>\n",
       "      <td>NaN</td>\n",
       "      <td>The Sicilian-style tomato sauce has tons of Me...</td>\n",
       "      <td>NaN</td>\n",
       "      <td>5.000</td>\n",
       "      <td>Mahi-Mahi in Tomato Olive Sauce</td>\n",
       "      <td>[2 tablespoons extra-virgin olive oil, 1 cup c...</td>\n",
       "      <td>NaN</td>\n",
       "      <td>17</td>\n",
       "      <td>10</td>\n",
       "      <td>2</td>\n",
       "    </tr>\n",
       "    <tr>\n",
       "      <th>4</th>\n",
       "      <td>[Preheat oven to 350°F. Lightly grease 8x8x2-i...</td>\n",
       "      <td>32.0</td>\n",
       "      <td>2004-08-20 04:00:00+00:00</td>\n",
       "      <td>[Cheese, Dairy, Pasta, Vegetable, Side, Bake, ...</td>\n",
       "      <td>547.0</td>\n",
       "      <td>None</td>\n",
       "      <td>20.0</td>\n",
       "      <td>3.125</td>\n",
       "      <td>Spinach Noodle Casserole</td>\n",
       "      <td>[1 12-ounce package frozen spinach soufflé, th...</td>\n",
       "      <td>452.0</td>\n",
       "      <td>11</td>\n",
       "      <td>6</td>\n",
       "      <td>1</td>\n",
       "    </tr>\n",
       "  </tbody>\n",
       "</table>\n",
       "</div>"
      ],
      "text/plain": [
       "                                          directions   fat  \\\n",
       "0  [1. Place the stock, lentils, celery, carrot, ...   7.0   \n",
       "1  [Combine first 9 ingredients in heavy medium s...  23.0   \n",
       "2  [In a large heavy saucepan cook diced fennel a...   7.0   \n",
       "3  [Heat oil in heavy large skillet over medium-h...   NaN   \n",
       "4  [Preheat oven to 350°F. Lightly grease 8x8x2-i...  32.0   \n",
       "\n",
       "                       date  \\\n",
       "0 2006-09-01 04:00:00+00:00   \n",
       "1 2004-08-20 04:00:00+00:00   \n",
       "2 2004-08-20 04:00:00+00:00   \n",
       "3 2009-03-27 04:00:00+00:00   \n",
       "4 2004-08-20 04:00:00+00:00   \n",
       "\n",
       "                                          categories  calories  \\\n",
       "0  [Sandwich, Bean, Fruit, Tomato, turkey, Vegeta...     426.0   \n",
       "1  [Food Processor, Onion, Pork, Bake, Bastille D...     403.0   \n",
       "2  [Soup/Stew, Dairy, Potato, Vegetable, Fennel, ...     165.0   \n",
       "3  [Fish, Olive, Tomato, Sauté, Low Fat, Low Cal,...       NaN   \n",
       "4  [Cheese, Dairy, Pasta, Vegetable, Side, Bake, ...     547.0   \n",
       "\n",
       "                                                desc  protein  rating  \\\n",
       "0                                               None     30.0   2.500   \n",
       "1  This uses the same ingredients found in boudin...     18.0   4.375   \n",
       "2                                               None      6.0   3.750   \n",
       "3  The Sicilian-style tomato sauce has tons of Me...      NaN   5.000   \n",
       "4                                               None     20.0   3.125   \n",
       "\n",
       "                                         title  \\\n",
       "0              Lentil, Apple, and Turkey Wrap    \n",
       "1  Boudin Blanc Terrine with Red Onion Confit    \n",
       "2                Potato and Fennel Soup Hodge    \n",
       "3             Mahi-Mahi in Tomato Olive Sauce    \n",
       "4                    Spinach Noodle Casserole    \n",
       "\n",
       "                                         ingredients  sodium  num_categories  \\\n",
       "0  [4 cups low-sodium vegetable or chicken stock,...   559.0              11   \n",
       "1  [1 1/2 cups whipping cream, 2 medium onions, c...  1439.0              11   \n",
       "2  [1 fennel bulb (sometimes called anise), stalk...   165.0               7   \n",
       "3  [2 tablespoons extra-virgin olive oil, 1 cup c...     NaN              17   \n",
       "4  [1 12-ounce package frozen spinach soufflé, th...   452.0              11   \n",
       "\n",
       "   num_ingredients  num_directions  \n",
       "0               15               3  \n",
       "1               28               5  \n",
       "2                6               2  \n",
       "3               10               2  \n",
       "4                6               1  "
      ]
     },
     "execution_count": 256,
     "metadata": {},
     "output_type": "execute_result"
    }
   ],
   "source": [
    "# add some numerical features\n",
    "for column in list_columns:\n",
    "    data[f'num_{column}'] = data[column].apply(lambda x: len(x))\n",
    "data.head()"
   ]
  },
  {
   "cell_type": "code",
   "execution_count": 257,
   "metadata": {},
   "outputs": [],
   "source": [
    "# fill missing values and convert list column to string\n",
    "data['desc'] = data['desc'].fillna('')\n",
    "assert(data['desc'].isna().sum() == 0)\n",
    "\n",
    "data['directions'] = data['directions'].apply(lambda x: ' '.join(x))\n",
    "assert(data['directions'].isna().sum() == 0)"
   ]
  },
  {
   "cell_type": "code",
   "execution_count": 258,
   "metadata": {},
   "outputs": [],
   "source": [
    "# normalize numerical columns for better training\n",
    "scaler = StandardScaler()\n",
    "data[numerical_columns] = scaler.fit_transform(data[numerical_columns])"
   ]
  },
  {
   "cell_type": "code",
   "execution_count": 259,
   "metadata": {},
   "outputs": [
    {
     "data": {
      "text/plain": [
       "<Axes: xlabel='rating'>"
      ]
     },
     "execution_count": 259,
     "metadata": {},
     "output_type": "execute_result"
    },
    {
     "data": {
      "image/png": "[encoded data removed]",
      "text/plain": [
       "<Figure size 640x480 with 1 Axes>"
      ]
     },
     "metadata": {},
     "output_type": "display_data"
    }
   ],
   "source": [
    "# rating is a categorical variable and its very skewed\n",
    "ratings = data['rating']\n",
    "data.drop(columns=['rating'])\n",
    "rating_value_counts = ratings.value_counts()\n",
    "sns.barplot(x=rating_value_counts.index, y=rating_value_counts.values)"
   ]
  },
  {
   "cell_type": "markdown",
   "metadata": {},
   "source": [
    "# 3 Basic Project\n",
    "The basic project will consist of solving a regression task, comparing the performance obtained using different vectorizations of the documents and at least two different machine learning strategies, as described below. \n",
    "\n",
    "You should use the information in the directions and/or desc variables for all steps of the project, possibly combining this information with metadata from other variables. You should use appropriate metrics for evaluating this task. The performance of the different methods should be estimated using a validation methodology, which you should also explain in the documentation. You should provide a description of the methodology used and analyze the performance obtained according to the input variables.\n",
    "Keep in mind that the goal is to describe the work carried out and critically analyze the results obtained. Support this with graphs or other representations you consider appropriate. There is no need to describe the algorithms used, but you should explain how you tuned their parameters."
   ]
  },
  {
   "cell_type": "markdown",
   "metadata": {},
   "source": [
    "## 3.1\n",
    "Analysis of input variables. Visualize the relationship between the output variable and some categories in the categories variable and explain their potential relevance to the problem."
   ]
  },
  {
   "cell_type": "code",
   "execution_count": 260,
   "metadata": {},
   "outputs": [],
   "source": [
    "import matplotlib.pyplot as plt"
   ]
  },
  {
   "cell_type": "code",
   "execution_count": 261,
   "metadata": {},
   "outputs": [
    {
     "name": "stdout",
     "output_type": "stream",
     "text": [
      "675\n"
     ]
    }
   ],
   "source": [
    "# get all existing categories in a list\n",
    "all_categories = data['categories'].explode().unique().tolist()\n",
    "print(len(all_categories))"
   ]
  },
  {
   "cell_type": "code",
   "execution_count": 262,
   "metadata": {},
   "outputs": [],
   "source": [
    "# convert the lists of categories to a binary matrix (also called dummy encoding)\n",
    "categories = {category: data['categories'].apply(lambda x: 1 if category in x else 0) for category in all_categories}\n",
    "assert(len(categories) == len(all_categories))"
   ]
  },
  {
   "cell_type": "code",
   "execution_count": 263,
   "metadata": {},
   "outputs": [
    {
     "data": {
      "text/html": [
       "<div>\n",
       "<style scoped>\n",
       "    .dataframe tbody tr th:only-of-type {\n",
       "        vertical-align: middle;\n",
       "    }\n",
       "\n",
       "    .dataframe tbody tr th {\n",
       "        vertical-align: top;\n",
       "    }\n",
       "\n",
       "    .dataframe thead th {\n",
       "        text-align: right;\n",
       "    }\n",
       "</style>\n",
       "<table border=\"1\" class=\"dataframe\">\n",
       "  <thead>\n",
       "    <tr style=\"text-align: right;\">\n",
       "      <th></th>\n",
       "      <th>Sandwich</th>\n",
       "      <th>Bean</th>\n",
       "      <th>Fruit</th>\n",
       "      <th>Tomato</th>\n",
       "      <th>turkey</th>\n",
       "      <th>Vegetable</th>\n",
       "      <th>Kid-Friendly</th>\n",
       "      <th>Apple</th>\n",
       "      <th>Lentil</th>\n",
       "      <th>Lettuce</th>\n",
       "      <th>...</th>\n",
       "      <th>Quiche</th>\n",
       "      <th>Anthony Bourdain</th>\n",
       "      <th>Marinade</th>\n",
       "      <th>Pacific Palisades</th>\n",
       "      <th>Alaska</th>\n",
       "      <th>Mississippi</th>\n",
       "      <th>Crêpe</th>\n",
       "      <th>New Hampshire</th>\n",
       "      <th>Sourdough</th>\n",
       "      <th>rating</th>\n",
       "    </tr>\n",
       "  </thead>\n",
       "  <tbody>\n",
       "    <tr>\n",
       "      <th>0</th>\n",
       "      <td>1</td>\n",
       "      <td>1</td>\n",
       "      <td>1</td>\n",
       "      <td>1</td>\n",
       "      <td>1</td>\n",
       "      <td>1</td>\n",
       "      <td>1</td>\n",
       "      <td>1</td>\n",
       "      <td>1</td>\n",
       "      <td>1</td>\n",
       "      <td>...</td>\n",
       "      <td>0</td>\n",
       "      <td>0</td>\n",
       "      <td>0</td>\n",
       "      <td>0</td>\n",
       "      <td>0</td>\n",
       "      <td>0</td>\n",
       "      <td>0</td>\n",
       "      <td>0</td>\n",
       "      <td>0</td>\n",
       "      <td>2.500</td>\n",
       "    </tr>\n",
       "    <tr>\n",
       "      <th>1</th>\n",
       "      <td>0</td>\n",
       "      <td>0</td>\n",
       "      <td>0</td>\n",
       "      <td>0</td>\n",
       "      <td>0</td>\n",
       "      <td>0</td>\n",
       "      <td>0</td>\n",
       "      <td>0</td>\n",
       "      <td>0</td>\n",
       "      <td>0</td>\n",
       "      <td>...</td>\n",
       "      <td>0</td>\n",
       "      <td>0</td>\n",
       "      <td>0</td>\n",
       "      <td>0</td>\n",
       "      <td>0</td>\n",
       "      <td>0</td>\n",
       "      <td>0</td>\n",
       "      <td>0</td>\n",
       "      <td>0</td>\n",
       "      <td>4.375</td>\n",
       "    </tr>\n",
       "    <tr>\n",
       "      <th>2</th>\n",
       "      <td>0</td>\n",
       "      <td>0</td>\n",
       "      <td>0</td>\n",
       "      <td>0</td>\n",
       "      <td>0</td>\n",
       "      <td>1</td>\n",
       "      <td>0</td>\n",
       "      <td>0</td>\n",
       "      <td>0</td>\n",
       "      <td>0</td>\n",
       "      <td>...</td>\n",
       "      <td>0</td>\n",
       "      <td>0</td>\n",
       "      <td>0</td>\n",
       "      <td>0</td>\n",
       "      <td>0</td>\n",
       "      <td>0</td>\n",
       "      <td>0</td>\n",
       "      <td>0</td>\n",
       "      <td>0</td>\n",
       "      <td>3.750</td>\n",
       "    </tr>\n",
       "    <tr>\n",
       "      <th>3</th>\n",
       "      <td>0</td>\n",
       "      <td>0</td>\n",
       "      <td>0</td>\n",
       "      <td>1</td>\n",
       "      <td>0</td>\n",
       "      <td>0</td>\n",
       "      <td>0</td>\n",
       "      <td>0</td>\n",
       "      <td>0</td>\n",
       "      <td>0</td>\n",
       "      <td>...</td>\n",
       "      <td>0</td>\n",
       "      <td>0</td>\n",
       "      <td>0</td>\n",
       "      <td>0</td>\n",
       "      <td>0</td>\n",
       "      <td>0</td>\n",
       "      <td>0</td>\n",
       "      <td>0</td>\n",
       "      <td>0</td>\n",
       "      <td>5.000</td>\n",
       "    </tr>\n",
       "    <tr>\n",
       "      <th>4</th>\n",
       "      <td>0</td>\n",
       "      <td>0</td>\n",
       "      <td>0</td>\n",
       "      <td>0</td>\n",
       "      <td>0</td>\n",
       "      <td>1</td>\n",
       "      <td>0</td>\n",
       "      <td>0</td>\n",
       "      <td>0</td>\n",
       "      <td>0</td>\n",
       "      <td>...</td>\n",
       "      <td>0</td>\n",
       "      <td>0</td>\n",
       "      <td>0</td>\n",
       "      <td>0</td>\n",
       "      <td>0</td>\n",
       "      <td>0</td>\n",
       "      <td>0</td>\n",
       "      <td>0</td>\n",
       "      <td>0</td>\n",
       "      <td>3.125</td>\n",
       "    </tr>\n",
       "    <tr>\n",
       "      <th>...</th>\n",
       "      <td>...</td>\n",
       "      <td>...</td>\n",
       "      <td>...</td>\n",
       "      <td>...</td>\n",
       "      <td>...</td>\n",
       "      <td>...</td>\n",
       "      <td>...</td>\n",
       "      <td>...</td>\n",
       "      <td>...</td>\n",
       "      <td>...</td>\n",
       "      <td>...</td>\n",
       "      <td>...</td>\n",
       "      <td>...</td>\n",
       "      <td>...</td>\n",
       "      <td>...</td>\n",
       "      <td>...</td>\n",
       "      <td>...</td>\n",
       "      <td>...</td>\n",
       "      <td>...</td>\n",
       "      <td>...</td>\n",
       "      <td>...</td>\n",
       "    </tr>\n",
       "    <tr>\n",
       "      <th>20095</th>\n",
       "      <td>0</td>\n",
       "      <td>0</td>\n",
       "      <td>0</td>\n",
       "      <td>0</td>\n",
       "      <td>0</td>\n",
       "      <td>0</td>\n",
       "      <td>0</td>\n",
       "      <td>0</td>\n",
       "      <td>0</td>\n",
       "      <td>0</td>\n",
       "      <td>...</td>\n",
       "      <td>0</td>\n",
       "      <td>0</td>\n",
       "      <td>0</td>\n",
       "      <td>0</td>\n",
       "      <td>0</td>\n",
       "      <td>0</td>\n",
       "      <td>0</td>\n",
       "      <td>0</td>\n",
       "      <td>0</td>\n",
       "      <td>3.125</td>\n",
       "    </tr>\n",
       "    <tr>\n",
       "      <th>20096</th>\n",
       "      <td>0</td>\n",
       "      <td>0</td>\n",
       "      <td>0</td>\n",
       "      <td>0</td>\n",
       "      <td>0</td>\n",
       "      <td>0</td>\n",
       "      <td>1</td>\n",
       "      <td>0</td>\n",
       "      <td>0</td>\n",
       "      <td>0</td>\n",
       "      <td>...</td>\n",
       "      <td>0</td>\n",
       "      <td>0</td>\n",
       "      <td>0</td>\n",
       "      <td>0</td>\n",
       "      <td>0</td>\n",
       "      <td>0</td>\n",
       "      <td>0</td>\n",
       "      <td>0</td>\n",
       "      <td>0</td>\n",
       "      <td>4.375</td>\n",
       "    </tr>\n",
       "    <tr>\n",
       "      <th>20097</th>\n",
       "      <td>0</td>\n",
       "      <td>0</td>\n",
       "      <td>0</td>\n",
       "      <td>0</td>\n",
       "      <td>1</td>\n",
       "      <td>1</td>\n",
       "      <td>1</td>\n",
       "      <td>0</td>\n",
       "      <td>0</td>\n",
       "      <td>0</td>\n",
       "      <td>...</td>\n",
       "      <td>0</td>\n",
       "      <td>0</td>\n",
       "      <td>0</td>\n",
       "      <td>0</td>\n",
       "      <td>0</td>\n",
       "      <td>0</td>\n",
       "      <td>0</td>\n",
       "      <td>0</td>\n",
       "      <td>0</td>\n",
       "      <td>4.375</td>\n",
       "    </tr>\n",
       "    <tr>\n",
       "      <th>20098</th>\n",
       "      <td>0</td>\n",
       "      <td>0</td>\n",
       "      <td>0</td>\n",
       "      <td>0</td>\n",
       "      <td>0</td>\n",
       "      <td>0</td>\n",
       "      <td>0</td>\n",
       "      <td>0</td>\n",
       "      <td>0</td>\n",
       "      <td>0</td>\n",
       "      <td>...</td>\n",
       "      <td>0</td>\n",
       "      <td>0</td>\n",
       "      <td>0</td>\n",
       "      <td>0</td>\n",
       "      <td>0</td>\n",
       "      <td>0</td>\n",
       "      <td>0</td>\n",
       "      <td>0</td>\n",
       "      <td>0</td>\n",
       "      <td>4.375</td>\n",
       "    </tr>\n",
       "    <tr>\n",
       "      <th>20099</th>\n",
       "      <td>0</td>\n",
       "      <td>0</td>\n",
       "      <td>0</td>\n",
       "      <td>0</td>\n",
       "      <td>0</td>\n",
       "      <td>0</td>\n",
       "      <td>0</td>\n",
       "      <td>0</td>\n",
       "      <td>0</td>\n",
       "      <td>0</td>\n",
       "      <td>...</td>\n",
       "      <td>0</td>\n",
       "      <td>0</td>\n",
       "      <td>0</td>\n",
       "      <td>0</td>\n",
       "      <td>0</td>\n",
       "      <td>0</td>\n",
       "      <td>0</td>\n",
       "      <td>0</td>\n",
       "      <td>0</td>\n",
       "      <td>4.375</td>\n",
       "    </tr>\n",
       "  </tbody>\n",
       "</table>\n",
       "<p>20100 rows × 676 columns</p>\n",
       "</div>"
      ],
      "text/plain": [
       "       Sandwich  Bean  Fruit  Tomato  turkey  Vegetable  Kid-Friendly  Apple  \\\n",
       "0             1     1      1       1       1          1             1      1   \n",
       "1             0     0      0       0       0          0             0      0   \n",
       "2             0     0      0       0       0          1             0      0   \n",
       "3             0     0      0       1       0          0             0      0   \n",
       "4             0     0      0       0       0          1             0      0   \n",
       "...         ...   ...    ...     ...     ...        ...           ...    ...   \n",
       "20095         0     0      0       0       0          0             0      0   \n",
       "20096         0     0      0       0       0          0             1      0   \n",
       "20097         0     0      0       0       1          1             1      0   \n",
       "20098         0     0      0       0       0          0             0      0   \n",
       "20099         0     0      0       0       0          0             0      0   \n",
       "\n",
       "       Lentil  Lettuce  ...  Quiche  Anthony Bourdain  Marinade  \\\n",
       "0           1        1  ...       0                 0         0   \n",
       "1           0        0  ...       0                 0         0   \n",
       "2           0        0  ...       0                 0         0   \n",
       "3           0        0  ...       0                 0         0   \n",
       "4           0        0  ...       0                 0         0   \n",
       "...       ...      ...  ...     ...               ...       ...   \n",
       "20095       0        0  ...       0                 0         0   \n",
       "20096       0        0  ...       0                 0         0   \n",
       "20097       0        0  ...       0                 0         0   \n",
       "20098       0        0  ...       0                 0         0   \n",
       "20099       0        0  ...       0                 0         0   \n",
       "\n",
       "       Pacific Palisades  Alaska  Mississippi  Crêpe  New Hampshire  \\\n",
       "0                      0       0            0      0              0   \n",
       "1                      0       0            0      0              0   \n",
       "2                      0       0            0      0              0   \n",
       "3                      0       0            0      0              0   \n",
       "4                      0       0            0      0              0   \n",
       "...                  ...     ...          ...    ...            ...   \n",
       "20095                  0       0            0      0              0   \n",
       "20096                  0       0            0      0              0   \n",
       "20097                  0       0            0      0              0   \n",
       "20098                  0       0            0      0              0   \n",
       "20099                  0       0            0      0              0   \n",
       "\n",
       "       Sourdough  rating  \n",
       "0              0   2.500  \n",
       "1              0   4.375  \n",
       "2              0   3.750  \n",
       "3              0   5.000  \n",
       "4              0   3.125  \n",
       "...          ...     ...  \n",
       "20095          0   3.125  \n",
       "20096          0   4.375  \n",
       "20097          0   4.375  \n",
       "20098          0   4.375  \n",
       "20099          0   4.375  \n",
       "\n",
       "[20100 rows x 676 columns]"
      ]
     },
     "execution_count": 263,
     "metadata": {},
     "output_type": "execute_result"
    }
   ],
   "source": [
    "# create a dataframe with all categories and the rating\n",
    "categories_and_rating = pd.DataFrame(categories)\n",
    "categories_and_rating['rating'] = data['rating']\n",
    "#categories_and_rating.columns = [f\"{category} ({(categories_and_rating[category]).sum()})\" for category in all_categories] + ['rating']\n",
    "categories_and_rating"
   ]
  },
  {
   "cell_type": "code",
   "execution_count": 264,
   "metadata": {},
   "outputs": [
    {
     "data": {
      "text/plain": [
       "rating\n",
       "0.000    0.091990\n",
       "1.250    0.008159\n",
       "1.875    0.006169\n",
       "2.500    0.026667\n",
       "3.125    0.074080\n",
       "3.750    0.257413\n",
       "4.375    0.399652\n",
       "5.000    0.135871\n",
       "dtype: float64"
      ]
     },
     "execution_count": 264,
     "metadata": {},
     "output_type": "execute_result"
    }
   ],
   "source": [
    "# calculate the distribution of ratings so we can normalize the dataset in the next step\n",
    "grouped_by_rating = categories_and_rating.groupby(['rating'])\n",
    "normalizer = grouped_by_rating.size() / len(categories_and_rating)\n",
    "assert(abs(normalizer.sum() - 1)  < 0.001)\n",
    "normalizer"
   ]
  },
  {
   "cell_type": "code",
   "execution_count": 265,
   "metadata": {},
   "outputs": [
    {
     "name": "stdout",
     "output_type": "stream",
     "text": [
      "<class 'pandas.core.frame.DataFrame'>\n",
      "Index: 8 entries, 0.0 to 5.0\n",
      "Columns: 675 entries, Sandwich to Sourdough\n",
      "dtypes: float64(675)\n",
      "memory usage: 42.2 KB\n",
      "None\n"
     ]
    },
    {
     "data": {
      "text/html": [
       "<div>\n",
       "<style scoped>\n",
       "    .dataframe tbody tr th:only-of-type {\n",
       "        vertical-align: middle;\n",
       "    }\n",
       "\n",
       "    .dataframe tbody tr th {\n",
       "        vertical-align: top;\n",
       "    }\n",
       "\n",
       "    .dataframe thead th {\n",
       "        text-align: right;\n",
       "    }\n",
       "</style>\n",
       "<table border=\"1\" class=\"dataframe\">\n",
       "  <thead>\n",
       "    <tr style=\"text-align: right;\">\n",
       "      <th></th>\n",
       "      <th>Sandwich</th>\n",
       "      <th>Bean</th>\n",
       "      <th>Fruit</th>\n",
       "      <th>Tomato</th>\n",
       "      <th>turkey</th>\n",
       "      <th>Vegetable</th>\n",
       "      <th>Kid-Friendly</th>\n",
       "      <th>Apple</th>\n",
       "      <th>Lentil</th>\n",
       "      <th>Lettuce</th>\n",
       "      <th>...</th>\n",
       "      <th>Germany</th>\n",
       "      <th>Quiche</th>\n",
       "      <th>Anthony Bourdain</th>\n",
       "      <th>Marinade</th>\n",
       "      <th>Pacific Palisades</th>\n",
       "      <th>Alaska</th>\n",
       "      <th>Mississippi</th>\n",
       "      <th>Crêpe</th>\n",
       "      <th>New Hampshire</th>\n",
       "      <th>Sourdough</th>\n",
       "    </tr>\n",
       "    <tr>\n",
       "      <th>rating</th>\n",
       "      <th></th>\n",
       "      <th></th>\n",
       "      <th></th>\n",
       "      <th></th>\n",
       "      <th></th>\n",
       "      <th></th>\n",
       "      <th></th>\n",
       "      <th></th>\n",
       "      <th></th>\n",
       "      <th></th>\n",
       "      <th></th>\n",
       "      <th></th>\n",
       "      <th></th>\n",
       "      <th></th>\n",
       "      <th></th>\n",
       "      <th></th>\n",
       "      <th></th>\n",
       "      <th></th>\n",
       "      <th></th>\n",
       "      <th></th>\n",
       "      <th></th>\n",
       "    </tr>\n",
       "  </thead>\n",
       "  <tbody>\n",
       "    <tr>\n",
       "      <th>0.000</th>\n",
       "      <td>0.122039</td>\n",
       "      <td>0.070554</td>\n",
       "      <td>0.083406</td>\n",
       "      <td>0.077012</td>\n",
       "      <td>0.143805</td>\n",
       "      <td>0.048911</td>\n",
       "      <td>0.168234</td>\n",
       "      <td>0.099242</td>\n",
       "      <td>0.083330</td>\n",
       "      <td>0.073780</td>\n",
       "      <td>...</td>\n",
       "      <td>1.0</td>\n",
       "      <td>1.0</td>\n",
       "      <td>0.224738</td>\n",
       "      <td>1.0</td>\n",
       "      <td>0.0</td>\n",
       "      <td>0.0</td>\n",
       "      <td>0.0</td>\n",
       "      <td>0.0</td>\n",
       "      <td>0.0</td>\n",
       "      <td>0.0</td>\n",
       "    </tr>\n",
       "    <tr>\n",
       "      <th>1.250</th>\n",
       "      <td>0.148747</td>\n",
       "      <td>0.106060</td>\n",
       "      <td>0.137811</td>\n",
       "      <td>0.076611</td>\n",
       "      <td>0.085332</td>\n",
       "      <td>0.088230</td>\n",
       "      <td>0.135481</td>\n",
       "      <td>0.109695</td>\n",
       "      <td>0.000000</td>\n",
       "      <td>0.083182</td>\n",
       "      <td>...</td>\n",
       "      <td>0.0</td>\n",
       "      <td>0.0</td>\n",
       "      <td>0.000000</td>\n",
       "      <td>0.0</td>\n",
       "      <td>0.0</td>\n",
       "      <td>0.0</td>\n",
       "      <td>0.0</td>\n",
       "      <td>1.0</td>\n",
       "      <td>0.0</td>\n",
       "      <td>0.0</td>\n",
       "    </tr>\n",
       "    <tr>\n",
       "      <th>1.875</th>\n",
       "      <td>0.147548</td>\n",
       "      <td>0.210409</td>\n",
       "      <td>0.117937</td>\n",
       "      <td>0.135100</td>\n",
       "      <td>0.000000</td>\n",
       "      <td>0.194486</td>\n",
       "      <td>0.115943</td>\n",
       "      <td>0.232129</td>\n",
       "      <td>0.000000</td>\n",
       "      <td>0.000000</td>\n",
       "      <td>...</td>\n",
       "      <td>0.0</td>\n",
       "      <td>0.0</td>\n",
       "      <td>0.000000</td>\n",
       "      <td>0.0</td>\n",
       "      <td>0.0</td>\n",
       "      <td>0.0</td>\n",
       "      <td>0.0</td>\n",
       "      <td>0.0</td>\n",
       "      <td>0.0</td>\n",
       "      <td>0.0</td>\n",
       "    </tr>\n",
       "    <tr>\n",
       "      <th>2.500</th>\n",
       "      <td>0.113781</td>\n",
       "      <td>0.129805</td>\n",
       "      <td>0.143860</td>\n",
       "      <td>0.106786</td>\n",
       "      <td>0.104436</td>\n",
       "      <td>0.141728</td>\n",
       "      <td>0.124359</td>\n",
       "      <td>0.107403</td>\n",
       "      <td>0.143728</td>\n",
       "      <td>0.229061</td>\n",
       "      <td>...</td>\n",
       "      <td>0.0</td>\n",
       "      <td>0.0</td>\n",
       "      <td>0.775262</td>\n",
       "      <td>0.0</td>\n",
       "      <td>0.0</td>\n",
       "      <td>0.0</td>\n",
       "      <td>0.0</td>\n",
       "      <td>0.0</td>\n",
       "      <td>0.0</td>\n",
       "      <td>0.0</td>\n",
       "    </tr>\n",
       "    <tr>\n",
       "      <th>3.125</th>\n",
       "      <td>0.069629</td>\n",
       "      <td>0.131418</td>\n",
       "      <td>0.125893</td>\n",
       "      <td>0.148135</td>\n",
       "      <td>0.117482</td>\n",
       "      <td>0.172491</td>\n",
       "      <td>0.100943</td>\n",
       "      <td>0.106321</td>\n",
       "      <td>0.206953</td>\n",
       "      <td>0.128265</td>\n",
       "      <td>...</td>\n",
       "      <td>0.0</td>\n",
       "      <td>0.0</td>\n",
       "      <td>0.000000</td>\n",
       "      <td>0.0</td>\n",
       "      <td>0.0</td>\n",
       "      <td>0.0</td>\n",
       "      <td>1.0</td>\n",
       "      <td>0.0</td>\n",
       "      <td>0.0</td>\n",
       "      <td>0.0</td>\n",
       "    </tr>\n",
       "    <tr>\n",
       "      <th>3.750</th>\n",
       "      <td>0.121407</td>\n",
       "      <td>0.146237</td>\n",
       "      <td>0.123080</td>\n",
       "      <td>0.170794</td>\n",
       "      <td>0.120362</td>\n",
       "      <td>0.156845</td>\n",
       "      <td>0.102054</td>\n",
       "      <td>0.116827</td>\n",
       "      <td>0.275455</td>\n",
       "      <td>0.147651</td>\n",
       "      <td>...</td>\n",
       "      <td>0.0</td>\n",
       "      <td>0.0</td>\n",
       "      <td>0.000000</td>\n",
       "      <td>0.0</td>\n",
       "      <td>0.0</td>\n",
       "      <td>1.0</td>\n",
       "      <td>0.0</td>\n",
       "      <td>0.0</td>\n",
       "      <td>0.0</td>\n",
       "      <td>0.0</td>\n",
       "    </tr>\n",
       "    <tr>\n",
       "      <th>4.375</th>\n",
       "      <td>0.149562</td>\n",
       "      <td>0.141827</td>\n",
       "      <td>0.146799</td>\n",
       "      <td>0.164924</td>\n",
       "      <td>0.167244</td>\n",
       "      <td>0.132845</td>\n",
       "      <td>0.105106</td>\n",
       "      <td>0.136162</td>\n",
       "      <td>0.191804</td>\n",
       "      <td>0.173219</td>\n",
       "      <td>...</td>\n",
       "      <td>0.0</td>\n",
       "      <td>0.0</td>\n",
       "      <td>0.000000</td>\n",
       "      <td>0.0</td>\n",
       "      <td>1.0</td>\n",
       "      <td>0.0</td>\n",
       "      <td>0.0</td>\n",
       "      <td>0.0</td>\n",
       "      <td>1.0</td>\n",
       "      <td>0.0</td>\n",
       "    </tr>\n",
       "    <tr>\n",
       "      <th>5.000</th>\n",
       "      <td>0.127288</td>\n",
       "      <td>0.063690</td>\n",
       "      <td>0.121215</td>\n",
       "      <td>0.120638</td>\n",
       "      <td>0.261339</td>\n",
       "      <td>0.064463</td>\n",
       "      <td>0.147880</td>\n",
       "      <td>0.092222</td>\n",
       "      <td>0.098731</td>\n",
       "      <td>0.164841</td>\n",
       "      <td>...</td>\n",
       "      <td>0.0</td>\n",
       "      <td>0.0</td>\n",
       "      <td>0.000000</td>\n",
       "      <td>0.0</td>\n",
       "      <td>0.0</td>\n",
       "      <td>0.0</td>\n",
       "      <td>0.0</td>\n",
       "      <td>0.0</td>\n",
       "      <td>0.0</td>\n",
       "      <td>1.0</td>\n",
       "    </tr>\n",
       "  </tbody>\n",
       "</table>\n",
       "<p>8 rows × 675 columns</p>\n",
       "</div>"
      ],
      "text/plain": [
       "        Sandwich      Bean     Fruit    Tomato    turkey  Vegetable  \\\n",
       "rating                                                                \n",
       "0.000   0.122039  0.070554  0.083406  0.077012  0.143805   0.048911   \n",
       "1.250   0.148747  0.106060  0.137811  0.076611  0.085332   0.088230   \n",
       "1.875   0.147548  0.210409  0.117937  0.135100  0.000000   0.194486   \n",
       "2.500   0.113781  0.129805  0.143860  0.106786  0.104436   0.141728   \n",
       "3.125   0.069629  0.131418  0.125893  0.148135  0.117482   0.172491   \n",
       "3.750   0.121407  0.146237  0.123080  0.170794  0.120362   0.156845   \n",
       "4.375   0.149562  0.141827  0.146799  0.164924  0.167244   0.132845   \n",
       "5.000   0.127288  0.063690  0.121215  0.120638  0.261339   0.064463   \n",
       "\n",
       "        Kid-Friendly     Apple    Lentil   Lettuce  ...  Germany  Quiche  \\\n",
       "rating                                              ...                    \n",
       "0.000       0.168234  0.099242  0.083330  0.073780  ...      1.0     1.0   \n",
       "1.250       0.135481  0.109695  0.000000  0.083182  ...      0.0     0.0   \n",
       "1.875       0.115943  0.232129  0.000000  0.000000  ...      0.0     0.0   \n",
       "2.500       0.124359  0.107403  0.143728  0.229061  ...      0.0     0.0   \n",
       "3.125       0.100943  0.106321  0.206953  0.128265  ...      0.0     0.0   \n",
       "3.750       0.102054  0.116827  0.275455  0.147651  ...      0.0     0.0   \n",
       "4.375       0.105106  0.136162  0.191804  0.173219  ...      0.0     0.0   \n",
       "5.000       0.147880  0.092222  0.098731  0.164841  ...      0.0     0.0   \n",
       "\n",
       "        Anthony Bourdain  Marinade  Pacific Palisades  Alaska  Mississippi  \\\n",
       "rating                                                                       \n",
       "0.000           0.224738       1.0                0.0     0.0          0.0   \n",
       "1.250           0.000000       0.0                0.0     0.0          0.0   \n",
       "1.875           0.000000       0.0                0.0     0.0          0.0   \n",
       "2.500           0.775262       0.0                0.0     0.0          0.0   \n",
       "3.125           0.000000       0.0                0.0     0.0          1.0   \n",
       "3.750           0.000000       0.0                0.0     1.0          0.0   \n",
       "4.375           0.000000       0.0                1.0     0.0          0.0   \n",
       "5.000           0.000000       0.0                0.0     0.0          0.0   \n",
       "\n",
       "        Crêpe  New Hampshire  Sourdough  \n",
       "rating                                   \n",
       "0.000     0.0            0.0        0.0  \n",
       "1.250     1.0            0.0        0.0  \n",
       "1.875     0.0            0.0        0.0  \n",
       "2.500     0.0            0.0        0.0  \n",
       "3.125     0.0            0.0        0.0  \n",
       "3.750     0.0            0.0        0.0  \n",
       "4.375     0.0            1.0        0.0  \n",
       "5.000     0.0            0.0        1.0  \n",
       "\n",
       "[8 rows x 675 columns]"
      ]
     },
     "execution_count": 265,
     "metadata": {},
     "output_type": "execute_result"
    }
   ],
   "source": [
    "# to normalize the data we use the normalizer and we divide by the sum of the column so its not important how many occurences of a category there are, only the relative distribution\n",
    "normalize_column = lambda x: x / normalizer / (x / normalizer).sum()\n",
    "relations = grouped_by_rating.sum().apply(normalize_column)\n",
    "relations = relations.astype(float)\n",
    "print(relations.info())\n",
    "relations"
   ]
  },
  {
   "cell_type": "code",
   "execution_count": 266,
   "metadata": {},
   "outputs": [
    {
     "data": {
      "text/plain": [
       "<Axes: xlabel='corr', ylabel='count'>"
      ]
     },
     "execution_count": 266,
     "metadata": {},
     "output_type": "execute_result"
    },
    {
     "data": {
      "image/png": "[encoded data removed]",
      "text/plain": [
       "<Figure size 640x480 with 1 Axes>"
      ]
     },
     "metadata": {},
     "output_type": "display_data"
    }
   ],
   "source": [
    "#calculate the difference between the rating and the mean rating for each category, so we can see which categories have an impact on the rating\n",
    "correlation = ((relations - normalizer.to_numpy().reshape(-1,1)) ** 2).mean()\n",
    "correlation.sort_values(ascending=False)\n",
    "#combine that with the number of recipes in each category, so we can see if the correlation is significant\n",
    "correlation = correlation.to_frame()\n",
    "correlation.columns = ['corr']\n",
    "correlation['count'] = categories_and_rating.sum()\n",
    "sns.scatterplot(x='corr', y='count', data=correlation, alpha=0.5)"
   ]
  },
  {
   "cell_type": "code",
   "execution_count": 267,
   "metadata": {},
   "outputs": [
    {
     "name": "stdout",
     "output_type": "stream",
     "text": [
      "Max correlation is: 0.1558588945818173\n"
     ]
    }
   ],
   "source": [
    "max_corr = correlation['corr'].max()\n",
    "print(f\"Max correlation is: {max_corr}\")"
   ]
  },
  {
   "cell_type": "code",
   "execution_count": 268,
   "metadata": {},
   "outputs": [
    {
     "data": {
      "text/plain": [
       "<Axes: ylabel='rating'>"
      ]
     },
     "execution_count": 268,
     "metadata": {},
     "output_type": "execute_result"
    },
    {
     "data": {
      "image/png": "[encoded data removed]",
      "text/plain": [
       "<Figure size 1900x600 with 2 Axes>"
      ]
     },
     "metadata": {},
     "output_type": "display_data"
    }
   ],
   "source": [
    "display_columns = correlation.sort_values(by='count', ascending=True).head(20)\n",
    "plt.figure(figsize=(19, 6))\n",
    "sns.heatmap(relations[display_columns.index])"
   ]
  },
  {
   "cell_type": "code",
   "execution_count": 270,
   "metadata": {},
   "outputs": [
    {
     "data": {
      "text/plain": [
       "<Axes: ylabel='rating'>"
      ]
     },
     "execution_count": 270,
     "metadata": {},
     "output_type": "execute_result"
    },
    {
     "data": {
      "image/png": "[encoded data removed]",
      "text/plain": [
       "<Figure size 1900x600 with 2 Axes>"
      ]
     },
     "metadata": {},
     "output_type": "display_data"
    }
   ],
   "source": [
    "display_columns = correlation.sort_values(by='count', ascending=False).head(20)\n",
    "plt.figure(figsize=(19, 6))\n",
    "sns.heatmap(relations[display_columns.index])"
   ]
  },
  {
   "cell_type": "code",
   "execution_count": 271,
   "metadata": {},
   "outputs": [
    {
     "name": "stdout",
     "output_type": "stream",
     "text": [
      "48 20052\n"
     ]
    },
    {
     "data": {
      "text/plain": [
       "<Axes: ylabel='rating'>"
      ]
     },
     "execution_count": 271,
     "metadata": {},
     "output_type": "execute_result"
    },
    {
     "data": {
      "image/png": "[encoded data removed]",
      "text/plain": [
       "<Figure size 640x480 with 2 Axes>"
      ]
     },
     "metadata": {},
     "output_type": "display_data"
    }
   ],
   "source": [
    "no_categories = data[data['num_categories'] == 0]\n",
    "at_least_one_category = data[data['num_categories'] > 0]\n",
    "print(len(no_categories), len(at_least_one_category))\n",
    "no_categories = no_categories.groupby('rating').size()\n",
    "at_least_one_category = at_least_one_category.groupby('rating').size()\n",
    "combined = pd.DataFrame({'no_categories': no_categories, 'at_least_one_category': at_least_one_category}).apply(normalize_column)\n",
    "sns.heatmap(combined)"
   ]
  },
  {
   "cell_type": "code",
   "execution_count": 273,
   "metadata": {},
   "outputs": [
    {
     "data": {
      "text/plain": [
       "<Axes: ylabel='rating'>"
      ]
     },
     "execution_count": 273,
     "metadata": {},
     "output_type": "execute_result"
    },
    {
     "data": {
      "image/png": "[encoded data removed]",
      "text/plain": [
       "<Figure size 1900x600 with 2 Axes>"
      ]
     },
     "metadata": {},
     "output_type": "display_data"
    }
   ],
   "source": [
    "significant_columns = correlation[(correlation['count'] > 100) & (correlation['corr'] > 0.035)]\n",
    "plt.figure(figsize=(19, 6))\n",
    "sns.heatmap(relations[significant_columns.index])"
   ]
  },
  {
   "cell_type": "code",
   "execution_count": 275,
   "metadata": {},
   "outputs": [
    {
     "data": {
      "text/plain": [
       "<Axes: ylabel='rating'>"
      ]
     },
     "execution_count": 275,
     "metadata": {},
     "output_type": "execute_result"
    },
    {
     "data": {
      "image/png": "[encoded data removed]",
      "text/plain": [
       "<Figure size 1900x600 with 2 Axes>"
      ]
     },
     "metadata": {},
     "output_type": "display_data"
    }
   ],
   "source": [
    "display_columns = ['England', 'France', 'Germany', 'Italy', 'Japan', 'Mexico', 'Spain']\n",
    "occurrences = categories_and_rating[display_columns].sum()\n",
    "displayed_names = [f\"{country} ({occurrences[country]})\" for country in display_columns]\n",
    "plt.figure(figsize=(19, 6))\n",
    "sns.heatmap(relations[display_columns], xticklabels=displayed_names)"
   ]
  },
  {
   "cell_type": "code",
   "execution_count": 204,
   "metadata": {},
   "outputs": [
    {
     "name": "stdout",
     "output_type": "stream",
     "text": [
      "[9.01962390e-01 9.50294964e-02 2.99814964e-03 9.96439782e-06]\n",
      "[[ 0.51497528  0.52123688  0.43833303  0.52055425]\n",
      " [-0.30493785 -0.23833489  0.89670978 -0.21475788]\n",
      " [-0.67203448 -0.02397247 -0.05819634  0.7378402 ]\n",
      " [-0.43609979  0.81910556 -0.01972056 -0.37214803]]\n"
     ]
    },
    {
     "data": {
      "image/png": "[encoded data removed]",
      "text/plain": [
       "<Figure size 640x480 with 1 Axes>"
      ]
     },
     "metadata": {},
     "output_type": "display_data"
    }
   ],
   "source": [
    "# we do a PCA to see if we can reduce the number of dimensions\n",
    "from sklearn.decomposition import PCA\n",
    "pca = PCA()\n",
    "pca.fit(data[numerical_columns].dropna())\n",
    "sns.lineplot(x=range(len(pca.explained_variance_ratio_)), y=np.cumsum(pca.explained_variance_ratio_))\n",
    "print(pca.explained_variance_ratio_) # the first component explains 99% of the variance\n",
    "print(pca.components_)"
   ]
  },
  {
   "cell_type": "code",
   "execution_count": 205,
   "metadata": {},
   "outputs": [],
   "source": [
    "# we impute the nan values with the mean, so we can use the PCA to reduce the number of dimensions to one\n",
    "from sklearn.impute import SimpleImputer\n",
    "\n",
    "imp = SimpleImputer(missing_values=np.nan, strategy='mean')\n",
    "data[numerical_columns] = imp.fit_transform(data[numerical_columns])"
   ]
  },
  {
   "cell_type": "code",
   "execution_count": 206,
   "metadata": {},
   "outputs": [],
   "source": [
    "data['numerical_columns'] = pca.transform(data[numerical_columns])[:,0]\n",
    "data['numerical_columns_2'] = pca.transform(data[numerical_columns])[:,1]\n",
    "data.drop(columns=numerical_columns, inplace=True)"
   ]
  },
  {
   "cell_type": "code",
   "execution_count": 207,
   "metadata": {},
   "outputs": [],
   "source": [
    "data.to_json(directory+'preprocessed_recipes.json')"
   ]
  },
  {
   "cell_type": "markdown",
   "metadata": {},
   "source": [
    "## 3.2\n",
    "Implementation of a pipeline for text preprocessing. For this task, you may use common libraries (NLTK, Gensim, or SpaCy), or any other library you deem appropriate. Keep in mind that when working with transformers, the text is passed without preprocessing."
   ]
  },
  {
   "cell_type": "code",
   "execution_count": 208,
   "metadata": {},
   "outputs": [],
   "source": [
    "from nltk.stem import WordNetLemmatizer\n",
    "import string\n",
    "from nltk.tokenize import sent_tokenize, word_tokenize\n",
    "from nltk.corpus import stopwords\n",
    "import nltk\n",
    "from nltk.stem import WordNetLemmatizer\n",
    "from nltk.corpus import wordnet"
   ]
  },
  {
   "cell_type": "code",
   "execution_count": 209,
   "metadata": {},
   "outputs": [],
   "source": [
    "stop_words = set(stopwords.words('english'))\n",
    "lemmatizer=WordNetLemmatizer()"
   ]
  },
  {
   "cell_type": "code",
   "execution_count": 210,
   "metadata": {},
   "outputs": [],
   "source": [
    "def nltk_pos_tagger(nltk_tag): #Method copied from: https://www.holisticseo.digital/python-seo/nltk/lemmatize\n",
    "    if nltk_tag.startswith('J'):\n",
    "        return wordnet.ADJ\n",
    "    elif nltk_tag.startswith('V'):\n",
    "        return wordnet.VERB\n",
    "    elif nltk_tag.startswith('N'):\n",
    "        return wordnet.NOUN\n",
    "    elif nltk_tag.startswith('R'):\n",
    "        return wordnet.ADV\n",
    "    else:          \n",
    "        return None\n",
    "\n",
    "# preprocessing of a string \n",
    "def preprocessing(text):\n",
    "\tall_words = []\n",
    "\n",
    "\ttext = text.translate(str.maketrans('', '', string.punctuation)) #Remove punctuation\n",
    "\ttext = text.translate(str.maketrans('', '', string.digits)) #Remove numbers\n",
    "\n",
    "\tfor sentence in sent_tokenize(text):\n",
    "\t\twords = []\n",
    "\t\tnltk_tagged = nltk.pos_tag(word_tokenize(sentence)) #POS tagging so that we can lemmatize\n",
    "\t\twordnet_tagged = map(lambda x: (x[0], nltk_pos_tagger(x[1])), nltk_tagged) #map the POS tags from nltk to wordnet tags\n",
    "\t\n",
    "\t\tfor word, tag in wordnet_tagged: #Iterate over the words\n",
    "\t\t\tlemmatized_word = word\n",
    "\t\t\tif not tag is None:\n",
    "\t\t\t\tlemmatized_word = lemmatizer.lemmatize(lemmatized_word, tag)\t#Lemmatize the word\n",
    "\t\t\tif (not lemmatized_word.isnumeric()) and (lemmatized_word not in stop_words): #Remove stopwords and numbers\n",
    "\t\t\t\twords.append(lemmatized_word)\n",
    "\t\tall_words.append(words)\n",
    "\treturn all_words"
   ]
  },
  {
   "cell_type": "markdown",
   "metadata": {},
   "source": [
    "## 3.3\n",
    "Vector representation of the documents using three different procedures:"
   ]
  },
  {
   "cell_type": "markdown",
   "metadata": {},
   "source": [
    "### TF-IDF"
   ]
  },
  {
   "cell_type": "code",
   "execution_count": 211,
   "metadata": {},
   "outputs": [],
   "source": [
    "from sklearn.feature_extraction.text import TfidfVectorizer\n",
    "# nltk.download('stopwords')\n",
    "# nltk.download('wordnet')\n",
    "#nltk.download('punkt_tab')\n",
    "#nltk.download('averaged_perceptron_tagger_eng')"
   ]
  },
  {
   "cell_type": "code",
   "execution_count": 212,
   "metadata": {},
   "outputs": [],
   "source": [
    "def flatten(xss): #method from: https://stackoverflow.com/questions/952914/how-do-i-make-a-flat-list-out-of-a-list-of-lists\n",
    "    return [x for xs in xss for x in xs]\n",
    "\n",
    "def get_tfidf_matrix(data):\n",
    "    tfidf_vectorizer = TfidfVectorizer(min_df=0.005) #max_df doesn't really do anything here - min_df==0.005 means about 100 times\n",
    "\n",
    "    joined_textual_columns = data[textual_columns].apply(lambda x: ' '.join(x), axis=1) #Join the textual columns\n",
    "    joined_textual_columns = joined_textual_columns.apply(preprocessing) #Preprocess the text\n",
    "    joined_textual_columns = joined_textual_columns.apply(lambda x: ' '.join(flatten(x))) #Flatten the list of lists to a list of strings\n",
    "\n",
    "    tfidf_matrix = tfidf_vectorizer.fit_transform(joined_textual_columns) #Fit the vectorizer and transform the text\n",
    "    \n",
    "    tfidf_df = pd.DataFrame(tfidf_matrix.toarray(), columns=tfidf_vectorizer.get_feature_names_out()) #Convert the matrix to a dataframe\n",
    "    return tfidf_df"
   ]
  },
  {
   "cell_type": "code",
   "execution_count": 213,
   "metadata": {},
   "outputs": [
    {
     "name": "stdout",
     "output_type": "stream",
     "text": [
      "   absorb  accompaniment  accompany  accord  accumulate  accumulated  across  \\\n",
      "0     0.0            0.0        0.0     0.0         0.0          0.0     0.0   \n",
      "1     0.0            0.0        0.0     0.0         0.0          0.0     0.0   \n",
      "2     0.0            0.0        0.0     0.0         0.0          0.0     0.0   \n",
      "3     0.0            0.0        0.0     0.0         0.0          0.0     0.0   \n",
      "4     0.0            0.0        0.0     0.0         0.0          0.0     0.0   \n",
      "\n",
      "   active       add  addition  ...  yield  yogurt  yolk  york  you  youll  \\\n",
      "0     0.0  0.028909       0.0  ...    0.0     0.0   0.0   0.0  0.0    0.0   \n",
      "1     0.0  0.202181       0.0  ...    0.0     0.0   0.0   0.0  0.0    0.0   \n",
      "2     0.0  0.042508       0.0  ...    0.0     0.0   0.0   0.0  0.0    0.0   \n",
      "3     0.0  0.122710       0.0  ...    0.0     0.0   0.0   0.0  0.0    0.0   \n",
      "4     0.0  0.000000       0.0  ...    0.0     0.0   0.0   0.0  0.0    0.0   \n",
      "\n",
      "   youre  youve  zest  zucchini  \n",
      "0    0.0    0.0   0.0       0.0  \n",
      "1    0.0    0.0   0.0       0.0  \n",
      "2    0.0    0.0   0.0       0.0  \n",
      "3    0.0    0.0   0.0       0.0  \n",
      "4    0.0    0.0   0.0       0.0  \n",
      "\n",
      "[5 rows x 1450 columns]\n",
      "Index(['absorb', 'accompaniment', 'accompany', 'accord', 'accumulate',\n",
      "       'accumulated', 'across', 'active', 'add', 'addition',\n",
      "       ...\n",
      "       'yield', 'yogurt', 'yolk', 'york', 'you', 'youll', 'youre', 'youve',\n",
      "       'zest', 'zucchini'],\n",
      "      dtype='object', length=1450)\n"
     ]
    }
   ],
   "source": [
    "if not runs_on_gpu:\n",
    "    tfidf = get_tfidf_matrix(data) \n",
    "    tfidf.to_pickle(directory+'tfidf.pkl')\n",
    "    print(tfidf.head())\n",
    "    print(tfidf.columns)"
   ]
  },
  {
   "cell_type": "markdown",
   "metadata": {},
   "source": [
    "### Word2Vec (i.e., representing the documents as the average of the embeddings of the words that make them up)\n",
    "Punktuation filter from: https://medium.com/product-ai/text-preprocessing-in-python-steps-tools-and-examples-bf025f872908"
   ]
  },
  {
   "cell_type": "code",
   "execution_count": 214,
   "metadata": {},
   "outputs": [],
   "source": [
    "from gensim.models import Word2Vec"
   ]
  },
  {
   "cell_type": "code",
   "execution_count": 243,
   "metadata": {},
   "outputs": [],
   "source": [
    "def get_word2vec_for_text(text):\n",
    "\tall_words = preprocessing(text)\n",
    "\n",
    "\tmodel = Word2Vec(all_words, min_count=1, vector_size=500, workers=16) #Create a word2vec model\n",
    "\n",
    "\treturn model.wv #Return the word vectors from the model\n",
    "\n",
    "def get_avrg_word2vec(text):\n",
    "\tif(text.strip() == ''): #Make sure that the text is not empty\n",
    "\t\treturn pd.NA\n",
    "\n",
    "\tword_vectors = get_word2vec_for_text(text) \n",
    "\n",
    "\treturn np.mean(word_vectors.vectors, axis=0, dtype='float32') # We average the word vectors to get a single vector for the text so there is less data, we hope that the average is a good representation\n",
    "\n",
    "def get_word2vec(data):\n",
    "\tjoined_textual_columns = data[textual_columns].apply(lambda x: ' '.join(x), axis=1)\n",
    "\tavrg_word2vec = list()\n",
    "\tfor text in joined_textual_columns:\n",
    "\t\tavrg_word2vec.append(get_avrg_word2vec(text))\n",
    "\n",
    "\treturn np.array(avrg_word2vec, dtype='float32')"
   ]
  },
  {
   "cell_type": "code",
   "execution_count": 244,
   "metadata": {},
   "outputs": [
    {
     "name": "stdout",
     "output_type": "stream",
     "text": [
      "(20100, 500)\n"
     ]
    }
   ],
   "source": [
    "if not runs_on_gpu:\n",
    "    word2vec = get_word2vec(data)\n",
    "    np.save(\"word2vec.npy\", word2vec)\n",
    "    print(word2vec.shape)"
   ]
  },
  {
   "cell_type": "markdown",
   "metadata": {},
   "source": [
    "### Contextual embeddings calculated from transformer-based models (e.g., BERT, RoBERTa, etc.)"
   ]
  },
  {
   "cell_type": "code",
   "execution_count": 217,
   "metadata": {},
   "outputs": [],
   "source": [
    "from transformers import BertModel, BertTokenizer"
   ]
  },
  {
   "cell_type": "code",
   "execution_count": 218,
   "metadata": {},
   "outputs": [],
   "source": [
    "def prepare_input(texts, tokenizer):\n",
    "    return tokenizer(texts, padding=True, truncation=True, max_length=512, return_tensors='pt')\n",
    "\n",
    "# The method gets a text and a model and returns the context embedding of the text\n",
    "def get_context_embeddings_batch(texts, model, tokenizer, batch_size=450): #batch size is 450 because this is the maximum that fits on the GPU of colab\n",
    "    all_embeddings = []\n",
    "    for i in range(0, len(texts), batch_size): # we iterate over the texts in batches, so we don't run out of memory on the GPU\n",
    "        print(i)\n",
    "        batch_texts = texts[i:i + batch_size]   # Get the next batch of texts\n",
    "        inputs = prepare_input(batch_texts, tokenizer) # tokenizes the texts\n",
    "        inputs = inputs.to(device) # moves the inputs to the GPU\n",
    "        \n",
    "        with torch.no_grad(): # we just use the model for inference, so we don't need to calculate the gradients like for training\n",
    "            outputs = model(**inputs) \n",
    "        embeddings = outputs.last_hidden_state.mean(dim=1).detach().cpu().numpy() # we take the mean of the embeddings of the tokens in the text and hope that this is a good representation of the text\n",
    "        all_embeddings.extend(embeddings)\n",
    "    \n",
    "    return np.array(all_embeddings, dtype='float32')\n",
    "\n",
    "def join_textual_columns(row):\n",
    "    return f\"Title: '{row['title']}'\\nDescription: '{row['desc']}'\\nDirections: '{row['directions']}'\" # we join the textual columns to one text with some formatting, in hope the transformer can improve the embeddings\n",
    "\n",
    "def get_context_embedding_for_text_columns(data):\n",
    "    tokenizer = BertTokenizer.from_pretrained('bert-base-uncased')\n",
    "    model = BertModel.from_pretrained('bert-base-uncased')\n",
    "    model.to(device)\n",
    "    \n",
    "    joined_textual_columns = data.apply(join_textual_columns, axis=1)\n",
    "\n",
    "    texts = joined_textual_columns.tolist()  # Convert to list for batch processing\n",
    "    embeddings = get_context_embeddings_batch(texts, model, tokenizer)\n",
    "        \n",
    "    return np.array(embeddings)"
   ]
  },
  {
   "cell_type": "code",
   "execution_count": 219,
   "metadata": {},
   "outputs": [
    {
     "name": "stdout",
     "output_type": "stream",
     "text": [
      "0\n"
     ]
    },
    {
     "data": {
      "text/plain": [
       "(5, 768)"
      ]
     },
     "execution_count": 219,
     "metadata": {},
     "output_type": "execute_result"
    }
   ],
   "source": [
    "if runs_on_gpu:\n",
    "    context_embedding = get_context_embedding_for_text_columns(data)\n",
    "    np.save(directory+\"context_embedding.npy\", context_embedding)\n",
    "else:\n",
    "    context_embedding = get_context_embedding_for_text_columns(data.sample(5))\n",
    "context_embedding.shape"
   ]
  }
 ],
 "metadata": {
  "kernelspec": {
   "display_name": "DataProcessing",
   "language": "python",
   "name": "python3"
  },
  "language_info": {
   "codemirror_mode": {
    "name": "ipython",
    "version": 3
   },
   "file_extension": ".py",
   "mimetype": "text/x-python",
   "name": "python",
   "nbconvert_exporter": "python",
   "pygments_lexer": "ipython3",
   "version": "3.12.0"
  }
 },
 "nbformat": 4,
 "nbformat_minor": 2
}
