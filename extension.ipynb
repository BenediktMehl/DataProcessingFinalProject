{
  "cells": [
    {
      "cell_type": "code",
      "execution_count": 1,
      "metadata": {
        "id": "VWE_LzBuM8OD"
      },
      "outputs": [],
      "source": [
        "import pandas as pd\n",
        "import numpy as np\n",
        "import torch"
      ]
    },
    {
      "cell_type": "code",
      "execution_count": 2,
      "metadata": {
        "colab": {
          "base_uri": "https://localhost:8080/"
        },
        "id": "NvJuR4T_M8OE",
        "outputId": "172686fc-7a11-4640-a82b-2ab6d806c884"
      },
      "outputs": [
        {
          "name": "stdout",
          "output_type": "stream",
          "text": [
            "Runs on cuda\n"
          ]
        }
      ],
      "source": [
        "if torch.cuda.is_available():\n",
        "    device = torch.device('cuda')\n",
        "    runs_on_gpu = True\n",
        "else:\n",
        "    device = torch.device('cpu')\n",
        "    runs_on_gpu = False\n",
        "print(f\"Runs on {device.type}\")"
      ]
    },
    {
      "cell_type": "code",
      "execution_count": 3,
      "metadata": {
        "colab": {
          "base_uri": "https://localhost:8080/"
        },
        "id": "45QI-OSDM8OE",
        "outputId": "1c606bec-e8b4-4ab7-9b5f-9a7d3311d47e"
      },
      "outputs": [
        {
          "name": "stdout",
          "output_type": "stream",
          "text": [
            "<class 'pandas.core.frame.DataFrame'>\n",
            "Index: 20100 entries, 0 to 20099\n",
            "Data columns (total 11 columns):\n",
            " #   Column       Non-Null Count  Dtype         \n",
            "---  ------       --------------  -----         \n",
            " 0   directions   20100 non-null  object        \n",
            " 1   fat          15901 non-null  float64       \n",
            " 2   date         20100 non-null  datetime64[ns]\n",
            " 3   categories   20100 non-null  object        \n",
            " 4   calories     15969 non-null  float64       \n",
            " 5   desc         20100 non-null  object        \n",
            " 6   protein      15922 non-null  float64       \n",
            " 7   rating       20100 non-null  float64       \n",
            " 8   title        20100 non-null  object        \n",
            " 9   ingredients  20100 non-null  object        \n",
            " 10  sodium       15967 non-null  float64       \n",
            "dtypes: datetime64[ns](1), float64(5), object(5)\n",
            "memory usage: 1.8+ MB\n"
          ]
        }
      ],
      "source": [
        "data = pd.read_json('preprocessed_recipes.json')\n",
        "data.info()"
      ]
    },
    {
      "cell_type": "code",
      "execution_count": 4,
      "metadata": {
        "colab": {
          "base_uri": "https://localhost:8080/",
          "height": 625
        },
        "id": "kVFpShUWM8OE",
        "outputId": "0166afe1-8cbc-4c2b-f57f-cb8302194dfb"
      },
      "outputs": [
        {
          "data": {
            "application/vnd.google.colaboratory.intrinsic+json": {
              "summary": "{\n  \"name\": \"data\",\n  \"rows\": 20100,\n  \"fields\": [\n    {\n      \"column\": \"directions\",\n      \"properties\": {\n        \"dtype\": \"string\",\n        \"num_unique_values\": 18087,\n        \"samples\": [\n          \"Place rack in middle of oven. Set skillet on a rimmed baking sheet, place on rack, and preheat oven to 400\\u00b0F. Whisk flour, cornmeal, baking powder, and salt in a small bowl to combine. Lightly beat eggs in a medium bowl to blend; whisk in creamed corn, chiles, cheddar, and Monterey Jack. Mix butter and sugar in a large bowl with a wooden spoon just until butter absorbs sugar but butter is still in small pieces. Add egg mixture and mix until just combined. Mix in dry ingredients until barely incorporated. Remove skillet from oven and lightly coat with nonstick spray. Scrape in batter (it should sizzle on contact and stay slightly mounded in the center). Bake cornbread until top is golden brown and springs back when gently pressed, 35\\u201345 minutes. Let cool 10 minutes before serving.\",\n          \"Preheat oven to 325\\u00b0F. Flatten crust on lightly floured surface; press seams together if necessary. Fit into 9-inch-diameter glass pie dish; crimp edges. Arrange pineapple in crust. Combine sugar, flour and salt in medium bowl. Add eggs and butter and blend well. Pour batter evenly over pineapple. Sprinkle coconut and nuts over and press lightly into batter. Bake until light brown and center is firm to touch, about 1 hour 15 minutes. Transfer to rack and cool completely.\",\n          \"Cook fava beans in a medium saucepan of boiling salted water until tender, about 4 minutes. Using a mesh sieve, transfer to a colander set in a bowl of ice water. Drain and peel. Combine lemon juice, 2 Tbsp. oil, and half of fava beans in a medium bowl and lightly mash with a fork. Stir in remaining fava beans; season with kosher salt and pepper. Combine cucumbers and vinegar in a medium bowl; season with kosher salt. Let sit until slightly softened, 10\\u201312 minutes. Prepare a grill for medium-high, indirect heat (for a charcoal grill, bank coals on one side of grill; for a gas grill, leave one or two burners off); lightly oil grate. Working with 1 piece of dough at a time, gently stretch to about a 10x8\\\" oval. Grill over direct heat, turning and rotating as needed, until bread is stiff and both sides are lightly charred, about 3 minutes total. Move to indirect heat to keep warm while you grill the remaining piece of dough. Transfer flatbreads to a work surface. Tear burrata into pieces and divide between flatbreads; top with fava bean mixture, cucumbers, and basil. Sprinkle with sesame seeds, sea salt, and pepper. Fava beans can be cooked 3 days ahead. Cover and chill.\"\n        ],\n        \"semantic_type\": \"\",\n        \"description\": \"\"\n      }\n    },\n    {\n      \"column\": \"fat\",\n      \"properties\": {\n        \"dtype\": \"number\",\n        \"std\": 20435.516749232727,\n        \"min\": 0.0,\n        \"max\": 1722763.0,\n        \"num_unique_values\": 326,\n        \"samples\": [\n          1007.0,\n          221495.0,\n          313.0\n        ],\n        \"semantic_type\": \"\",\n        \"description\": \"\"\n      }\n    },\n    {\n      \"column\": \"date\",\n      \"properties\": {\n        \"dtype\": \"date\",\n        \"min\": \"1996-09-01 20:47:00\",\n        \"max\": \"2016-12-13 13:00:00\",\n        \"num_unique_values\": 4109,\n        \"samples\": [\n          \"2016-03-08 16:05:58.986000\",\n          \"2005-07-01 16:39:13\",\n          \"2015-04-16 04:00:00\"\n        ],\n        \"semantic_type\": \"\",\n        \"description\": \"\"\n      }\n    },\n    {\n      \"column\": \"categories\",\n      \"properties\": {\n        \"dtype\": \"object\",\n        \"semantic_type\": \"\",\n        \"description\": \"\"\n      }\n    },\n    {\n      \"column\": \"calories\",\n      \"properties\": {\n        \"dtype\": \"number\",\n        \"std\": 358663.6907507311,\n        \"min\": 0.0,\n        \"max\": 30111218.0,\n        \"num_unique_values\": 1860,\n        \"samples\": [\n          308.0,\n          469.0,\n          1383.0\n        ],\n        \"semantic_type\": \"\",\n        \"description\": \"\"\n      }\n    },\n    {\n      \"column\": \"desc\",\n      \"properties\": {\n        \"dtype\": \"string\",\n        \"num_unique_values\": 11072,\n        \"samples\": [\n          \"Steve Silverman of South Burlington, Vermont, writes: \\\"In my cooking I tend to be very quick and health-conscious. During the summer, my wife, Mary, and I usually grill chicken or fish and make salads. I'll use whatever fresh vegetables and ingredients I have on hand and come up with a wonderful meal for the two of us.\\\"\",\n          \"This sauce would also be terrific served with grilled fish or pasta.\",\n          \"A warming and filling main-course soup.\"\n        ],\n        \"semantic_type\": \"\",\n        \"description\": \"\"\n      }\n    },\n    {\n      \"column\": \"protein\",\n      \"properties\": {\n        \"dtype\": \"number\",\n        \"std\": 3836.4593708019224,\n        \"min\": 0.0,\n        \"max\": 236489.0,\n        \"num_unique_values\": 282,\n        \"samples\": [\n          81.0,\n          91.0,\n          200210.0\n        ],\n        \"semantic_type\": \"\",\n        \"description\": \"\"\n      }\n    },\n    {\n      \"column\": \"rating\",\n      \"properties\": {\n        \"dtype\": \"number\",\n        \"std\": 1.3431435358353951,\n        \"min\": 0.0,\n        \"max\": 5.0,\n        \"num_unique_values\": 8,\n        \"samples\": [\n          4.375,\n          1.875,\n          2.5\n        ],\n        \"semantic_type\": \"\",\n        \"description\": \"\"\n      }\n    },\n    {\n      \"column\": \"title\",\n      \"properties\": {\n        \"dtype\": \"string\",\n        \"num_unique_values\": 17766,\n        \"samples\": [\n          \"Orange, Spiced Walnut and Dried Cranberry Salad \",\n          \"Grill-Roasted Clam Linguine \",\n          \"Curried Chili Shrimp \"\n        ],\n        \"semantic_type\": \"\",\n        \"description\": \"\"\n      }\n    },\n    {\n      \"column\": \"ingredients\",\n      \"properties\": {\n        \"dtype\": \"object\",\n        \"semantic_type\": \"\",\n        \"description\": \"\"\n      }\n    },\n    {\n      \"column\": \"sodium\",\n      \"properties\": {\n        \"dtype\": \"number\",\n        \"std\": 332963.1997774249,\n        \"min\": 0.0,\n        \"max\": 27675110.0,\n        \"num_unique_values\": 2436,\n        \"samples\": [\n          1345.0,\n          3543.0,\n          1155.0\n        ],\n        \"semantic_type\": \"\",\n        \"description\": \"\"\n      }\n    }\n  ]\n}",
              "type": "dataframe",
              "variable_name": "data"
            },
            "text/html": [
              "\n",
              "  <div id=\"df-34d27672-f963-4e11-b12f-458ce7c3eee7\" class=\"colab-df-container\">\n",
              "    <div>\n",
              "<style scoped>\n",
              "    .dataframe tbody tr th:only-of-type {\n",
              "        vertical-align: middle;\n",
              "    }\n",
              "\n",
              "    .dataframe tbody tr th {\n",
              "        vertical-align: top;\n",
              "    }\n",
              "\n",
              "    .dataframe thead th {\n",
              "        text-align: right;\n",
              "    }\n",
              "</style>\n",
              "<table border=\"1\" class=\"dataframe\">\n",
              "  <thead>\n",
              "    <tr style=\"text-align: right;\">\n",
              "      <th></th>\n",
              "      <th>directions</th>\n",
              "      <th>fat</th>\n",
              "      <th>date</th>\n",
              "      <th>categories</th>\n",
              "      <th>calories</th>\n",
              "      <th>desc</th>\n",
              "      <th>protein</th>\n",
              "      <th>rating</th>\n",
              "      <th>title</th>\n",
              "      <th>ingredients</th>\n",
              "      <th>sodium</th>\n",
              "    </tr>\n",
              "  </thead>\n",
              "  <tbody>\n",
              "    <tr>\n",
              "      <th>0</th>\n",
              "      <td>1. Place the stock, lentils, celery, carrot, t...</td>\n",
              "      <td>7.0</td>\n",
              "      <td>2006-09-01 04:00:00</td>\n",
              "      <td>[Sandwich, Bean, Fruit, Tomato, turkey, Vegeta...</td>\n",
              "      <td>426.0</td>\n",
              "      <td></td>\n",
              "      <td>30.0</td>\n",
              "      <td>2.500</td>\n",
              "      <td>Lentil, Apple, and Turkey Wrap</td>\n",
              "      <td>[4 cups low-sodium vegetable or chicken stock,...</td>\n",
              "      <td>559.0</td>\n",
              "    </tr>\n",
              "    <tr>\n",
              "      <th>1</th>\n",
              "      <td>Combine first 9 ingredients in heavy medium sa...</td>\n",
              "      <td>23.0</td>\n",
              "      <td>2004-08-20 04:00:00</td>\n",
              "      <td>[Food Processor, Onion, Pork, Bake, Bastille D...</td>\n",
              "      <td>403.0</td>\n",
              "      <td>This uses the same ingredients found in boudin...</td>\n",
              "      <td>18.0</td>\n",
              "      <td>4.375</td>\n",
              "      <td>Boudin Blanc Terrine with Red Onion Confit</td>\n",
              "      <td>[1 1/2 cups whipping cream, 2 medium onions, c...</td>\n",
              "      <td>1439.0</td>\n",
              "    </tr>\n",
              "    <tr>\n",
              "      <th>2</th>\n",
              "      <td>In a large heavy saucepan cook diced fennel an...</td>\n",
              "      <td>7.0</td>\n",
              "      <td>2004-08-20 04:00:00</td>\n",
              "      <td>[Soup/Stew, Dairy, Potato, Vegetable, Fennel, ...</td>\n",
              "      <td>165.0</td>\n",
              "      <td></td>\n",
              "      <td>6.0</td>\n",
              "      <td>3.750</td>\n",
              "      <td>Potato and Fennel Soup Hodge</td>\n",
              "      <td>[1 fennel bulb (sometimes called anise), stalk...</td>\n",
              "      <td>165.0</td>\n",
              "    </tr>\n",
              "    <tr>\n",
              "      <th>3</th>\n",
              "      <td>Heat oil in heavy large skillet over medium-hi...</td>\n",
              "      <td>NaN</td>\n",
              "      <td>2009-03-27 04:00:00</td>\n",
              "      <td>[Fish, Olive, Tomato, Sauté, Low Fat, Low Cal,...</td>\n",
              "      <td>NaN</td>\n",
              "      <td>The Sicilian-style tomato sauce has tons of Me...</td>\n",
              "      <td>NaN</td>\n",
              "      <td>5.000</td>\n",
              "      <td>Mahi-Mahi in Tomato Olive Sauce</td>\n",
              "      <td>[2 tablespoons extra-virgin olive oil, 1 cup c...</td>\n",
              "      <td>NaN</td>\n",
              "    </tr>\n",
              "    <tr>\n",
              "      <th>4</th>\n",
              "      <td>Preheat oven to 350°F. Lightly grease 8x8x2-in...</td>\n",
              "      <td>32.0</td>\n",
              "      <td>2004-08-20 04:00:00</td>\n",
              "      <td>[Cheese, Dairy, Pasta, Vegetable, Side, Bake, ...</td>\n",
              "      <td>547.0</td>\n",
              "      <td></td>\n",
              "      <td>20.0</td>\n",
              "      <td>3.125</td>\n",
              "      <td>Spinach Noodle Casserole</td>\n",
              "      <td>[1 12-ounce package frozen spinach soufflé, th...</td>\n",
              "      <td>452.0</td>\n",
              "    </tr>\n",
              "  </tbody>\n",
              "</table>\n",
              "</div>\n",
              "    <div class=\"colab-df-buttons\">\n",
              "\n",
              "  <div class=\"colab-df-container\">\n",
              "    <button class=\"colab-df-convert\" onclick=\"convertToInteractive('df-34d27672-f963-4e11-b12f-458ce7c3eee7')\"\n",
              "            title=\"Convert this dataframe to an interactive table.\"\n",
              "            style=\"display:none;\">\n",
              "\n",
              "  <svg xmlns=\"http://www.w3.org/2000/svg\" height=\"24px\" viewBox=\"0 -960 960 960\">\n",
              "    <path d=\"M120-120v-720h720v720H120Zm60-500h600v-160H180v160Zm220 220h160v-160H400v160Zm0 220h160v-160H400v160ZM180-400h160v-160H180v160Zm440 0h160v-160H620v160ZM180-180h160v-160H180v160Zm440 0h160v-160H620v160Z\"/>\n",
              "  </svg>\n",
              "    </button>\n",
              "\n",
              "  <style>\n",
              "    .colab-df-container {\n",
              "      display:flex;\n",
              "      gap: 12px;\n",
              "    }\n",
              "\n",
              "    .colab-df-convert {\n",
              "      background-color: #E8F0FE;\n",
              "      border: none;\n",
              "      border-radius: 50%;\n",
              "      cursor: pointer;\n",
              "      display: none;\n",
              "      fill: #1967D2;\n",
              "      height: 32px;\n",
              "      padding: 0 0 0 0;\n",
              "      width: 32px;\n",
              "    }\n",
              "\n",
              "    .colab-df-convert:hover {\n",
              "      background-color: #E2EBFA;\n",
              "      box-shadow: 0px 1px 2px rgba(60, 64, 67, 0.3), 0px 1px 3px 1px rgba(60, 64, 67, 0.15);\n",
              "      fill: #174EA6;\n",
              "    }\n",
              "\n",
              "    .colab-df-buttons div {\n",
              "      margin-bottom: 4px;\n",
              "    }\n",
              "\n",
              "    [theme=dark] .colab-df-convert {\n",
              "      background-color: #3B4455;\n",
              "      fill: #D2E3FC;\n",
              "    }\n",
              "\n",
              "    [theme=dark] .colab-df-convert:hover {\n",
              "      background-color: #434B5C;\n",
              "      box-shadow: 0px 1px 3px 1px rgba(0, 0, 0, 0.15);\n",
              "      filter: drop-shadow(0px 1px 2px rgba(0, 0, 0, 0.3));\n",
              "      fill: #FFFFFF;\n",
              "    }\n",
              "  </style>\n",
              "\n",
              "    <script>\n",
              "      const buttonEl =\n",
              "        document.querySelector('#df-34d27672-f963-4e11-b12f-458ce7c3eee7 button.colab-df-convert');\n",
              "      buttonEl.style.display =\n",
              "        google.colab.kernel.accessAllowed ? 'block' : 'none';\n",
              "\n",
              "      async function convertToInteractive(key) {\n",
              "        const element = document.querySelector('#df-34d27672-f963-4e11-b12f-458ce7c3eee7');\n",
              "        const dataTable =\n",
              "          await google.colab.kernel.invokeFunction('convertToInteractive',\n",
              "                                                    [key], {});\n",
              "        if (!dataTable) return;\n",
              "\n",
              "        const docLinkHtml = 'Like what you see? Visit the ' +\n",
              "          '<a target=\"_blank\" href=https://colab.research.google.com/notebooks/data_table.ipynb>data table notebook</a>'\n",
              "          + ' to learn more about interactive tables.';\n",
              "        element.innerHTML = '';\n",
              "        dataTable['output_type'] = 'display_data';\n",
              "        await google.colab.output.renderOutput(dataTable, element);\n",
              "        const docLink = document.createElement('div');\n",
              "        docLink.innerHTML = docLinkHtml;\n",
              "        element.appendChild(docLink);\n",
              "      }\n",
              "    </script>\n",
              "  </div>\n",
              "\n",
              "\n",
              "<div id=\"df-e3d2e525-64e2-4ebe-86b7-1addb85897c9\">\n",
              "  <button class=\"colab-df-quickchart\" onclick=\"quickchart('df-e3d2e525-64e2-4ebe-86b7-1addb85897c9')\"\n",
              "            title=\"Suggest charts\"\n",
              "            style=\"display:none;\">\n",
              "\n",
              "<svg xmlns=\"http://www.w3.org/2000/svg\" height=\"24px\"viewBox=\"0 0 24 24\"\n",
              "     width=\"24px\">\n",
              "    <g>\n",
              "        <path d=\"M19 3H5c-1.1 0-2 .9-2 2v14c0 1.1.9 2 2 2h14c1.1 0 2-.9 2-2V5c0-1.1-.9-2-2-2zM9 17H7v-7h2v7zm4 0h-2V7h2v10zm4 0h-2v-4h2v4z\"/>\n",
              "    </g>\n",
              "</svg>\n",
              "  </button>\n",
              "\n",
              "<style>\n",
              "  .colab-df-quickchart {\n",
              "      --bg-color: #E8F0FE;\n",
              "      --fill-color: #1967D2;\n",
              "      --hover-bg-color: #E2EBFA;\n",
              "      --hover-fill-color: #174EA6;\n",
              "      --disabled-fill-color: #AAA;\n",
              "      --disabled-bg-color: #DDD;\n",
              "  }\n",
              "\n",
              "  [theme=dark] .colab-df-quickchart {\n",
              "      --bg-color: #3B4455;\n",
              "      --fill-color: #D2E3FC;\n",
              "      --hover-bg-color: #434B5C;\n",
              "      --hover-fill-color: #FFFFFF;\n",
              "      --disabled-bg-color: #3B4455;\n",
              "      --disabled-fill-color: #666;\n",
              "  }\n",
              "\n",
              "  .colab-df-quickchart {\n",
              "    background-color: var(--bg-color);\n",
              "    border: none;\n",
              "    border-radius: 50%;\n",
              "    cursor: pointer;\n",
              "    display: none;\n",
              "    fill: var(--fill-color);\n",
              "    height: 32px;\n",
              "    padding: 0;\n",
              "    width: 32px;\n",
              "  }\n",
              "\n",
              "  .colab-df-quickchart:hover {\n",
              "    background-color: var(--hover-bg-color);\n",
              "    box-shadow: 0 1px 2px rgba(60, 64, 67, 0.3), 0 1px 3px 1px rgba(60, 64, 67, 0.15);\n",
              "    fill: var(--button-hover-fill-color);\n",
              "  }\n",
              "\n",
              "  .colab-df-quickchart-complete:disabled,\n",
              "  .colab-df-quickchart-complete:disabled:hover {\n",
              "    background-color: var(--disabled-bg-color);\n",
              "    fill: var(--disabled-fill-color);\n",
              "    box-shadow: none;\n",
              "  }\n",
              "\n",
              "  .colab-df-spinner {\n",
              "    border: 2px solid var(--fill-color);\n",
              "    border-color: transparent;\n",
              "    border-bottom-color: var(--fill-color);\n",
              "    animation:\n",
              "      spin 1s steps(1) infinite;\n",
              "  }\n",
              "\n",
              "  @keyframes spin {\n",
              "    0% {\n",
              "      border-color: transparent;\n",
              "      border-bottom-color: var(--fill-color);\n",
              "      border-left-color: var(--fill-color);\n",
              "    }\n",
              "    20% {\n",
              "      border-color: transparent;\n",
              "      border-left-color: var(--fill-color);\n",
              "      border-top-color: var(--fill-color);\n",
              "    }\n",
              "    30% {\n",
              "      border-color: transparent;\n",
              "      border-left-color: var(--fill-color);\n",
              "      border-top-color: var(--fill-color);\n",
              "      border-right-color: var(--fill-color);\n",
              "    }\n",
              "    40% {\n",
              "      border-color: transparent;\n",
              "      border-right-color: var(--fill-color);\n",
              "      border-top-color: var(--fill-color);\n",
              "    }\n",
              "    60% {\n",
              "      border-color: transparent;\n",
              "      border-right-color: var(--fill-color);\n",
              "    }\n",
              "    80% {\n",
              "      border-color: transparent;\n",
              "      border-right-color: var(--fill-color);\n",
              "      border-bottom-color: var(--fill-color);\n",
              "    }\n",
              "    90% {\n",
              "      border-color: transparent;\n",
              "      border-bottom-color: var(--fill-color);\n",
              "    }\n",
              "  }\n",
              "</style>\n",
              "\n",
              "  <script>\n",
              "    async function quickchart(key) {\n",
              "      const quickchartButtonEl =\n",
              "        document.querySelector('#' + key + ' button');\n",
              "      quickchartButtonEl.disabled = true;  // To prevent multiple clicks.\n",
              "      quickchartButtonEl.classList.add('colab-df-spinner');\n",
              "      try {\n",
              "        const charts = await google.colab.kernel.invokeFunction(\n",
              "            'suggestCharts', [key], {});\n",
              "      } catch (error) {\n",
              "        console.error('Error during call to suggestCharts:', error);\n",
              "      }\n",
              "      quickchartButtonEl.classList.remove('colab-df-spinner');\n",
              "      quickchartButtonEl.classList.add('colab-df-quickchart-complete');\n",
              "    }\n",
              "    (() => {\n",
              "      let quickchartButtonEl =\n",
              "        document.querySelector('#df-e3d2e525-64e2-4ebe-86b7-1addb85897c9 button');\n",
              "      quickchartButtonEl.style.display =\n",
              "        google.colab.kernel.accessAllowed ? 'block' : 'none';\n",
              "    })();\n",
              "  </script>\n",
              "</div>\n",
              "\n",
              "    </div>\n",
              "  </div>\n"
            ],
            "text/plain": [
              "                                          directions   fat  \\\n",
              "0  1. Place the stock, lentils, celery, carrot, t...   7.0   \n",
              "1  Combine first 9 ingredients in heavy medium sa...  23.0   \n",
              "2  In a large heavy saucepan cook diced fennel an...   7.0   \n",
              "3  Heat oil in heavy large skillet over medium-hi...   NaN   \n",
              "4  Preheat oven to 350°F. Lightly grease 8x8x2-in...  32.0   \n",
              "\n",
              "                 date                                         categories  \\\n",
              "0 2006-09-01 04:00:00  [Sandwich, Bean, Fruit, Tomato, turkey, Vegeta...   \n",
              "1 2004-08-20 04:00:00  [Food Processor, Onion, Pork, Bake, Bastille D...   \n",
              "2 2004-08-20 04:00:00  [Soup/Stew, Dairy, Potato, Vegetable, Fennel, ...   \n",
              "3 2009-03-27 04:00:00  [Fish, Olive, Tomato, Sauté, Low Fat, Low Cal,...   \n",
              "4 2004-08-20 04:00:00  [Cheese, Dairy, Pasta, Vegetable, Side, Bake, ...   \n",
              "\n",
              "   calories                                               desc  protein  \\\n",
              "0     426.0                                                        30.0   \n",
              "1     403.0  This uses the same ingredients found in boudin...     18.0   \n",
              "2     165.0                                                         6.0   \n",
              "3       NaN  The Sicilian-style tomato sauce has tons of Me...      NaN   \n",
              "4     547.0                                                        20.0   \n",
              "\n",
              "   rating                                        title  \\\n",
              "0   2.500              Lentil, Apple, and Turkey Wrap    \n",
              "1   4.375  Boudin Blanc Terrine with Red Onion Confit    \n",
              "2   3.750                Potato and Fennel Soup Hodge    \n",
              "3   5.000             Mahi-Mahi in Tomato Olive Sauce    \n",
              "4   3.125                    Spinach Noodle Casserole    \n",
              "\n",
              "                                         ingredients  sodium  \n",
              "0  [4 cups low-sodium vegetable or chicken stock,...   559.0  \n",
              "1  [1 1/2 cups whipping cream, 2 medium onions, c...  1439.0  \n",
              "2  [1 fennel bulb (sometimes called anise), stalk...   165.0  \n",
              "3  [2 tablespoons extra-virgin olive oil, 1 cup c...     NaN  \n",
              "4  [1 12-ounce package frozen spinach soufflé, th...   452.0  "
            ]
          },
          "execution_count": 4,
          "metadata": {},
          "output_type": "execute_result"
        }
      ],
      "source": [
        "data.head()"
      ]
    },
    {
      "cell_type": "markdown",
      "metadata": {
        "id": "e_0JLLgiM8OF"
      },
      "source": [
        "## 4\n",
        "### Extension\n",
        "Generate new recipes based on random ingredients"
      ]
    },
    {
      "cell_type": "code",
      "execution_count": 5,
      "metadata": {
        "colab": {
          "base_uri": "https://localhost:8080/"
        },
        "id": "5emn11RDM8OF",
        "outputId": "a684322c-8ac2-458d-dd9c-70c253012159"
      },
      "outputs": [
        {
          "name": "stdout",
          "output_type": "stream",
          "text": [
            "['3 tablespoons sour cream', '1 cup finely diced cucumber', '2 tablespoons vegetable oil, divided', '2 tablespoons unsalted butter, plus more', '2 tablespoons cider vinegar', '1 14 1/2-ounce can Mexican-style stewed tomatoes', '3 tablespoons olive oil']\n"
          ]
        }
      ],
      "source": [
        "number_of_ingredients = np.random.randint(4, 8)\n",
        "random_ingredients_list = []\n",
        "for i in range(number_of_ingredients):\n",
        "    ingredients = data['ingredients'].sample().iloc[0]\n",
        "    if len(ingredients) == 0:\n",
        "        continue\n",
        "    random_ingredient = ingredients[np.random.randint(0, len(ingredients))]\n",
        "    random_ingredients_list.append(random_ingredient)\n",
        "\n",
        "random_ingredients = ', '.join(random_ingredients_list)\n",
        "print(random_ingredients_list)"
      ]
    },
    {
      "cell_type": "markdown",
      "metadata": {
        "id": "H8sK5YJQM8OF"
      },
      "source": [
        "### 4.1\n",
        "Fine tune transformer to give directions for random ingredients\n",
        "\n",
        "Tutorial from: https://colab.research.google.com/github/huggingface/notebooks/blob/main/examples/question_answering.ipynb"
      ]
    },
    {
      "cell_type": "code",
      "execution_count": 17,
      "metadata": {
        "id": "CsuO9CRFM8OF"
      },
      "outputs": [],
      "source": [
        "from transformers import AutoTokenizer"
      ]
    },
    {
      "cell_type": "code",
      "execution_count": 18,
      "metadata": {
        "id": "wAAdlL3lM8OG"
      },
      "outputs": [],
      "source": [
        "X = data['ingredients'].apply(lambda x: ', '.join(x)).tolist()\n",
        "y = data['directions'].tolist()"
      ]
    },
    {
      "cell_type": "code",
      "execution_count": 19,
      "metadata": {
        "colab": {
          "base_uri": "https://localhost:8080/"
        },
        "id": "kvj-4bShM8OG",
        "outputId": "c2d8e171-ad54-43d9-cfdb-39cc353a58f2"
      },
      "outputs": [
        {
          "name": "stderr",
          "output_type": "stream",
          "text": [
            "/Users/benedikt.mehl/Library/CloudStorage/OneDrive-MaibornWolffGmbH/Privat/Studium/Master_V/DataProcessing/Code/lib/python3.12/site-packages/transformers/tokenization_utils_base.py:3953: UserWarning: `as_target_tokenizer` is deprecated and will be removed in v5 of Transformers. You can tokenize your labels by using the argument `text_target` of the regular `__call__` method (either in the same call as your input texts if you use the same keyword arguments, or in a separate call.\n",
            "  warnings.warn(\n"
          ]
        }
      ],
      "source": [
        "tokenizer = AutoTokenizer.from_pretrained('t5-small')  # You can choose other models like `t5-base`, `gpt-2`, etc.\n",
        "\n",
        "def preprocess_function(X, y):\n",
        "    model_inputs = tokenizer(X, max_length=512, padding='max_length', truncation=True)\n",
        "    with tokenizer.as_target_tokenizer():\n",
        "        labels = tokenizer(y, max_length=512, padding='max_length', truncation=True)\n",
        "    model_inputs['labels'] = labels['input_ids']\n",
        "    return model_inputs\n",
        "\n",
        "tokenized_datasets = list(map(preprocess_function, X, y))"
      ]
    },
    {
      "cell_type": "code",
      "execution_count": 20,
      "metadata": {
        "id": "JgISTqQ4M8OG"
      },
      "outputs": [],
      "source": [
        "from sklearn.model_selection import train_test_split\n",
        "train, test = train_test_split(tokenized_datasets, test_size=0.2)"
      ]
    },
    {
      "cell_type": "code",
      "execution_count": 21,
      "metadata": {
        "colab": {
          "base_uri": "https://localhost:8080/"
        },
        "id": "bwvlknAzM8OG",
        "outputId": "0994e55e-da49-4dda-d604-42f889026503"
      },
      "outputs": [
        {
          "data": {
            "text/plain": [
              "T5ForConditionalGeneration(\n",
              "  (shared): Embedding(32128, 512)\n",
              "  (encoder): T5Stack(\n",
              "    (embed_tokens): Embedding(32128, 512)\n",
              "    (block): ModuleList(\n",
              "      (0): T5Block(\n",
              "        (layer): ModuleList(\n",
              "          (0): T5LayerSelfAttention(\n",
              "            (SelfAttention): T5Attention(\n",
              "              (q): Linear(in_features=512, out_features=512, bias=False)\n",
              "              (k): Linear(in_features=512, out_features=512, bias=False)\n",
              "              (v): Linear(in_features=512, out_features=512, bias=False)\n",
              "              (o): Linear(in_features=512, out_features=512, bias=False)\n",
              "              (relative_attention_bias): Embedding(32, 8)\n",
              "            )\n",
              "            (layer_norm): T5LayerNorm()\n",
              "            (dropout): Dropout(p=0.1, inplace=False)\n",
              "          )\n",
              "          (1): T5LayerFF(\n",
              "            (DenseReluDense): T5DenseActDense(\n",
              "              (wi): Linear(in_features=512, out_features=2048, bias=False)\n",
              "              (wo): Linear(in_features=2048, out_features=512, bias=False)\n",
              "              (dropout): Dropout(p=0.1, inplace=False)\n",
              "              (act): ReLU()\n",
              "            )\n",
              "            (layer_norm): T5LayerNorm()\n",
              "            (dropout): Dropout(p=0.1, inplace=False)\n",
              "          )\n",
              "        )\n",
              "      )\n",
              "      (1-5): 5 x T5Block(\n",
              "        (layer): ModuleList(\n",
              "          (0): T5LayerSelfAttention(\n",
              "            (SelfAttention): T5Attention(\n",
              "              (q): Linear(in_features=512, out_features=512, bias=False)\n",
              "              (k): Linear(in_features=512, out_features=512, bias=False)\n",
              "              (v): Linear(in_features=512, out_features=512, bias=False)\n",
              "              (o): Linear(in_features=512, out_features=512, bias=False)\n",
              "            )\n",
              "            (layer_norm): T5LayerNorm()\n",
              "            (dropout): Dropout(p=0.1, inplace=False)\n",
              "          )\n",
              "          (1): T5LayerFF(\n",
              "            (DenseReluDense): T5DenseActDense(\n",
              "              (wi): Linear(in_features=512, out_features=2048, bias=False)\n",
              "              (wo): Linear(in_features=2048, out_features=512, bias=False)\n",
              "              (dropout): Dropout(p=0.1, inplace=False)\n",
              "              (act): ReLU()\n",
              "            )\n",
              "            (layer_norm): T5LayerNorm()\n",
              "            (dropout): Dropout(p=0.1, inplace=False)\n",
              "          )\n",
              "        )\n",
              "      )\n",
              "    )\n",
              "    (final_layer_norm): T5LayerNorm()\n",
              "    (dropout): Dropout(p=0.1, inplace=False)\n",
              "  )\n",
              "  (decoder): T5Stack(\n",
              "    (embed_tokens): Embedding(32128, 512)\n",
              "    (block): ModuleList(\n",
              "      (0): T5Block(\n",
              "        (layer): ModuleList(\n",
              "          (0): T5LayerSelfAttention(\n",
              "            (SelfAttention): T5Attention(\n",
              "              (q): Linear(in_features=512, out_features=512, bias=False)\n",
              "              (k): Linear(in_features=512, out_features=512, bias=False)\n",
              "              (v): Linear(in_features=512, out_features=512, bias=False)\n",
              "              (o): Linear(in_features=512, out_features=512, bias=False)\n",
              "              (relative_attention_bias): Embedding(32, 8)\n",
              "            )\n",
              "            (layer_norm): T5LayerNorm()\n",
              "            (dropout): Dropout(p=0.1, inplace=False)\n",
              "          )\n",
              "          (1): T5LayerCrossAttention(\n",
              "            (EncDecAttention): T5Attention(\n",
              "              (q): Linear(in_features=512, out_features=512, bias=False)\n",
              "              (k): Linear(in_features=512, out_features=512, bias=False)\n",
              "              (v): Linear(in_features=512, out_features=512, bias=False)\n",
              "              (o): Linear(in_features=512, out_features=512, bias=False)\n",
              "            )\n",
              "            (layer_norm): T5LayerNorm()\n",
              "            (dropout): Dropout(p=0.1, inplace=False)\n",
              "          )\n",
              "          (2): T5LayerFF(\n",
              "            (DenseReluDense): T5DenseActDense(\n",
              "              (wi): Linear(in_features=512, out_features=2048, bias=False)\n",
              "              (wo): Linear(in_features=2048, out_features=512, bias=False)\n",
              "              (dropout): Dropout(p=0.1, inplace=False)\n",
              "              (act): ReLU()\n",
              "            )\n",
              "            (layer_norm): T5LayerNorm()\n",
              "            (dropout): Dropout(p=0.1, inplace=False)\n",
              "          )\n",
              "        )\n",
              "      )\n",
              "      (1-5): 5 x T5Block(\n",
              "        (layer): ModuleList(\n",
              "          (0): T5LayerSelfAttention(\n",
              "            (SelfAttention): T5Attention(\n",
              "              (q): Linear(in_features=512, out_features=512, bias=False)\n",
              "              (k): Linear(in_features=512, out_features=512, bias=False)\n",
              "              (v): Linear(in_features=512, out_features=512, bias=False)\n",
              "              (o): Linear(in_features=512, out_features=512, bias=False)\n",
              "            )\n",
              "            (layer_norm): T5LayerNorm()\n",
              "            (dropout): Dropout(p=0.1, inplace=False)\n",
              "          )\n",
              "          (1): T5LayerCrossAttention(\n",
              "            (EncDecAttention): T5Attention(\n",
              "              (q): Linear(in_features=512, out_features=512, bias=False)\n",
              "              (k): Linear(in_features=512, out_features=512, bias=False)\n",
              "              (v): Linear(in_features=512, out_features=512, bias=False)\n",
              "              (o): Linear(in_features=512, out_features=512, bias=False)\n",
              "            )\n",
              "            (layer_norm): T5LayerNorm()\n",
              "            (dropout): Dropout(p=0.1, inplace=False)\n",
              "          )\n",
              "          (2): T5LayerFF(\n",
              "            (DenseReluDense): T5DenseActDense(\n",
              "              (wi): Linear(in_features=512, out_features=2048, bias=False)\n",
              "              (wo): Linear(in_features=2048, out_features=512, bias=False)\n",
              "              (dropout): Dropout(p=0.1, inplace=False)\n",
              "              (act): ReLU()\n",
              "            )\n",
              "            (layer_norm): T5LayerNorm()\n",
              "            (dropout): Dropout(p=0.1, inplace=False)\n",
              "          )\n",
              "        )\n",
              "      )\n",
              "    )\n",
              "    (final_layer_norm): T5LayerNorm()\n",
              "    (dropout): Dropout(p=0.1, inplace=False)\n",
              "  )\n",
              "  (lm_head): Linear(in_features=512, out_features=32128, bias=False)\n",
              ")"
            ]
          },
          "execution_count": 21,
          "metadata": {},
          "output_type": "execute_result"
        }
      ],
      "source": [
        "from transformers import AutoModelForSeq2SeqLM\n",
        "\n",
        "model = AutoModelForSeq2SeqLM.from_pretrained('t5-small')\n",
        "model.to(device)"
      ]
    },
    {
      "cell_type": "code",
      "execution_count": 24,
      "metadata": {
        "colab": {
          "base_uri": "https://localhost:8080/",
          "height": 543
        },
        "id": "8ku-MBJmM8OG",
        "outputId": "dad71e3f-26a7-44f6-da26-d14eebe9c371"
      },
      "outputs": [
        {
          "name": "stderr",
          "output_type": "stream",
          "text": [
            "Passing a tuple of `past_key_values` is deprecated and will be removed in Transformers v4.48.0. You should pass an instance of `EncoderDecoderCache` instead, e.g. `past_key_values=EncoderDecoderCache.from_legacy_cache(past_key_values)`.\n"
          ]
        },
        {
          "data": {
            "text/html": [
              "\n",
              "    <div>\n",
              "      \n",
              "      <progress value='6030' max='6030' style='width:300px; height:20px; vertical-align: middle;'></progress>\n",
              "      [6030/6030 1:09:49, Epoch 3/3]\n",
              "    </div>\n",
              "    <table border=\"1\" class=\"dataframe\">\n",
              "  <thead>\n",
              " <tr style=\"text-align: left;\">\n",
              "      <th>Step</th>\n",
              "      <th>Training Loss</th>\n",
              "    </tr>\n",
              "  </thead>\n",
              "  <tbody>\n",
              "    <tr>\n",
              "      <td>500</td>\n",
              "      <td>2.626800</td>\n",
              "    </tr>\n",
              "    <tr>\n",
              "      <td>1000</td>\n",
              "      <td>1.385300</td>\n",
              "    </tr>\n",
              "    <tr>\n",
              "      <td>1500</td>\n",
              "      <td>1.287600</td>\n",
              "    </tr>\n",
              "    <tr>\n",
              "      <td>2000</td>\n",
              "      <td>1.265300</td>\n",
              "    </tr>\n",
              "    <tr>\n",
              "      <td>2500</td>\n",
              "      <td>1.212600</td>\n",
              "    </tr>\n",
              "    <tr>\n",
              "      <td>3000</td>\n",
              "      <td>1.234000</td>\n",
              "    </tr>\n",
              "    <tr>\n",
              "      <td>3500</td>\n",
              "      <td>1.207700</td>\n",
              "    </tr>\n",
              "    <tr>\n",
              "      <td>4000</td>\n",
              "      <td>1.203500</td>\n",
              "    </tr>\n",
              "    <tr>\n",
              "      <td>4500</td>\n",
              "      <td>1.178400</td>\n",
              "    </tr>\n",
              "    <tr>\n",
              "      <td>5000</td>\n",
              "      <td>1.186900</td>\n",
              "    </tr>\n",
              "    <tr>\n",
              "      <td>5500</td>\n",
              "      <td>1.183000</td>\n",
              "    </tr>\n",
              "    <tr>\n",
              "      <td>6000</td>\n",
              "      <td>1.161300</td>\n",
              "    </tr>\n",
              "  </tbody>\n",
              "</table><p>"
            ],
            "text/plain": [
              "<IPython.core.display.HTML object>"
            ]
          },
          "metadata": {},
          "output_type": "display_data"
        },
        {
          "data": {
            "text/plain": [
              "TrainOutput(global_step=6030, training_loss=1.3435772840458757, metrics={'train_runtime': 4192.2562, 'train_samples_per_second': 11.507, 'train_steps_per_second': 1.438, 'total_flos': 6528888503009280.0, 'train_loss': 1.3435772840458757, 'epoch': 3.0})"
            ]
          },
          "execution_count": 24,
          "metadata": {},
          "output_type": "execute_result"
        }
      ],
      "source": [
        "from transformers import TrainingArguments, Trainer\n",
        "\n",
        "training_args = TrainingArguments(\n",
        "    output_dir='./results',\n",
        "    #evaluation_strategy='epoch',\n",
        "    learning_rate=2e-5,\n",
        "    per_device_train_batch_size=12,\n",
        "    per_device_eval_batch_size=12,\n",
        "    num_train_epochs=3,  # You may need to adjust the number of epochs\n",
        "    weight_decay=0.01,\n",
        "    report_to=[],\n",
        ")\n",
        "\n",
        "trainer = Trainer(\n",
        "    model=model,\n",
        "    args=training_args,\n",
        "    train_dataset=train\n",
        ")\n",
        "\n",
        "trainer.train()"
      ]
    },
    {
      "cell_type": "code",
      "execution_count": null,
      "metadata": {
        "id": "Kq8a403GM8OG"
      },
      "outputs": [],
      "source": [
        "trainer.evaluate()\n",
        "model.save_pretrained('recipe-directions-model')\n",
        "tokenizer.save_pretrained('recipe-directions-tokenizer')"
      ]
    },
    {
      "cell_type": "code",
      "execution_count": 22,
      "metadata": {
        "id": "Z_X503n4M8OH"
      },
      "outputs": [
        {
          "name": "stdout",
          "output_type": "stream",
          "text": [
            "Generated Recipe Directions: 1 cup flour, 2 eggs, 1/2 cup milk\n"
          ]
        }
      ],
      "source": [
        "model.eval()\n",
        "\n",
        "ingredients = \"1 cup flour, 2 eggs, 1/2 cup milk\"\n",
        "inputs = tokenizer(ingredients, return_tensors='pt').input_ids\n",
        "\n",
        "outputs = model.generate(inputs, max_length=512, num_beams=4, early_stopping=True)\n",
        "print(\"Generated Recipe Directions:\", tokenizer.decode(outputs[0], skip_special_tokens=True))"
      ]
    },
    {
      "cell_type": "markdown",
      "metadata": {
        "id": "52POfyOSM8OH"
      },
      "source": [
        "### 4.2\n",
        "Compare to directions and title made by groq"
      ]
    },
    {
      "cell_type": "code",
      "execution_count": null,
      "metadata": {
        "id": "r_X7vZb8M8OH"
      },
      "outputs": [],
      "source": [
        "from groq import Groq\n",
        "import os\n",
        "from dotenv import load_dotenv\n",
        "import json"
      ]
    },
    {
      "cell_type": "code",
      "execution_count": null,
      "metadata": {
        "id": "Tf7UlYSaM8OH"
      },
      "outputs": [],
      "source": [
        "load_dotenv()\n",
        "\n",
        "API_KEY = os.getenv('API_KEY')\n",
        "\n",
        "client = Groq(\n",
        "    api_key=API_KEY\n",
        ")\n",
        "\n",
        "prompt = f'I have following ingredients: {random_ingredients}. Give title and directions for a recipe. Your answer is a json-file wrapped in ```. The json looks like this: {{ \"title\" : \"title\", \"directions\" : [\"direction1\",\"direction2\"] }}'\n",
        "\n",
        "chat_completion = client.chat.completions.create(\n",
        "    messages=[\n",
        "        {\n",
        "            \"role\": \"user\",\n",
        "            \"content\": prompt,\n",
        "        }\n",
        "    ],\n",
        "    model=\"llama3-8b-8192\",\n",
        ")\n",
        "reply = chat_completion.choices[0].message.content\n",
        "print(reply)"
      ]
    },
    {
      "cell_type": "code",
      "execution_count": null,
      "metadata": {
        "id": "bdQ77KC8M8OH"
      },
      "outputs": [],
      "source": [
        "new_recipe = reply[reply.find('```')+3:reply.rfind('```')]\n",
        "new_recipe = json.loads(new_recipe)\n",
        "new_recipe['ingredients'] = random_ingredients_list\n",
        "\n",
        "new_recipes = pd.read_json('new_recipes.json')\n",
        "\n",
        "new_recipe = pd.DataFrame([new_recipe])\n",
        "new_recipes = pd.concat([new_recipes, new_recipe], ignore_index=True)\n",
        "new_recipes.to_json('new_recipes.json')\n",
        "\n",
        "new_recipes.head()"
      ]
    },
    {
      "cell_type": "code",
      "execution_count": null,
      "metadata": {
        "id": "Vy-AsFacM8OH"
      },
      "outputs": [],
      "source": [
        "new_recipe"
      ]
    }
  ],
  "metadata": {
    "accelerator": "GPU",
    "colab": {
      "gpuType": "T4",
      "provenance": []
    },
    "kernelspec": {
      "display_name": "Python 3",
      "name": "python3"
    },
    "language_info": {
      "codemirror_mode": {
        "name": "ipython",
        "version": 3
      },
      "file_extension": ".py",
      "mimetype": "text/x-python",
      "name": "python",
      "nbconvert_exporter": "python",
      "pygments_lexer": "ipython3",
      "version": "3.12.0"
    }
  },
  "nbformat": 4,
  "nbformat_minor": 0
}
