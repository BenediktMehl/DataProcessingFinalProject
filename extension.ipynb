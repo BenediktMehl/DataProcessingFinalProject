{
  "cells": [
    {
      "cell_type": "code",
      "execution_count": 10,
      "metadata": {
        "id": "VWE_LzBuM8OD"
      },
      "outputs": [],
      "source": [
        "import pandas as pd\n",
        "import numpy as np\n",
        "import torch"
      ]
    },
    {
      "cell_type": "code",
      "execution_count": 11,
      "metadata": {
        "colab": {
          "base_uri": "https://localhost:8080/"
        },
        "id": "NvJuR4T_M8OE",
        "outputId": "172686fc-7a11-4640-a82b-2ab6d806c884"
      },
      "outputs": [
        {
          "name": "stdout",
          "output_type": "stream",
          "text": [
            "Runs on cpu\n"
          ]
        }
      ],
      "source": [
        "if torch.cuda.is_available():\n",
        "    device = torch.device('cuda')\n",
        "    runs_on_gpu = True\n",
        "else:\n",
        "    device = torch.device('cpu')\n",
        "    runs_on_gpu = False\n",
        "print(f\"Runs on {device.type}\")"
      ]
    },
    {
      "cell_type": "code",
      "execution_count": 12,
      "metadata": {
        "colab": {
          "base_uri": "https://localhost:8080/"
        },
        "id": "45QI-OSDM8OE",
        "outputId": "1c606bec-e8b4-4ab7-9b5f-9a7d3311d47e"
      },
      "outputs": [
        {
          "name": "stdout",
          "output_type": "stream",
          "text": [
            "<class 'pandas.core.frame.DataFrame'>\n",
            "Index: 20100 entries, 0 to 20099\n",
            "Data columns (total 14 columns):\n",
            " #   Column           Non-Null Count  Dtype         \n",
            "---  ------           --------------  -----         \n",
            " 0   directions       20100 non-null  object        \n",
            " 1   fat              15901 non-null  float64       \n",
            " 2   date             20100 non-null  datetime64[ns]\n",
            " 3   categories       20100 non-null  object        \n",
            " 4   calories         15969 non-null  float64       \n",
            " 5   desc             20100 non-null  object        \n",
            " 6   protein          15922 non-null  float64       \n",
            " 7   rating           20100 non-null  float64       \n",
            " 8   title            20100 non-null  object        \n",
            " 9   ingredients      20100 non-null  object        \n",
            " 10  sodium           15967 non-null  float64       \n",
            " 11  num_categories   20100 non-null  int64         \n",
            " 12  num_ingredients  20100 non-null  int64         \n",
            " 13  num_directions   20100 non-null  int64         \n",
            "dtypes: datetime64[ns](1), float64(5), int64(3), object(5)\n",
            "memory usage: 2.3+ MB\n"
          ]
        }
      ],
      "source": [
        "data = pd.read_json('preprocessed_recipes.json')\n",
        "data.info()"
      ]
    },
    {
      "cell_type": "code",
      "execution_count": 13,
      "metadata": {
        "colab": {
          "base_uri": "https://localhost:8080/",
          "height": 625
        },
        "id": "kVFpShUWM8OE",
        "outputId": "0166afe1-8cbc-4c2b-f57f-cb8302194dfb"
      },
      "outputs": [
        {
          "data": {
            "text/html": [
              "<div>\n",
              "<style scoped>\n",
              "    .dataframe tbody tr th:only-of-type {\n",
              "        vertical-align: middle;\n",
              "    }\n",
              "\n",
              "    .dataframe tbody tr th {\n",
              "        vertical-align: top;\n",
              "    }\n",
              "\n",
              "    .dataframe thead th {\n",
              "        text-align: right;\n",
              "    }\n",
              "</style>\n",
              "<table border=\"1\" class=\"dataframe\">\n",
              "  <thead>\n",
              "    <tr style=\"text-align: right;\">\n",
              "      <th></th>\n",
              "      <th>directions</th>\n",
              "      <th>fat</th>\n",
              "      <th>date</th>\n",
              "      <th>categories</th>\n",
              "      <th>calories</th>\n",
              "      <th>desc</th>\n",
              "      <th>protein</th>\n",
              "      <th>rating</th>\n",
              "      <th>title</th>\n",
              "      <th>ingredients</th>\n",
              "      <th>sodium</th>\n",
              "      <th>num_categories</th>\n",
              "      <th>num_ingredients</th>\n",
              "      <th>num_directions</th>\n",
              "    </tr>\n",
              "  </thead>\n",
              "  <tbody>\n",
              "    <tr>\n",
              "      <th>0</th>\n",
              "      <td>1. Place the stock, lentils, celery, carrot, t...</td>\n",
              "      <td>-0.016601</td>\n",
              "      <td>2006-09-01 04:00:00</td>\n",
              "      <td>[Sandwich, Bean, Fruit, Tomato, turkey, Vegeta...</td>\n",
              "      <td>-0.016407</td>\n",
              "      <td></td>\n",
              "      <td>-0.018242</td>\n",
              "      <td>2.500</td>\n",
              "      <td>Lentil, Apple, and Turkey Wrap</td>\n",
              "      <td>[4 cups low-sodium vegetable or chicken stock,...</td>\n",
              "      <td>-0.016984</td>\n",
              "      <td>11</td>\n",
              "      <td>15</td>\n",
              "      <td>3</td>\n",
              "    </tr>\n",
              "    <tr>\n",
              "      <th>1</th>\n",
              "      <td>Combine first 9 ingredients in heavy medium sa...</td>\n",
              "      <td>-0.015818</td>\n",
              "      <td>2004-08-20 04:00:00</td>\n",
              "      <td>[Food Processor, Onion, Pork, Bake, Bastille D...</td>\n",
              "      <td>-0.016471</td>\n",
              "      <td>This uses the same ingredients found in boudin...</td>\n",
              "      <td>-0.021370</td>\n",
              "      <td>4.375</td>\n",
              "      <td>Boudin Blanc Terrine with Red Onion Confit</td>\n",
              "      <td>[1 1/2 cups whipping cream, 2 medium onions, c...</td>\n",
              "      <td>-0.014341</td>\n",
              "      <td>11</td>\n",
              "      <td>28</td>\n",
              "      <td>5</td>\n",
              "    </tr>\n",
              "    <tr>\n",
              "      <th>2</th>\n",
              "      <td>In a large heavy saucepan cook diced fennel an...</td>\n",
              "      <td>-0.016601</td>\n",
              "      <td>2004-08-20 04:00:00</td>\n",
              "      <td>[Soup/Stew, Dairy, Potato, Vegetable, Fennel, ...</td>\n",
              "      <td>-0.017135</td>\n",
              "      <td></td>\n",
              "      <td>-0.024498</td>\n",
              "      <td>3.750</td>\n",
              "      <td>Potato and Fennel Soup Hodge</td>\n",
              "      <td>[1 fennel bulb (sometimes called anise), stalk...</td>\n",
              "      <td>-0.018168</td>\n",
              "      <td>7</td>\n",
              "      <td>6</td>\n",
              "      <td>2</td>\n",
              "    </tr>\n",
              "    <tr>\n",
              "      <th>3</th>\n",
              "      <td>Heat oil in heavy large skillet over medium-hi...</td>\n",
              "      <td>NaN</td>\n",
              "      <td>2009-03-27 04:00:00</td>\n",
              "      <td>[Fish, Olive, Tomato, Sauté, Low Fat, Low Cal,...</td>\n",
              "      <td>NaN</td>\n",
              "      <td>The Sicilian-style tomato sauce has tons of Me...</td>\n",
              "      <td>NaN</td>\n",
              "      <td>5.000</td>\n",
              "      <td>Mahi-Mahi in Tomato Olive Sauce</td>\n",
              "      <td>[2 tablespoons extra-virgin olive oil, 1 cup c...</td>\n",
              "      <td>NaN</td>\n",
              "      <td>17</td>\n",
              "      <td>10</td>\n",
              "      <td>2</td>\n",
              "    </tr>\n",
              "    <tr>\n",
              "      <th>4</th>\n",
              "      <td>Preheat oven to 350°F. Lightly grease 8x8x2-in...</td>\n",
              "      <td>-0.015378</td>\n",
              "      <td>2004-08-20 04:00:00</td>\n",
              "      <td>[Cheese, Dairy, Pasta, Vegetable, Side, Bake, ...</td>\n",
              "      <td>-0.016070</td>\n",
              "      <td></td>\n",
              "      <td>-0.020849</td>\n",
              "      <td>3.125</td>\n",
              "      <td>Spinach Noodle Casserole</td>\n",
              "      <td>[1 12-ounce package frozen spinach soufflé, th...</td>\n",
              "      <td>-0.017306</td>\n",
              "      <td>11</td>\n",
              "      <td>6</td>\n",
              "      <td>1</td>\n",
              "    </tr>\n",
              "  </tbody>\n",
              "</table>\n",
              "</div>"
            ],
            "text/plain": [
              "                                          directions       fat  \\\n",
              "0  1. Place the stock, lentils, celery, carrot, t... -0.016601   \n",
              "1  Combine first 9 ingredients in heavy medium sa... -0.015818   \n",
              "2  In a large heavy saucepan cook diced fennel an... -0.016601   \n",
              "3  Heat oil in heavy large skillet over medium-hi...       NaN   \n",
              "4  Preheat oven to 350°F. Lightly grease 8x8x2-in... -0.015378   \n",
              "\n",
              "                 date                                         categories  \\\n",
              "0 2006-09-01 04:00:00  [Sandwich, Bean, Fruit, Tomato, turkey, Vegeta...   \n",
              "1 2004-08-20 04:00:00  [Food Processor, Onion, Pork, Bake, Bastille D...   \n",
              "2 2004-08-20 04:00:00  [Soup/Stew, Dairy, Potato, Vegetable, Fennel, ...   \n",
              "3 2009-03-27 04:00:00  [Fish, Olive, Tomato, Sauté, Low Fat, Low Cal,...   \n",
              "4 2004-08-20 04:00:00  [Cheese, Dairy, Pasta, Vegetable, Side, Bake, ...   \n",
              "\n",
              "   calories                                               desc   protein  \\\n",
              "0 -0.016407                                                    -0.018242   \n",
              "1 -0.016471  This uses the same ingredients found in boudin... -0.021370   \n",
              "2 -0.017135                                                    -0.024498   \n",
              "3       NaN  The Sicilian-style tomato sauce has tons of Me...       NaN   \n",
              "4 -0.016070                                                    -0.020849   \n",
              "\n",
              "   rating                                        title  \\\n",
              "0   2.500              Lentil, Apple, and Turkey Wrap    \n",
              "1   4.375  Boudin Blanc Terrine with Red Onion Confit    \n",
              "2   3.750                Potato and Fennel Soup Hodge    \n",
              "3   5.000             Mahi-Mahi in Tomato Olive Sauce    \n",
              "4   3.125                    Spinach Noodle Casserole    \n",
              "\n",
              "                                         ingredients    sodium  \\\n",
              "0  [4 cups low-sodium vegetable or chicken stock,... -0.016984   \n",
              "1  [1 1/2 cups whipping cream, 2 medium onions, c... -0.014341   \n",
              "2  [1 fennel bulb (sometimes called anise), stalk... -0.018168   \n",
              "3  [2 tablespoons extra-virgin olive oil, 1 cup c...       NaN   \n",
              "4  [1 12-ounce package frozen spinach soufflé, th... -0.017306   \n",
              "\n",
              "   num_categories  num_ingredients  num_directions  \n",
              "0              11               15               3  \n",
              "1              11               28               5  \n",
              "2               7                6               2  \n",
              "3              17               10               2  \n",
              "4              11                6               1  "
            ]
          },
          "execution_count": 13,
          "metadata": {},
          "output_type": "execute_result"
        }
      ],
      "source": [
        "data.head()"
      ]
    },
    {
      "cell_type": "markdown",
      "metadata": {
        "id": "e_0JLLgiM8OF"
      },
      "source": [
        "## 4\n",
        "### Extension\n",
        "Generate new recipes based on random ingredients"
      ]
    },
    {
      "cell_type": "code",
      "execution_count": 14,
      "metadata": {
        "colab": {
          "base_uri": "https://localhost:8080/"
        },
        "id": "5emn11RDM8OF",
        "outputId": "a684322c-8ac2-458d-dd9c-70c253012159"
      },
      "outputs": [
        {
          "name": "stdout",
          "output_type": "stream",
          "text": [
            "['1 3/4 cups Pearl Oyster Bar Tartar Sauce', '6 tablespoons unsweetened cocoa powder', '8 garlic cloves, chopped', '3 garlic cloves, minced']\n"
          ]
        }
      ],
      "source": [
        "number_of_ingredients = np.random.randint(4, 8)\n",
        "random_ingredients_list = []\n",
        "for i in range(number_of_ingredients):\n",
        "    ingredients = data['ingredients'].sample().iloc[0]\n",
        "    if len(ingredients) == 0:\n",
        "        continue\n",
        "    random_ingredient = ingredients[np.random.randint(0, len(ingredients))]\n",
        "    random_ingredients_list.append(random_ingredient)\n",
        "\n",
        "random_ingredients = ', '.join(random_ingredients_list)\n",
        "print(random_ingredients_list)"
      ]
    },
    {
      "cell_type": "code",
      "execution_count": 16,
      "metadata": {},
      "outputs": [
        {
          "data": {
            "text/plain": [
              "'I have following ingredients: 1 3/4 cups Pearl Oyster Bar Tartar Sauce, 6 tablespoons unsweetened cocoa powder, 8 garlic cloves, chopped, 3 garlic cloves, minced. Give title and directions for a recipe. Your answer is a json-file wrapped in ```. The json looks like this: { \"title\" : \"title\", \"directions\" : [\"direction1\",\"direction2\"] }'"
            ]
          },
          "execution_count": 16,
          "metadata": {},
          "output_type": "execute_result"
        }
      ],
      "source": [
        "prompt = f'I have following ingredients: {random_ingredients}. Give title and directions for a recipe. Your answer is a json-file wrapped in ```. The json looks like this: {{ \"title\" : \"title\", \"directions\" : [\"direction1\",\"direction2\"] }}'\n",
        "prompt"
      ]
    },
    {
      "cell_type": "markdown",
      "metadata": {
        "id": "H8sK5YJQM8OF"
      },
      "source": [
        "### 4.1\n",
        "Fine tune transformer to give directions for random ingredients\n",
        "\n",
        "Tutorial from: https://colab.research.google.com/github/huggingface/notebooks/blob/main/examples/question_answering.ipynb"
      ]
    },
    {
      "cell_type": "code",
      "execution_count": 17,
      "metadata": {
        "id": "CsuO9CRFM8OF"
      },
      "outputs": [],
      "source": [
        "from transformers import AutoTokenizer, AutoModelForSeq2SeqLM"
      ]
    },
    {
      "cell_type": "code",
      "execution_count": 18,
      "metadata": {
        "colab": {
          "base_uri": "https://localhost:8080/"
        },
        "id": "kvj-4bShM8OG",
        "outputId": "c2d8e171-ad54-43d9-cfdb-39cc353a58f2"
      },
      "outputs": [],
      "source": [
        "tokenizer = AutoTokenizer.from_pretrained('t5-small')"
      ]
    },
    {
      "cell_type": "code",
      "execution_count": 22,
      "metadata": {},
      "outputs": [
        {
          "name": "stderr",
          "output_type": "stream",
          "text": [
            "huggingface/tokenizers: The current process just got forked, after parallelism has already been used. Disabling parallelism to avoid deadlocks...\n",
            "To disable this warning, you can either:\n",
            "\t- Avoid using `tokenizers` before the fork if possible\n",
            "\t- Explicitly set the environment variable TOKENIZERS_PARALLELISM=(true | false)\n"
          ]
        },
        {
          "data": {
            "text/plain": [
              "T5ForConditionalGeneration(\n",
              "  (shared): Embedding(32128, 2048)\n",
              "  (encoder): T5Stack(\n",
              "    (embed_tokens): Embedding(32128, 2048)\n",
              "    (block): ModuleList(\n",
              "      (0): T5Block(\n",
              "        (layer): ModuleList(\n",
              "          (0): T5LayerSelfAttention(\n",
              "            (SelfAttention): T5Attention(\n",
              "              (q): Linear(in_features=2048, out_features=2048, bias=False)\n",
              "              (k): Linear(in_features=2048, out_features=2048, bias=False)\n",
              "              (v): Linear(in_features=2048, out_features=2048, bias=False)\n",
              "              (o): Linear(in_features=2048, out_features=2048, bias=False)\n",
              "              (relative_attention_bias): Embedding(32, 32)\n",
              "            )\n",
              "            (layer_norm): T5LayerNorm()\n",
              "            (dropout): Dropout(p=0.1, inplace=False)\n",
              "          )\n",
              "          (1): T5LayerFF(\n",
              "            (DenseReluDense): T5DenseGatedActDense(\n",
              "              (wi_0): Linear(in_features=2048, out_features=5120, bias=False)\n",
              "              (wi_1): Linear(in_features=2048, out_features=5120, bias=False)\n",
              "              (wo): Linear(in_features=5120, out_features=2048, bias=False)\n",
              "              (dropout): Dropout(p=0.1, inplace=False)\n",
              "              (act): NewGELUActivation()\n",
              "            )\n",
              "            (layer_norm): T5LayerNorm()\n",
              "            (dropout): Dropout(p=0.1, inplace=False)\n",
              "          )\n",
              "        )\n",
              "      )\n",
              "      (1-23): 23 x T5Block(\n",
              "        (layer): ModuleList(\n",
              "          (0): T5LayerSelfAttention(\n",
              "            (SelfAttention): T5Attention(\n",
              "              (q): Linear(in_features=2048, out_features=2048, bias=False)\n",
              "              (k): Linear(in_features=2048, out_features=2048, bias=False)\n",
              "              (v): Linear(in_features=2048, out_features=2048, bias=False)\n",
              "              (o): Linear(in_features=2048, out_features=2048, bias=False)\n",
              "            )\n",
              "            (layer_norm): T5LayerNorm()\n",
              "            (dropout): Dropout(p=0.1, inplace=False)\n",
              "          )\n",
              "          (1): T5LayerFF(\n",
              "            (DenseReluDense): T5DenseGatedActDense(\n",
              "              (wi_0): Linear(in_features=2048, out_features=5120, bias=False)\n",
              "              (wi_1): Linear(in_features=2048, out_features=5120, bias=False)\n",
              "              (wo): Linear(in_features=5120, out_features=2048, bias=False)\n",
              "              (dropout): Dropout(p=0.1, inplace=False)\n",
              "              (act): NewGELUActivation()\n",
              "            )\n",
              "            (layer_norm): T5LayerNorm()\n",
              "            (dropout): Dropout(p=0.1, inplace=False)\n",
              "          )\n",
              "        )\n",
              "      )\n",
              "    )\n",
              "    (final_layer_norm): T5LayerNorm()\n",
              "    (dropout): Dropout(p=0.1, inplace=False)\n",
              "  )\n",
              "  (decoder): T5Stack(\n",
              "    (embed_tokens): Embedding(32128, 2048)\n",
              "    (block): ModuleList(\n",
              "      (0): T5Block(\n",
              "        (layer): ModuleList(\n",
              "          (0): T5LayerSelfAttention(\n",
              "            (SelfAttention): T5Attention(\n",
              "              (q): Linear(in_features=2048, out_features=2048, bias=False)\n",
              "              (k): Linear(in_features=2048, out_features=2048, bias=False)\n",
              "              (v): Linear(in_features=2048, out_features=2048, bias=False)\n",
              "              (o): Linear(in_features=2048, out_features=2048, bias=False)\n",
              "              (relative_attention_bias): Embedding(32, 32)\n",
              "            )\n",
              "            (layer_norm): T5LayerNorm()\n",
              "            (dropout): Dropout(p=0.1, inplace=False)\n",
              "          )\n",
              "          (1): T5LayerCrossAttention(\n",
              "            (EncDecAttention): T5Attention(\n",
              "              (q): Linear(in_features=2048, out_features=2048, bias=False)\n",
              "              (k): Linear(in_features=2048, out_features=2048, bias=False)\n",
              "              (v): Linear(in_features=2048, out_features=2048, bias=False)\n",
              "              (o): Linear(in_features=2048, out_features=2048, bias=False)\n",
              "            )\n",
              "            (layer_norm): T5LayerNorm()\n",
              "            (dropout): Dropout(p=0.1, inplace=False)\n",
              "          )\n",
              "          (2): T5LayerFF(\n",
              "            (DenseReluDense): T5DenseGatedActDense(\n",
              "              (wi_0): Linear(in_features=2048, out_features=5120, bias=False)\n",
              "              (wi_1): Linear(in_features=2048, out_features=5120, bias=False)\n",
              "              (wo): Linear(in_features=5120, out_features=2048, bias=False)\n",
              "              (dropout): Dropout(p=0.1, inplace=False)\n",
              "              (act): NewGELUActivation()\n",
              "            )\n",
              "            (layer_norm): T5LayerNorm()\n",
              "            (dropout): Dropout(p=0.1, inplace=False)\n",
              "          )\n",
              "        )\n",
              "      )\n",
              "      (1-23): 23 x T5Block(\n",
              "        (layer): ModuleList(\n",
              "          (0): T5LayerSelfAttention(\n",
              "            (SelfAttention): T5Attention(\n",
              "              (q): Linear(in_features=2048, out_features=2048, bias=False)\n",
              "              (k): Linear(in_features=2048, out_features=2048, bias=False)\n",
              "              (v): Linear(in_features=2048, out_features=2048, bias=False)\n",
              "              (o): Linear(in_features=2048, out_features=2048, bias=False)\n",
              "            )\n",
              "            (layer_norm): T5LayerNorm()\n",
              "            (dropout): Dropout(p=0.1, inplace=False)\n",
              "          )\n",
              "          (1): T5LayerCrossAttention(\n",
              "            (EncDecAttention): T5Attention(\n",
              "              (q): Linear(in_features=2048, out_features=2048, bias=False)\n",
              "              (k): Linear(in_features=2048, out_features=2048, bias=False)\n",
              "              (v): Linear(in_features=2048, out_features=2048, bias=False)\n",
              "              (o): Linear(in_features=2048, out_features=2048, bias=False)\n",
              "            )\n",
              "            (layer_norm): T5LayerNorm()\n",
              "            (dropout): Dropout(p=0.1, inplace=False)\n",
              "          )\n",
              "          (2): T5LayerFF(\n",
              "            (DenseReluDense): T5DenseGatedActDense(\n",
              "              (wi_0): Linear(in_features=2048, out_features=5120, bias=False)\n",
              "              (wi_1): Linear(in_features=2048, out_features=5120, bias=False)\n",
              "              (wo): Linear(in_features=5120, out_features=2048, bias=False)\n",
              "              (dropout): Dropout(p=0.1, inplace=False)\n",
              "              (act): NewGELUActivation()\n",
              "            )\n",
              "            (layer_norm): T5LayerNorm()\n",
              "            (dropout): Dropout(p=0.1, inplace=False)\n",
              "          )\n",
              "        )\n",
              "      )\n",
              "    )\n",
              "    (final_layer_norm): T5LayerNorm()\n",
              "    (dropout): Dropout(p=0.1, inplace=False)\n",
              "  )\n",
              "  (lm_head): Linear(in_features=2048, out_features=32128, bias=False)\n",
              ")"
            ]
          },
          "execution_count": 22,
          "metadata": {},
          "output_type": "execute_result"
        }
      ],
      "source": [
        "model = AutoModelForSeq2SeqLM.from_pretrained('google/t5-v1_1-xl')\n",
        "model.to(device)"
      ]
    },
    {
      "cell_type": "code",
      "execution_count": 23,
      "metadata": {
        "colab": {
          "base_uri": "https://localhost:8080/"
        },
        "id": "bwvlknAzM8OG",
        "outputId": "0994e55e-da49-4dda-d604-42f889026503"
      },
      "outputs": [
        {
          "name": "stdout",
          "output_type": "stream",
          "text": [
            "minced, 1 cup water, 1 cup milk, 1 cup milk, 1 cup water,\n"
          ]
        }
      ],
      "source": [
        "inputs = tokenizer(prompt, return_tensors='pt', max_length=512, truncation=True, padding='max_length').to(device)\n",
        "outputs = model.generate(**inputs)\n",
        "result = tokenizer.decode(outputs[0], skip_special_tokens=True)\n",
        "print(result)"
      ]
    },
    {
      "cell_type": "markdown",
      "metadata": {
        "id": "52POfyOSM8OH"
      },
      "source": [
        "### 4.2\n",
        "Compare to directions and title made by groq"
      ]
    },
    {
      "cell_type": "code",
      "execution_count": null,
      "metadata": {
        "id": "r_X7vZb8M8OH"
      },
      "outputs": [],
      "source": [
        "from groq import Groq\n",
        "import os\n",
        "from dotenv import load_dotenv\n",
        "import json"
      ]
    },
    {
      "cell_type": "code",
      "execution_count": null,
      "metadata": {
        "id": "Tf7UlYSaM8OH"
      },
      "outputs": [],
      "source": [
        "load_dotenv()\n",
        "\n",
        "API_KEY = os.getenv('API_KEY')\n",
        "\n",
        "client = Groq(\n",
        "    api_key=API_KEY\n",
        ")\n",
        "\n",
        "chat_completion = client.chat.completions.create(\n",
        "    messages=[\n",
        "        {\n",
        "            \"role\": \"user\",\n",
        "            \"content\": prompt,\n",
        "        }\n",
        "    ],\n",
        "    model=\"llama3-8b-8192\",\n",
        ")\n",
        "reply = chat_completion.choices[0].message.content\n",
        "print(reply)"
      ]
    },
    {
      "cell_type": "code",
      "execution_count": null,
      "metadata": {
        "id": "bdQ77KC8M8OH"
      },
      "outputs": [],
      "source": [
        "new_recipe = reply[reply.find('```')+3:reply.rfind('```')]\n",
        "new_recipe = json.loads(new_recipe)\n",
        "new_recipe['ingredients'] = random_ingredients_list\n",
        "\n",
        "new_recipes = pd.read_json('new_recipes.json')\n",
        "\n",
        "new_recipe = pd.DataFrame([new_recipe])\n",
        "new_recipes = pd.concat([new_recipes, new_recipe], ignore_index=True)\n",
        "new_recipes.to_json('new_recipes.json')\n",
        "\n",
        "new_recipes.head()"
      ]
    },
    {
      "cell_type": "code",
      "execution_count": null,
      "metadata": {
        "id": "Vy-AsFacM8OH"
      },
      "outputs": [],
      "source": [
        "new_recipe"
      ]
    }
  ],
  "metadata": {
    "accelerator": "GPU",
    "colab": {
      "gpuType": "T4",
      "provenance": []
    },
    "kernelspec": {
      "display_name": "Python 3",
      "name": "python3"
    },
    "language_info": {
      "codemirror_mode": {
        "name": "ipython",
        "version": 3
      },
      "file_extension": ".py",
      "mimetype": "text/x-python",
      "name": "python",
      "nbconvert_exporter": "python",
      "pygments_lexer": "ipython3",
      "version": "3.12.0"
    }
  },
  "nbformat": 4,
  "nbformat_minor": 0
}
